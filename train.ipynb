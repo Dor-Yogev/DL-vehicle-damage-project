{
 "cells": [
  {
   "cell_type": "code",
   "execution_count": 1,
   "metadata": {},
   "outputs": [
    {
     "name": "stderr",
     "output_type": "stream",
     "text": [
      "c:\\Users\\doryo\\Desktop\\deep_learning\\Project\\convnext.py:158: UserWarning: Overwriting convnext_tiny in registry with convnext.convnext_tiny. This is because the name being registered conflicts with an existing name. Please check if this is not expected.\n",
      "  @register_model\n",
      "c:\\Users\\doryo\\Desktop\\deep_learning\\Project\\convnext.py:167: UserWarning: Overwriting convnext_small in registry with convnext.convnext_small. This is because the name being registered conflicts with an existing name. Please check if this is not expected.\n",
      "  @register_model\n",
      "c:\\Users\\doryo\\Desktop\\deep_learning\\Project\\convnext.py:176: UserWarning: Overwriting convnext_base in registry with convnext.convnext_base. This is because the name being registered conflicts with an existing name. Please check if this is not expected.\n",
      "  @register_model\n",
      "c:\\Users\\doryo\\Desktop\\deep_learning\\Project\\convnext.py:185: UserWarning: Overwriting convnext_large in registry with convnext.convnext_large. This is because the name being registered conflicts with an existing name. Please check if this is not expected.\n",
      "  @register_model\n",
      "c:\\Users\\doryo\\Desktop\\deep_learning\\Project\\convnext.py:194: UserWarning: Overwriting convnext_xlarge in registry with convnext.convnext_xlarge. This is because the name being registered conflicts with an existing name. Please check if this is not expected.\n",
      "  @register_model\n"
     ]
    }
   ],
   "source": [
    "import torch\n",
    "import torch.nn as nn\n",
    "from torch.utils.data import DataLoader\n",
    "from torchvision import transforms\n",
    "from tqdm import tqdm\n",
    "from dataset import get_datasets\n",
    "from model import get_model\n",
    "from kornia import augmentation as K\n",
    "from kornia.augmentation import AugmentationSequential\n",
    "import time\n",
    "import os\n",
    "\n",
    "device = torch.device(\"cuda:0\" if torch.cuda.is_available() else \"cpu\") "
   ]
  },
  {
   "cell_type": "code",
   "execution_count": 2,
   "metadata": {},
   "outputs": [],
   "source": [
    "image_dims = (224, 224)\n",
    "\n",
    "transform = transforms.Compose([\n",
    "    transforms.Resize(image_dims),\n",
    "    transforms.ToTensor(),\n",
    "    transforms.Normalize(mean=[0.4772, 0.4597, 0.4612], std=[0.2997, 0.2808, 0.2837])\n",
    "])\n",
    "\n",
    "train_dataset, val_dataset, _ = get_datasets(transform)"
   ]
  },
  {
   "cell_type": "code",
   "execution_count": 3,
   "metadata": {},
   "outputs": [],
   "source": [
    "# model\n",
    "model = get_model().to(device)\n",
    "\n",
    "# hyper parameters from optuna\n",
    "batch_size = 32\n",
    "lr_slow = 0.00014\n",
    "weight_decay_slow = 0.00113\n",
    "lr_fast = 0.00942\n",
    "weight_decay_fast = 0.00183\n",
    "\n",
    "optimizer_slow = torch.optim.Adam([{'params':model.stages[3].parameters()},\n",
    "                                    {'params':model.norm.parameters()}], lr=lr_slow , weight_decay=weight_decay_slow)\n",
    "optimizer_fast = torch.optim.Adam(model.head.parameters(), lr=lr_fast, weight_decay=weight_decay_fast)\n",
    "\n",
    "# hyper parameters not from optuna\n",
    "epochs = 200\n",
    "criterion = nn.CrossEntropyLoss()\n",
    "scheduler_slow = torch.optim.lr_scheduler.MultiStepLR(optimizer_slow, milestones=[75, 150], gamma=0.1)\n",
    "scheduler_fast = torch.optim.lr_scheduler.MultiStepLR(optimizer_fast, milestones=[75, 150], gamma=0.1)\n"
   ]
  },
  {
   "cell_type": "code",
   "execution_count": 4,
   "metadata": {},
   "outputs": [],
   "source": [
    "train_loader = DataLoader(train_dataset, batch_size=batch_size, shuffle=True, num_workers=0)\n",
    "val_loader = DataLoader(val_dataset, batch_size=batch_size, shuffle=False, num_workers=0)"
   ]
  },
  {
   "cell_type": "code",
   "execution_count": 5,
   "metadata": {},
   "outputs": [],
   "source": [
    "# Augmentations\n",
    "\n",
    "aug_list = AugmentationSequential(\n",
    "    K.ColorJitter(0.1, 0.1, 0.1, 0.1, p=0.9),\n",
    "    K.RandomHorizontalFlip(p=0.5),\n",
    "    K.RandomAffine(degrees=15.0, translate=(0.1, 0.1), scale=(0.8, 1.2), shear=(10.0, 10.0), p=0.5),\n",
    "    K.RandomGaussianNoise(std=0.05, p=0.9),\n",
    "    K.RandomCrop(size=(224, 224), padding=None, p=0.2),\n",
    "    same_on_batch=False\n",
    ")"
   ]
  },
  {
   "cell_type": "code",
   "execution_count": 6,
   "metadata": {},
   "outputs": [],
   "source": [
    "# function to calcualte accuracy of the model\n",
    "def calculate_accuracy(model, dataloader):\n",
    "    model.eval()\n",
    "    \n",
    "    correct = 0\n",
    "    with torch.no_grad():\n",
    "        for data in dataloader:\n",
    "            images, labels = data\n",
    "            images = images.to(device)\n",
    "            labels = labels.to(device)\n",
    "\n",
    "            outputs = model(images)\n",
    "            pred = outputs.argmax(dim=1, keepdim=True)\n",
    "            correct += pred.eq(labels.view_as(pred)).sum().item()\n",
    "\n",
    "    accuracy = (correct / len(dataloader.dataset)) * 100\n",
    "\n",
    "    return accuracy\n"
   ]
  },
  {
   "cell_type": "code",
   "execution_count": 7,
   "metadata": {},
   "outputs": [
    {
     "name": "stdout",
     "output_type": "stream",
     "text": [
      "==> Start Training ...\n"
     ]
    },
    {
     "name": "stderr",
     "output_type": "stream",
     "text": [
      "  0%|          | 0/200 [00:00<?, ?it/s]"
     ]
    },
    {
     "name": "stdout",
     "output_type": "stream",
     "text": [
      "Epoch: 1 | Loss: 0.7785 | Training accuracy: 82.428% | Val accuracy: 80.140% | Epoch Time: 195.69 secs\n",
      "==> Saving model ...\n"
     ]
    },
    {
     "name": "stderr",
     "output_type": "stream",
     "text": [
      "  0%|          | 1/200 [03:15<10:49:47, 195.92s/it]"
     ]
    },
    {
     "name": "stdout",
     "output_type": "stream",
     "text": [
      "Epoch: 2 | Loss: 0.4270 | Training accuracy: 87.801% | Val accuracy: 82.347% | Epoch Time: 179.71 secs\n",
      "==> Saving model ...\n"
     ]
    },
    {
     "name": "stderr",
     "output_type": "stream",
     "text": [
      "  1%|          | 2/200 [06:15<10:15:30, 186.52s/it]"
     ]
    },
    {
     "name": "stdout",
     "output_type": "stream",
     "text": [
      "Epoch: 3 | Loss: 0.2937 | Training accuracy: 89.751% | Val accuracy: 85.958% | Epoch Time: 180.34 secs\n",
      "==> Saving model ...\n"
     ]
    },
    {
     "name": "stderr",
     "output_type": "stream",
     "text": [
      "  2%|▏         | 3/200 [09:16<10:03:30, 183.81s/it]"
     ]
    },
    {
     "name": "stdout",
     "output_type": "stream",
     "text": [
      "Epoch: 4 | Loss: 0.1980 | Training accuracy: 92.505% | Val accuracy: 87.462% | Epoch Time: 200.91 secs\n",
      "==> Saving model ...\n"
     ]
    },
    {
     "name": "stderr",
     "output_type": "stream",
     "text": [
      "  2%|▎         | 5/200 [15:58<10:31:08, 194.20s/it]"
     ]
    },
    {
     "name": "stdout",
     "output_type": "stream",
     "text": [
      "Epoch: 5 | Loss: 0.1732 | Training accuracy: 90.746% | Val accuracy: 85.858% | Epoch Time: 200.48 secs\n",
      "Epoch: 6 | Loss: 0.1422 | Training accuracy: 95.315% | Val accuracy: 91.876% | Epoch Time: 200.79 secs\n",
      "==> Saving model ...\n"
     ]
    },
    {
     "name": "stderr",
     "output_type": "stream",
     "text": [
      "  3%|▎         | 6/200 [19:19<10:35:23, 196.52s/it]"
     ]
    },
    {
     "name": "stdout",
     "output_type": "stream",
     "text": [
      "Epoch: 7 | Loss: 0.1178 | Training accuracy: 95.966% | Val accuracy: 92.076% | Epoch Time: 199.72 secs\n",
      "==> Saving model ...\n"
     ]
    },
    {
     "name": "stderr",
     "output_type": "stream",
     "text": [
      "  4%|▍         | 8/200 [26:01<10:37:05, 199.09s/it]"
     ]
    },
    {
     "name": "stdout",
     "output_type": "stream",
     "text": [
      "Epoch: 8 | Loss: 0.1196 | Training accuracy: 94.627% | Val accuracy: 90.973% | Epoch Time: 202.19 secs\n"
     ]
    },
    {
     "name": "stderr",
     "output_type": "stream",
     "text": [
      "  4%|▍         | 9/200 [29:23<10:36:54, 200.07s/it]"
     ]
    },
    {
     "name": "stdout",
     "output_type": "stream",
     "text": [
      "Epoch: 9 | Loss: 0.0996 | Training accuracy: 95.239% | Val accuracy: 91.675% | Epoch Time: 202.23 secs\n",
      "Epoch: 10 | Loss: 0.0979 | Training accuracy: 95.602% | Val accuracy: 92.477% | Epoch Time: 199.09 secs\n",
      "==> Saving model ...\n"
     ]
    },
    {
     "name": "stderr",
     "output_type": "stream",
     "text": [
      "  5%|▌         | 10/200 [32:42<10:32:49, 199.84s/it]"
     ]
    },
    {
     "name": "stdout",
     "output_type": "stream",
     "text": [
      "Epoch: 11 | Loss: 0.0859 | Training accuracy: 96.214% | Val accuracy: 92.879% | Epoch Time: 201.74 secs\n",
      "==> Saving model ...\n"
     ]
    },
    {
     "name": "stderr",
     "output_type": "stream",
     "text": [
      "  6%|▌         | 12/200 [39:26<10:29:42, 200.97s/it]"
     ]
    },
    {
     "name": "stdout",
     "output_type": "stream",
     "text": [
      "Epoch: 12 | Loss: 0.0940 | Training accuracy: 96.692% | Val accuracy: 92.277% | Epoch Time: 201.88 secs\n",
      "Epoch: 13 | Loss: 0.0740 | Training accuracy: 97.495% | Val accuracy: 94.483% | Epoch Time: 191.46 secs\n",
      "==> Saving model ...\n"
     ]
    },
    {
     "name": "stderr",
     "output_type": "stream",
     "text": [
      "  7%|▋         | 14/200 [45:47<10:06:02, 195.50s/it]"
     ]
    },
    {
     "name": "stdout",
     "output_type": "stream",
     "text": [
      "Epoch: 14 | Loss: 0.1017 | Training accuracy: 96.769% | Val accuracy: 93.079% | Epoch Time: 189.35 secs\n"
     ]
    },
    {
     "name": "stderr",
     "output_type": "stream",
     "text": [
      "  8%|▊         | 15/200 [49:06<10:05:32, 196.39s/it]"
     ]
    },
    {
     "name": "stdout",
     "output_type": "stream",
     "text": [
      "Epoch: 15 | Loss: 0.0813 | Training accuracy: 96.501% | Val accuracy: 93.982% | Epoch Time: 198.46 secs\n"
     ]
    },
    {
     "name": "stderr",
     "output_type": "stream",
     "text": [
      "  8%|▊         | 16/200 [52:29<10:08:10, 198.32s/it]"
     ]
    },
    {
     "name": "stdout",
     "output_type": "stream",
     "text": [
      "Epoch: 16 | Loss: 0.0709 | Training accuracy: 96.444% | Val accuracy: 93.681% | Epoch Time: 202.78 secs\n"
     ]
    },
    {
     "name": "stderr",
     "output_type": "stream",
     "text": [
      "  8%|▊         | 17/200 [55:46<10:04:07, 198.07s/it]"
     ]
    },
    {
     "name": "stdout",
     "output_type": "stream",
     "text": [
      "Epoch: 17 | Loss: 0.0744 | Training accuracy: 97.419% | Val accuracy: 94.183% | Epoch Time: 197.50 secs\n"
     ]
    },
    {
     "name": "stderr",
     "output_type": "stream",
     "text": [
      "  9%|▉         | 18/200 [59:02<9:58:42, 197.38s/it] "
     ]
    },
    {
     "name": "stdout",
     "output_type": "stream",
     "text": [
      "Epoch: 18 | Loss: 0.0621 | Training accuracy: 97.839% | Val accuracy: 94.383% | Epoch Time: 195.77 secs\n"
     ]
    },
    {
     "name": "stderr",
     "output_type": "stream",
     "text": [
      " 10%|▉         | 19/200 [1:02:13<9:49:34, 195.44s/it]"
     ]
    },
    {
     "name": "stdout",
     "output_type": "stream",
     "text": [
      "Epoch: 19 | Loss: 0.0718 | Training accuracy: 96.291% | Val accuracy: 92.377% | Epoch Time: 190.91 secs\n",
      "Epoch: 20 | Loss: 0.0723 | Training accuracy: 97.648% | Val accuracy: 94.483% | Epoch Time: 193.64 secs\n",
      "==> Saving model ...\n"
     ]
    },
    {
     "name": "stderr",
     "output_type": "stream",
     "text": [
      " 10%|█         | 20/200 [1:05:27<9:44:59, 195.00s/it]"
     ]
    },
    {
     "name": "stdout",
     "output_type": "stream",
     "text": [
      "Epoch: 21 | Loss: 0.0649 | Training accuracy: 97.763% | Val accuracy: 94.684% | Epoch Time: 194.39 secs\n",
      "==> Saving model ...\n"
     ]
    },
    {
     "name": "stderr",
     "output_type": "stream",
     "text": [
      " 11%|█         | 22/200 [1:12:02<9:43:18, 196.62s/it]"
     ]
    },
    {
     "name": "stdout",
     "output_type": "stream",
     "text": [
      "Epoch: 22 | Loss: 0.0631 | Training accuracy: 97.686% | Val accuracy: 94.183% | Epoch Time: 200.64 secs\n",
      "Epoch: 23 | Loss: 0.0656 | Training accuracy: 98.050% | Val accuracy: 95.486% | Epoch Time: 201.07 secs\n",
      "==> Saving model ...\n"
     ]
    },
    {
     "name": "stderr",
     "output_type": "stream",
     "text": [
      " 12%|█▏        | 23/200 [1:15:23<9:44:10, 198.03s/it]"
     ]
    },
    {
     "name": "stdout",
     "output_type": "stream",
     "text": [
      "Epoch: 24 | Loss: 0.0593 | Training accuracy: 98.394% | Val accuracy: 95.687% | Epoch Time: 198.61 secs\n",
      "==> Saving model ...\n"
     ]
    },
    {
     "name": "stderr",
     "output_type": "stream",
     "text": [
      " 12%|█▎        | 25/200 [1:21:52<9:31:05, 195.80s/it]"
     ]
    },
    {
     "name": "stdout",
     "output_type": "stream",
     "text": [
      "Epoch: 25 | Loss: 0.0676 | Training accuracy: 97.897% | Val accuracy: 95.186% | Epoch Time: 190.00 secs\n"
     ]
    },
    {
     "name": "stderr",
     "output_type": "stream",
     "text": [
      " 13%|█▎        | 26/200 [1:25:00<9:20:58, 193.44s/it]"
     ]
    },
    {
     "name": "stdout",
     "output_type": "stream",
     "text": [
      "Epoch: 26 | Loss: 0.0675 | Training accuracy: 98.432% | Val accuracy: 94.885% | Epoch Time: 187.93 secs\n"
     ]
    },
    {
     "name": "stderr",
     "output_type": "stream",
     "text": [
      " 14%|█▎        | 27/200 [1:28:14<9:17:39, 193.40s/it]"
     ]
    },
    {
     "name": "stdout",
     "output_type": "stream",
     "text": [
      "Epoch: 27 | Loss: 0.0712 | Training accuracy: 98.184% | Val accuracy: 95.486% | Epoch Time: 193.32 secs\n"
     ]
    },
    {
     "name": "stderr",
     "output_type": "stream",
     "text": [
      " 14%|█▍        | 28/200 [1:31:18<9:06:38, 190.69s/it]"
     ]
    },
    {
     "name": "stdout",
     "output_type": "stream",
     "text": [
      "Epoch: 28 | Loss: 0.0569 | Training accuracy: 98.356% | Val accuracy: 95.587% | Epoch Time: 184.36 secs\n"
     ]
    },
    {
     "name": "stderr",
     "output_type": "stream",
     "text": [
      " 14%|█▍        | 29/200 [1:34:29<9:03:41, 190.77s/it]"
     ]
    },
    {
     "name": "stdout",
     "output_type": "stream",
     "text": [
      "Epoch: 29 | Loss: 0.0667 | Training accuracy: 97.553% | Val accuracy: 94.784% | Epoch Time: 190.95 secs\n"
     ]
    },
    {
     "name": "stderr",
     "output_type": "stream",
     "text": [
      " 15%|█▌        | 30/200 [1:37:47<9:07:05, 193.09s/it]"
     ]
    },
    {
     "name": "stdout",
     "output_type": "stream",
     "text": [
      "Epoch: 30 | Loss: 0.0579 | Training accuracy: 98.203% | Val accuracy: 94.985% | Epoch Time: 198.52 secs\n"
     ]
    },
    {
     "name": "stderr",
     "output_type": "stream",
     "text": [
      " 16%|█▌        | 31/200 [1:40:59<9:02:18, 192.53s/it]"
     ]
    },
    {
     "name": "stdout",
     "output_type": "stream",
     "text": [
      "Epoch: 31 | Loss: 0.0556 | Training accuracy: 98.566% | Val accuracy: 94.483% | Epoch Time: 191.23 secs\n"
     ]
    },
    {
     "name": "stderr",
     "output_type": "stream",
     "text": [
      " 16%|█▌        | 32/200 [1:44:04<8:52:59, 190.35s/it]"
     ]
    },
    {
     "name": "stdout",
     "output_type": "stream",
     "text": [
      "Epoch: 32 | Loss: 0.0548 | Training accuracy: 98.375% | Val accuracy: 94.784% | Epoch Time: 185.27 secs\n"
     ]
    },
    {
     "name": "stderr",
     "output_type": "stream",
     "text": [
      " 16%|█▋        | 33/200 [1:47:14<8:49:53, 190.38s/it]"
     ]
    },
    {
     "name": "stdout",
     "output_type": "stream",
     "text": [
      "Epoch: 33 | Loss: 0.0586 | Training accuracy: 98.241% | Val accuracy: 94.985% | Epoch Time: 190.45 secs\n"
     ]
    },
    {
     "name": "stderr",
     "output_type": "stream",
     "text": [
      " 17%|█▋        | 34/200 [1:50:25<8:46:55, 190.46s/it]"
     ]
    },
    {
     "name": "stdout",
     "output_type": "stream",
     "text": [
      "Epoch: 34 | Loss: 0.0486 | Training accuracy: 98.547% | Val accuracy: 94.985% | Epoch Time: 190.63 secs\n"
     ]
    },
    {
     "name": "stderr",
     "output_type": "stream",
     "text": [
      " 18%|█▊        | 35/200 [1:53:36<8:44:00, 190.55s/it]"
     ]
    },
    {
     "name": "stdout",
     "output_type": "stream",
     "text": [
      "Epoch: 35 | Loss: 0.0530 | Training accuracy: 97.667% | Val accuracy: 94.283% | Epoch Time: 190.76 secs\n"
     ]
    },
    {
     "name": "stderr",
     "output_type": "stream",
     "text": [
      " 18%|█▊        | 36/200 [1:57:19<9:07:13, 200.20s/it]"
     ]
    },
    {
     "name": "stdout",
     "output_type": "stream",
     "text": [
      "Epoch: 36 | Loss: 0.0501 | Training accuracy: 98.394% | Val accuracy: 94.584% | Epoch Time: 222.72 secs\n"
     ]
    },
    {
     "name": "stderr",
     "output_type": "stream",
     "text": [
      " 18%|█▊        | 37/200 [2:00:41<9:05:55, 200.95s/it]"
     ]
    },
    {
     "name": "stdout",
     "output_type": "stream",
     "text": [
      "Epoch: 37 | Loss: 0.0601 | Training accuracy: 98.394% | Val accuracy: 95.186% | Epoch Time: 202.71 secs\n",
      "Epoch: 38 | Loss: 0.0436 | Training accuracy: 98.948% | Val accuracy: 95.787% | Epoch Time: 190.06 secs\n",
      "==> Saving model ...\n"
     ]
    },
    {
     "name": "stderr",
     "output_type": "stream",
     "text": [
      " 19%|█▉        | 38/200 [2:03:51<8:53:55, 197.75s/it]"
     ]
    },
    {
     "name": "stdout",
     "output_type": "stream",
     "text": [
      "Epoch: 39 | Loss: 0.0427 | Training accuracy: 98.853% | Val accuracy: 96.389% | Epoch Time: 189.70 secs\n",
      "==> Saving model ...\n"
     ]
    },
    {
     "name": "stderr",
     "output_type": "stream",
     "text": [
      " 20%|██        | 40/200 [2:10:12<8:37:33, 194.09s/it]"
     ]
    },
    {
     "name": "stdout",
     "output_type": "stream",
     "text": [
      "Epoch: 40 | Loss: 0.0348 | Training accuracy: 98.337% | Val accuracy: 95.486% | Epoch Time: 191.02 secs\n"
     ]
    },
    {
     "name": "stderr",
     "output_type": "stream",
     "text": [
      " 20%|██        | 41/200 [2:13:34<8:40:38, 196.47s/it]"
     ]
    },
    {
     "name": "stdout",
     "output_type": "stream",
     "text": [
      "Epoch: 41 | Loss: 0.0493 | Training accuracy: 98.834% | Val accuracy: 95.687% | Epoch Time: 202.02 secs\n"
     ]
    },
    {
     "name": "stderr",
     "output_type": "stream",
     "text": [
      " 21%|██        | 42/200 [2:16:50<8:36:23, 196.10s/it]"
     ]
    },
    {
     "name": "stdout",
     "output_type": "stream",
     "text": [
      "Epoch: 42 | Loss: 0.0525 | Training accuracy: 98.470% | Val accuracy: 94.885% | Epoch Time: 195.23 secs\n"
     ]
    },
    {
     "name": "stderr",
     "output_type": "stream",
     "text": [
      " 22%|██▏       | 43/200 [2:19:58<8:27:16, 193.87s/it]"
     ]
    },
    {
     "name": "stdout",
     "output_type": "stream",
     "text": [
      "Epoch: 43 | Loss: 0.0520 | Training accuracy: 98.088% | Val accuracy: 95.286% | Epoch Time: 188.66 secs\n"
     ]
    },
    {
     "name": "stderr",
     "output_type": "stream",
     "text": [
      " 22%|██▏       | 44/200 [2:23:10<8:22:16, 193.18s/it]"
     ]
    },
    {
     "name": "stdout",
     "output_type": "stream",
     "text": [
      "Epoch: 44 | Loss: 0.0371 | Training accuracy: 97.132% | Val accuracy: 93.480% | Epoch Time: 191.58 secs\n"
     ]
    },
    {
     "name": "stderr",
     "output_type": "stream",
     "text": [
      " 22%|██▎       | 45/200 [2:26:22<8:18:25, 192.94s/it]"
     ]
    },
    {
     "name": "stdout",
     "output_type": "stream",
     "text": [
      "Epoch: 45 | Loss: 0.0424 | Training accuracy: 97.533% | Val accuracy: 94.684% | Epoch Time: 192.37 secs\n",
      "Epoch: 46 | Loss: 0.0550 | Training accuracy: 99.101% | Val accuracy: 96.489% | Epoch Time: 186.33 secs\n",
      "==> Saving model ...\n"
     ]
    },
    {
     "name": "stderr",
     "output_type": "stream",
     "text": [
      " 24%|██▎       | 47/200 [2:32:38<8:05:23, 190.35s/it]"
     ]
    },
    {
     "name": "stdout",
     "output_type": "stream",
     "text": [
      "Epoch: 47 | Loss: 0.0514 | Training accuracy: 98.509% | Val accuracy: 94.784% | Epoch Time: 188.76 secs\n"
     ]
    },
    {
     "name": "stderr",
     "output_type": "stream",
     "text": [
      " 24%|██▍       | 48/200 [2:35:40<7:56:31, 188.10s/it]"
     ]
    },
    {
     "name": "stdout",
     "output_type": "stream",
     "text": [
      "Epoch: 48 | Loss: 0.0521 | Training accuracy: 95.793% | Val accuracy: 91.675% | Epoch Time: 182.85 secs\n"
     ]
    },
    {
     "name": "stderr",
     "output_type": "stream",
     "text": [
      " 24%|██▍       | 49/200 [2:38:41<7:47:41, 185.84s/it]"
     ]
    },
    {
     "name": "stdout",
     "output_type": "stream",
     "text": [
      "Epoch: 49 | Loss: 0.0482 | Training accuracy: 98.470% | Val accuracy: 94.383% | Epoch Time: 180.55 secs\n"
     ]
    },
    {
     "name": "stderr",
     "output_type": "stream",
     "text": [
      " 25%|██▌       | 50/200 [2:41:42<7:41:06, 184.44s/it]"
     ]
    },
    {
     "name": "stdout",
     "output_type": "stream",
     "text": [
      "Epoch: 50 | Loss: 0.0422 | Training accuracy: 98.184% | Val accuracy: 94.684% | Epoch Time: 181.19 secs\n"
     ]
    },
    {
     "name": "stderr",
     "output_type": "stream",
     "text": [
      " 26%|██▌       | 51/200 [2:44:51<7:41:08, 185.70s/it]"
     ]
    },
    {
     "name": "stdout",
     "output_type": "stream",
     "text": [
      "Epoch: 51 | Loss: 0.0326 | Training accuracy: 98.738% | Val accuracy: 94.885% | Epoch Time: 188.62 secs\n"
     ]
    },
    {
     "name": "stderr",
     "output_type": "stream",
     "text": [
      " 26%|██▌       | 52/200 [2:47:59<7:40:03, 186.51s/it]"
     ]
    },
    {
     "name": "stdout",
     "output_type": "stream",
     "text": [
      "Epoch: 52 | Loss: 0.0519 | Training accuracy: 97.782% | Val accuracy: 94.283% | Epoch Time: 188.42 secs\n"
     ]
    },
    {
     "name": "stderr",
     "output_type": "stream",
     "text": [
      " 26%|██▋       | 53/200 [2:51:00<7:32:40, 184.77s/it]"
     ]
    },
    {
     "name": "stdout",
     "output_type": "stream",
     "text": [
      "Epoch: 53 | Loss: 0.0437 | Training accuracy: 98.451% | Val accuracy: 95.186% | Epoch Time: 180.69 secs\n"
     ]
    },
    {
     "name": "stderr",
     "output_type": "stream",
     "text": [
      " 27%|██▋       | 54/200 [2:54:02<7:27:49, 184.04s/it]"
     ]
    },
    {
     "name": "stdout",
     "output_type": "stream",
     "text": [
      "Epoch: 54 | Loss: 0.0439 | Training accuracy: 98.566% | Val accuracy: 95.386% | Epoch Time: 182.34 secs\n"
     ]
    },
    {
     "name": "stderr",
     "output_type": "stream",
     "text": [
      " 28%|██▊       | 55/200 [2:57:05<7:24:02, 183.74s/it]"
     ]
    },
    {
     "name": "stdout",
     "output_type": "stream",
     "text": [
      "Epoch: 55 | Loss: 0.0451 | Training accuracy: 98.795% | Val accuracy: 96.088% | Epoch Time: 183.05 secs\n"
     ]
    },
    {
     "name": "stderr",
     "output_type": "stream",
     "text": [
      " 28%|██▊       | 56/200 [3:00:07<7:19:12, 183.00s/it]"
     ]
    },
    {
     "name": "stdout",
     "output_type": "stream",
     "text": [
      "Epoch: 56 | Loss: 0.0459 | Training accuracy: 99.025% | Val accuracy: 95.085% | Epoch Time: 181.28 secs\n"
     ]
    },
    {
     "name": "stderr",
     "output_type": "stream",
     "text": [
      " 28%|██▊       | 57/200 [3:03:07<7:14:36, 182.35s/it]"
     ]
    },
    {
     "name": "stdout",
     "output_type": "stream",
     "text": [
      "Epoch: 57 | Loss: 0.0428 | Training accuracy: 97.820% | Val accuracy: 93.079% | Epoch Time: 180.83 secs\n"
     ]
    },
    {
     "name": "stderr",
     "output_type": "stream",
     "text": [
      " 29%|██▉       | 58/200 [3:06:07<7:09:52, 181.64s/it]"
     ]
    },
    {
     "name": "stdout",
     "output_type": "stream",
     "text": [
      "Epoch: 58 | Loss: 0.0390 | Training accuracy: 97.380% | Val accuracy: 94.985% | Epoch Time: 179.97 secs\n"
     ]
    },
    {
     "name": "stderr",
     "output_type": "stream",
     "text": [
      " 30%|██▉       | 59/200 [3:09:12<7:08:57, 182.53s/it]"
     ]
    },
    {
     "name": "stdout",
     "output_type": "stream",
     "text": [
      "Epoch: 59 | Loss: 0.0464 | Training accuracy: 97.342% | Val accuracy: 93.480% | Epoch Time: 184.63 secs\n"
     ]
    },
    {
     "name": "stderr",
     "output_type": "stream",
     "text": [
      " 30%|███       | 60/200 [3:12:24<7:12:32, 185.37s/it]"
     ]
    },
    {
     "name": "stdout",
     "output_type": "stream",
     "text": [
      "Epoch: 60 | Loss: 0.0427 | Training accuracy: 98.566% | Val accuracy: 94.784% | Epoch Time: 192.00 secs\n"
     ]
    },
    {
     "name": "stderr",
     "output_type": "stream",
     "text": [
      " 30%|███       | 61/200 [3:15:36<7:14:09, 187.41s/it]"
     ]
    },
    {
     "name": "stdout",
     "output_type": "stream",
     "text": [
      "Epoch: 61 | Loss: 0.0441 | Training accuracy: 98.967% | Val accuracy: 96.389% | Epoch Time: 192.16 secs\n"
     ]
    },
    {
     "name": "stderr",
     "output_type": "stream",
     "text": [
      " 31%|███       | 62/200 [3:18:56<7:19:17, 191.00s/it]"
     ]
    },
    {
     "name": "stdout",
     "output_type": "stream",
     "text": [
      "Epoch: 62 | Loss: 0.0474 | Training accuracy: 98.891% | Val accuracy: 95.486% | Epoch Time: 199.37 secs\n"
     ]
    },
    {
     "name": "stderr",
     "output_type": "stream",
     "text": [
      " 32%|███▏      | 63/200 [3:22:07<7:16:05, 190.99s/it]"
     ]
    },
    {
     "name": "stdout",
     "output_type": "stream",
     "text": [
      "Epoch: 63 | Loss: 0.0373 | Training accuracy: 98.681% | Val accuracy: 96.088% | Epoch Time: 190.98 secs\n",
      "Epoch: 64 | Loss: 0.0288 | Training accuracy: 99.140% | Val accuracy: 96.590% | Epoch Time: 189.88 secs\n",
      "==> Saving model ...\n"
     ]
    },
    {
     "name": "stderr",
     "output_type": "stream",
     "text": [
      " 32%|███▎      | 65/200 [3:28:27<7:08:32, 190.46s/it]"
     ]
    },
    {
     "name": "stdout",
     "output_type": "stream",
     "text": [
      "Epoch: 65 | Loss: 0.0465 | Training accuracy: 98.279% | Val accuracy: 94.082% | Epoch Time: 189.82 secs\n"
     ]
    },
    {
     "name": "stderr",
     "output_type": "stream",
     "text": [
      " 33%|███▎      | 66/200 [3:31:44<7:10:05, 192.58s/it]"
     ]
    },
    {
     "name": "stdout",
     "output_type": "stream",
     "text": [
      "Epoch: 66 | Loss: 0.0433 | Training accuracy: 98.642% | Val accuracy: 96.088% | Epoch Time: 197.51 secs\n"
     ]
    },
    {
     "name": "stderr",
     "output_type": "stream",
     "text": [
      " 34%|███▎      | 67/200 [3:35:24<7:25:16, 200.88s/it]"
     ]
    },
    {
     "name": "stdout",
     "output_type": "stream",
     "text": [
      "Epoch: 67 | Loss: 0.0335 | Training accuracy: 99.025% | Val accuracy: 95.787% | Epoch Time: 220.24 secs\n"
     ]
    },
    {
     "name": "stderr",
     "output_type": "stream",
     "text": [
      " 34%|███▍      | 68/200 [3:38:58<7:30:22, 204.71s/it]"
     ]
    },
    {
     "name": "stdout",
     "output_type": "stream",
     "text": [
      "Epoch: 68 | Loss: 0.0527 | Training accuracy: 97.973% | Val accuracy: 94.684% | Epoch Time: 213.66 secs\n"
     ]
    },
    {
     "name": "stderr",
     "output_type": "stream",
     "text": [
      " 34%|███▍      | 69/200 [3:42:19<7:24:19, 203.51s/it]"
     ]
    },
    {
     "name": "stdout",
     "output_type": "stream",
     "text": [
      "Epoch: 69 | Loss: 0.0363 | Training accuracy: 98.585% | Val accuracy: 94.985% | Epoch Time: 200.70 secs\n"
     ]
    },
    {
     "name": "stderr",
     "output_type": "stream",
     "text": [
      " 35%|███▌      | 70/200 [3:45:42<7:20:48, 203.45s/it]"
     ]
    },
    {
     "name": "stdout",
     "output_type": "stream",
     "text": [
      "Epoch: 70 | Loss: 0.0317 | Training accuracy: 98.126% | Val accuracy: 94.383% | Epoch Time: 203.32 secs\n"
     ]
    },
    {
     "name": "stderr",
     "output_type": "stream",
     "text": [
      " 36%|███▌      | 71/200 [3:49:04<7:16:14, 202.90s/it]"
     ]
    },
    {
     "name": "stdout",
     "output_type": "stream",
     "text": [
      "Epoch: 71 | Loss: 0.0317 | Training accuracy: 99.044% | Val accuracy: 96.088% | Epoch Time: 201.62 secs\n"
     ]
    },
    {
     "name": "stderr",
     "output_type": "stream",
     "text": [
      " 36%|███▌      | 72/200 [3:52:28<7:14:08, 203.50s/it]"
     ]
    },
    {
     "name": "stdout",
     "output_type": "stream",
     "text": [
      "Epoch: 72 | Loss: 0.0476 | Training accuracy: 98.642% | Val accuracy: 95.888% | Epoch Time: 204.90 secs\n"
     ]
    },
    {
     "name": "stderr",
     "output_type": "stream",
     "text": [
      " 36%|███▋      | 73/200 [3:55:56<7:13:29, 204.80s/it]"
     ]
    },
    {
     "name": "stdout",
     "output_type": "stream",
     "text": [
      "Epoch: 73 | Loss: 0.0349 | Training accuracy: 98.776% | Val accuracy: 95.587% | Epoch Time: 207.81 secs\n"
     ]
    },
    {
     "name": "stderr",
     "output_type": "stream",
     "text": [
      " 37%|███▋      | 74/200 [3:59:23<7:11:33, 205.51s/it]"
     ]
    },
    {
     "name": "stdout",
     "output_type": "stream",
     "text": [
      "Epoch: 74 | Loss: 0.0334 | Training accuracy: 98.853% | Val accuracy: 96.389% | Epoch Time: 207.16 secs\n"
     ]
    },
    {
     "name": "stderr",
     "output_type": "stream",
     "text": [
      " 38%|███▊      | 75/200 [4:02:53<7:10:25, 206.60s/it]"
     ]
    },
    {
     "name": "stdout",
     "output_type": "stream",
     "text": [
      "Epoch: 75 | Loss: 0.0428 | Training accuracy: 98.432% | Val accuracy: 95.085% | Epoch Time: 209.15 secs\n",
      "Epoch: 76 | Loss: 0.0202 | Training accuracy: 99.369% | Val accuracy: 97.091% | Epoch Time: 202.68 secs\n",
      "==> Saving model ...\n"
     ]
    },
    {
     "name": "stderr",
     "output_type": "stream",
     "text": [
      " 38%|███▊      | 76/200 [4:06:16<7:04:42, 205.50s/it]"
     ]
    },
    {
     "name": "stdout",
     "output_type": "stream",
     "text": [
      "Epoch: 77 | Loss: 0.0159 | Training accuracy: 99.446% | Val accuracy: 97.292% | Epoch Time: 203.01 secs\n",
      "==> Saving model ...\n"
     ]
    },
    {
     "name": "stderr",
     "output_type": "stream",
     "text": [
      " 39%|███▉      | 78/200 [4:13:00<6:54:33, 203.88s/it]"
     ]
    },
    {
     "name": "stdout",
     "output_type": "stream",
     "text": [
      "Epoch: 78 | Loss: 0.0080 | Training accuracy: 99.426% | Val accuracy: 96.790% | Epoch Time: 201.69 secs\n",
      "Epoch: 79 | Loss: 0.0085 | Training accuracy: 99.350% | Val accuracy: 97.392% | Epoch Time: 203.28 secs\n",
      "==> Saving model ...\n"
     ]
    },
    {
     "name": "stderr",
     "output_type": "stream",
     "text": [
      " 40%|███▉      | 79/200 [4:16:24<6:50:56, 203.77s/it]"
     ]
    },
    {
     "name": "stdout",
     "output_type": "stream",
     "text": [
      "Epoch: 80 | Loss: 0.0098 | Training accuracy: 99.369% | Val accuracy: 97.392% | Epoch Time: 204.75 secs\n",
      "==> Saving model ...\n"
     ]
    },
    {
     "name": "stderr",
     "output_type": "stream",
     "text": [
      " 40%|████      | 80/200 [4:19:49<6:48:16, 204.13s/it]"
     ]
    },
    {
     "name": "stdout",
     "output_type": "stream",
     "text": [
      "Epoch: 81 | Loss: 0.0082 | Training accuracy: 99.465% | Val accuracy: 97.392% | Epoch Time: 204.95 secs\n",
      "==> Saving model ...\n"
     ]
    },
    {
     "name": "stderr",
     "output_type": "stream",
     "text": [
      " 41%|████      | 82/200 [4:26:37<6:40:50, 203.82s/it]"
     ]
    },
    {
     "name": "stdout",
     "output_type": "stream",
     "text": [
      "Epoch: 82 | Loss: 0.0086 | Training accuracy: 99.484% | Val accuracy: 97.292% | Epoch Time: 202.32 secs\n",
      "Epoch: 83 | Loss: 0.0108 | Training accuracy: 99.598% | Val accuracy: 97.693% | Epoch Time: 204.97 secs\n",
      "==> Saving model ...\n"
     ]
    },
    {
     "name": "stderr",
     "output_type": "stream",
     "text": [
      " 42%|████▏     | 83/200 [4:30:02<6:38:15, 204.23s/it]"
     ]
    },
    {
     "name": "stdout",
     "output_type": "stream",
     "text": [
      "Epoch: 84 | Loss: 0.0085 | Training accuracy: 99.637% | Val accuracy: 97.894% | Epoch Time: 202.46 secs\n",
      "==> Saving model ...\n"
     ]
    },
    {
     "name": "stderr",
     "output_type": "stream",
     "text": [
      " 42%|████▎     | 85/200 [4:36:45<6:28:45, 202.83s/it]"
     ]
    },
    {
     "name": "stdout",
     "output_type": "stream",
     "text": [
      "Epoch: 85 | Loss: 0.0068 | Training accuracy: 99.579% | Val accuracy: 97.593% | Epoch Time: 200.66 secs\n",
      "Epoch: 86 | Loss: 0.0073 | Training accuracy: 99.656% | Val accuracy: 98.094% | Epoch Time: 203.31 secs\n",
      "==> Saving model ...\n"
     ]
    },
    {
     "name": "stderr",
     "output_type": "stream",
     "text": [
      " 44%|████▎     | 87/200 [4:43:37<6:25:42, 204.80s/it]"
     ]
    },
    {
     "name": "stdout",
     "output_type": "stream",
     "text": [
      "Epoch: 87 | Loss: 0.0116 | Training accuracy: 99.618% | Val accuracy: 97.292% | Epoch Time: 208.88 secs\n"
     ]
    },
    {
     "name": "stderr",
     "output_type": "stream",
     "text": [
      " 44%|████▍     | 88/200 [4:46:56<6:18:41, 202.87s/it]"
     ]
    },
    {
     "name": "stdout",
     "output_type": "stream",
     "text": [
      "Epoch: 88 | Loss: 0.0074 | Training accuracy: 99.771% | Val accuracy: 97.994% | Epoch Time: 198.37 secs\n"
     ]
    },
    {
     "name": "stderr",
     "output_type": "stream",
     "text": [
      " 44%|████▍     | 89/200 [4:50:17<6:14:22, 202.36s/it]"
     ]
    },
    {
     "name": "stdout",
     "output_type": "stream",
     "text": [
      "Epoch: 89 | Loss: 0.0057 | Training accuracy: 99.732% | Val accuracy: 97.994% | Epoch Time: 201.17 secs\n",
      "Epoch: 90 | Loss: 0.0049 | Training accuracy: 99.713% | Val accuracy: 98.094% | Epoch Time: 204.97 secs\n",
      "==> Saving model ...\n"
     ]
    },
    {
     "name": "stderr",
     "output_type": "stream",
     "text": [
      " 46%|████▌     | 91/200 [4:57:07<6:09:50, 203.58s/it]"
     ]
    },
    {
     "name": "stdout",
     "output_type": "stream",
     "text": [
      "Epoch: 91 | Loss: 0.0074 | Training accuracy: 99.560% | Val accuracy: 97.793% | Epoch Time: 204.45 secs\n"
     ]
    },
    {
     "name": "stderr",
     "output_type": "stream",
     "text": [
      " 46%|████▌     | 92/200 [5:00:27<6:04:42, 202.62s/it]"
     ]
    },
    {
     "name": "stdout",
     "output_type": "stream",
     "text": [
      "Epoch: 92 | Loss: 0.0093 | Training accuracy: 99.790% | Val accuracy: 97.693% | Epoch Time: 200.36 secs\n"
     ]
    },
    {
     "name": "stderr",
     "output_type": "stream",
     "text": [
      " 46%|████▋     | 93/200 [5:03:48<6:00:13, 201.99s/it]"
     ]
    },
    {
     "name": "stdout",
     "output_type": "stream",
     "text": [
      "Epoch: 93 | Loss: 0.0059 | Training accuracy: 99.771% | Val accuracy: 97.793% | Epoch Time: 200.53 secs\n"
     ]
    },
    {
     "name": "stderr",
     "output_type": "stream",
     "text": [
      " 47%|████▋     | 94/200 [5:07:10<5:56:52, 202.00s/it]"
     ]
    },
    {
     "name": "stdout",
     "output_type": "stream",
     "text": [
      "Epoch: 94 | Loss: 0.0059 | Training accuracy: 99.713% | Val accuracy: 97.994% | Epoch Time: 202.02 secs\n"
     ]
    },
    {
     "name": "stderr",
     "output_type": "stream",
     "text": [
      " 48%|████▊     | 95/200 [5:10:31<5:53:00, 201.72s/it]"
     ]
    },
    {
     "name": "stdout",
     "output_type": "stream",
     "text": [
      "Epoch: 95 | Loss: 0.0062 | Training accuracy: 99.732% | Val accuracy: 97.894% | Epoch Time: 201.06 secs\n"
     ]
    },
    {
     "name": "stderr",
     "output_type": "stream",
     "text": [
      " 48%|████▊     | 96/200 [5:13:55<5:51:14, 202.64s/it]"
     ]
    },
    {
     "name": "stdout",
     "output_type": "stream",
     "text": [
      "Epoch: 96 | Loss: 0.0071 | Training accuracy: 99.771% | Val accuracy: 97.994% | Epoch Time: 204.80 secs\n"
     ]
    },
    {
     "name": "stderr",
     "output_type": "stream",
     "text": [
      " 48%|████▊     | 97/200 [5:17:17<5:47:03, 202.17s/it]"
     ]
    },
    {
     "name": "stdout",
     "output_type": "stream",
     "text": [
      "Epoch: 97 | Loss: 0.0068 | Training accuracy: 99.503% | Val accuracy: 96.891% | Epoch Time: 201.07 secs\n"
     ]
    },
    {
     "name": "stderr",
     "output_type": "stream",
     "text": [
      " 49%|████▉     | 98/200 [5:20:43<5:46:06, 203.59s/it]"
     ]
    },
    {
     "name": "stdout",
     "output_type": "stream",
     "text": [
      "Epoch: 98 | Loss: 0.0063 | Training accuracy: 99.790% | Val accuracy: 97.994% | Epoch Time: 206.90 secs\n",
      "Epoch: 99 | Loss: 0.0078 | Training accuracy: 99.732% | Val accuracy: 98.094% | Epoch Time: 200.52 secs\n",
      "==> Saving model ...\n"
     ]
    },
    {
     "name": "stderr",
     "output_type": "stream",
     "text": [
      " 50%|█████     | 100/200 [5:27:27<5:37:44, 202.65s/it]"
     ]
    },
    {
     "name": "stdout",
     "output_type": "stream",
     "text": [
      "Epoch: 100 | Loss: 0.0042 | Training accuracy: 99.675% | Val accuracy: 97.292% | Epoch Time: 202.41 secs\n",
      "Epoch: 101 | Loss: 0.0051 | Training accuracy: 99.751% | Val accuracy: 98.094% | Epoch Time: 205.86 secs\n",
      "==> Saving model ...\n"
     ]
    },
    {
     "name": "stderr",
     "output_type": "stream",
     "text": [
      " 51%|█████     | 102/200 [5:34:17<5:32:43, 203.71s/it]"
     ]
    },
    {
     "name": "stdout",
     "output_type": "stream",
     "text": [
      "Epoch: 102 | Loss: 0.0085 | Training accuracy: 99.694% | Val accuracy: 97.492% | Epoch Time: 203.75 secs\n"
     ]
    },
    {
     "name": "stderr",
     "output_type": "stream",
     "text": [
      " 52%|█████▏    | 103/200 [5:37:47<5:32:27, 205.64s/it]"
     ]
    },
    {
     "name": "stdout",
     "output_type": "stream",
     "text": [
      "Epoch: 103 | Loss: 0.0060 | Training accuracy: 99.694% | Val accuracy: 97.793% | Epoch Time: 210.14 secs\n"
     ]
    },
    {
     "name": "stderr",
     "output_type": "stream",
     "text": [
      " 52%|█████▏    | 104/200 [5:41:09<5:27:15, 204.53s/it]"
     ]
    },
    {
     "name": "stdout",
     "output_type": "stream",
     "text": [
      "Epoch: 104 | Loss: 0.0044 | Training accuracy: 99.771% | Val accuracy: 97.693% | Epoch Time: 201.95 secs\n",
      "Epoch: 105 | Loss: 0.0065 | Training accuracy: 99.771% | Val accuracy: 98.395% | Epoch Time: 209.09 secs\n",
      "==> Saving model ...\n"
     ]
    },
    {
     "name": "stderr",
     "output_type": "stream",
     "text": [
      " 53%|█████▎    | 106/200 [5:48:04<5:22:53, 206.10s/it]"
     ]
    },
    {
     "name": "stdout",
     "output_type": "stream",
     "text": [
      "Epoch: 106 | Loss: 0.0074 | Training accuracy: 99.637% | Val accuracy: 98.094% | Epoch Time: 206.40 secs\n"
     ]
    },
    {
     "name": "stderr",
     "output_type": "stream",
     "text": [
      " 54%|█████▎    | 107/200 [5:51:22<5:15:23, 203.48s/it]"
     ]
    },
    {
     "name": "stdout",
     "output_type": "stream",
     "text": [
      "Epoch: 107 | Loss: 0.0077 | Training accuracy: 99.713% | Val accuracy: 97.994% | Epoch Time: 197.37 secs\n"
     ]
    },
    {
     "name": "stderr",
     "output_type": "stream",
     "text": [
      " 54%|█████▍    | 108/200 [5:54:39<5:09:14, 201.68s/it]"
     ]
    },
    {
     "name": "stdout",
     "output_type": "stream",
     "text": [
      "Epoch: 108 | Loss: 0.0079 | Training accuracy: 99.809% | Val accuracy: 98.195% | Epoch Time: 197.47 secs\n"
     ]
    },
    {
     "name": "stderr",
     "output_type": "stream",
     "text": [
      " 55%|█████▍    | 109/200 [5:57:55<5:02:59, 199.78s/it]"
     ]
    },
    {
     "name": "stdout",
     "output_type": "stream",
     "text": [
      "Epoch: 109 | Loss: 0.0031 | Training accuracy: 99.790% | Val accuracy: 98.195% | Epoch Time: 195.33 secs\n"
     ]
    },
    {
     "name": "stderr",
     "output_type": "stream",
     "text": [
      " 55%|█████▌    | 110/200 [6:01:12<4:58:25, 198.95s/it]"
     ]
    },
    {
     "name": "stdout",
     "output_type": "stream",
     "text": [
      "Epoch: 110 | Loss: 0.0049 | Training accuracy: 99.790% | Val accuracy: 97.693% | Epoch Time: 197.01 secs\n"
     ]
    },
    {
     "name": "stderr",
     "output_type": "stream",
     "text": [
      " 56%|█████▌    | 111/200 [6:04:36<4:57:40, 200.68s/it]"
     ]
    },
    {
     "name": "stdout",
     "output_type": "stream",
     "text": [
      "Epoch: 111 | Loss: 0.0046 | Training accuracy: 99.675% | Val accuracy: 97.492% | Epoch Time: 204.73 secs\n"
     ]
    },
    {
     "name": "stderr",
     "output_type": "stream",
     "text": [
      " 56%|█████▌    | 112/200 [6:07:57<4:54:25, 200.75s/it]"
     ]
    },
    {
     "name": "stdout",
     "output_type": "stream",
     "text": [
      "Epoch: 112 | Loss: 0.0075 | Training accuracy: 99.866% | Val accuracy: 98.195% | Epoch Time: 200.90 secs\n"
     ]
    },
    {
     "name": "stderr",
     "output_type": "stream",
     "text": [
      " 56%|█████▋    | 113/200 [6:11:10<4:47:43, 198.43s/it]"
     ]
    },
    {
     "name": "stdout",
     "output_type": "stream",
     "text": [
      "Epoch: 113 | Loss: 0.0060 | Training accuracy: 99.847% | Val accuracy: 98.094% | Epoch Time: 193.04 secs\n"
     ]
    },
    {
     "name": "stderr",
     "output_type": "stream",
     "text": [
      " 57%|█████▋    | 114/200 [6:14:29<4:44:28, 198.47s/it]"
     ]
    },
    {
     "name": "stdout",
     "output_type": "stream",
     "text": [
      "Epoch: 114 | Loss: 0.0054 | Training accuracy: 99.579% | Val accuracy: 97.492% | Epoch Time: 198.54 secs\n"
     ]
    },
    {
     "name": "stderr",
     "output_type": "stream",
     "text": [
      " 57%|█████▊    | 115/200 [6:17:51<4:42:39, 199.52s/it]"
     ]
    },
    {
     "name": "stdout",
     "output_type": "stream",
     "text": [
      "Epoch: 115 | Loss: 0.0066 | Training accuracy: 99.656% | Val accuracy: 97.292% | Epoch Time: 201.99 secs\n"
     ]
    },
    {
     "name": "stderr",
     "output_type": "stream",
     "text": [
      " 58%|█████▊    | 116/200 [6:21:21<4:44:00, 202.86s/it]"
     ]
    },
    {
     "name": "stdout",
     "output_type": "stream",
     "text": [
      "Epoch: 116 | Loss: 0.0039 | Training accuracy: 99.771% | Val accuracy: 97.292% | Epoch Time: 210.63 secs\n"
     ]
    },
    {
     "name": "stderr",
     "output_type": "stream",
     "text": [
      " 58%|█████▊    | 117/200 [6:24:49<4:42:25, 204.16s/it]"
     ]
    },
    {
     "name": "stdout",
     "output_type": "stream",
     "text": [
      "Epoch: 117 | Loss: 0.0080 | Training accuracy: 99.675% | Val accuracy: 97.492% | Epoch Time: 207.21 secs\n"
     ]
    },
    {
     "name": "stderr",
     "output_type": "stream",
     "text": [
      " 59%|█████▉    | 118/200 [6:28:15<4:39:47, 204.73s/it]"
     ]
    },
    {
     "name": "stdout",
     "output_type": "stream",
     "text": [
      "Epoch: 118 | Loss: 0.0065 | Training accuracy: 99.771% | Val accuracy: 97.894% | Epoch Time: 206.04 secs\n"
     ]
    },
    {
     "name": "stderr",
     "output_type": "stream",
     "text": [
      " 60%|█████▉    | 119/200 [6:31:43<4:37:55, 205.87s/it]"
     ]
    },
    {
     "name": "stdout",
     "output_type": "stream",
     "text": [
      "Epoch: 119 | Loss: 0.0034 | Training accuracy: 99.924% | Val accuracy: 98.094% | Epoch Time: 208.55 secs\n"
     ]
    },
    {
     "name": "stderr",
     "output_type": "stream",
     "text": [
      " 60%|██████    | 120/200 [6:35:05<4:32:47, 204.59s/it]"
     ]
    },
    {
     "name": "stdout",
     "output_type": "stream",
     "text": [
      "Epoch: 120 | Loss: 0.0050 | Training accuracy: 99.713% | Val accuracy: 97.693% | Epoch Time: 201.59 secs\n"
     ]
    },
    {
     "name": "stderr",
     "output_type": "stream",
     "text": [
      " 60%|██████    | 121/200 [6:38:25<4:27:36, 203.24s/it]"
     ]
    },
    {
     "name": "stdout",
     "output_type": "stream",
     "text": [
      "Epoch: 121 | Loss: 0.0092 | Training accuracy: 99.732% | Val accuracy: 97.492% | Epoch Time: 200.10 secs\n"
     ]
    },
    {
     "name": "stderr",
     "output_type": "stream",
     "text": [
      " 61%|██████    | 122/200 [6:41:45<4:22:51, 202.20s/it]"
     ]
    },
    {
     "name": "stdout",
     "output_type": "stream",
     "text": [
      "Epoch: 122 | Loss: 0.0068 | Training accuracy: 99.885% | Val accuracy: 97.693% | Epoch Time: 199.77 secs\n"
     ]
    },
    {
     "name": "stderr",
     "output_type": "stream",
     "text": [
      " 62%|██████▏   | 123/200 [6:45:06<4:19:19, 202.07s/it]"
     ]
    },
    {
     "name": "stdout",
     "output_type": "stream",
     "text": [
      "Epoch: 123 | Loss: 0.0040 | Training accuracy: 99.790% | Val accuracy: 97.994% | Epoch Time: 201.77 secs\n"
     ]
    },
    {
     "name": "stderr",
     "output_type": "stream",
     "text": [
      " 62%|██████▏   | 124/200 [6:48:30<4:16:40, 202.63s/it]"
     ]
    },
    {
     "name": "stdout",
     "output_type": "stream",
     "text": [
      "Epoch: 124 | Loss: 0.0088 | Training accuracy: 99.694% | Val accuracy: 97.392% | Epoch Time: 203.95 secs\n"
     ]
    },
    {
     "name": "stderr",
     "output_type": "stream",
     "text": [
      " 62%|██████▎   | 125/200 [6:51:53<4:13:12, 202.57s/it]"
     ]
    },
    {
     "name": "stdout",
     "output_type": "stream",
     "text": [
      "Epoch: 125 | Loss: 0.0037 | Training accuracy: 99.771% | Val accuracy: 97.192% | Epoch Time: 202.42 secs\n"
     ]
    },
    {
     "name": "stderr",
     "output_type": "stream",
     "text": [
      " 63%|██████▎   | 126/200 [6:55:17<4:10:37, 203.21s/it]"
     ]
    },
    {
     "name": "stdout",
     "output_type": "stream",
     "text": [
      "Epoch: 126 | Loss: 0.0044 | Training accuracy: 99.924% | Val accuracy: 97.793% | Epoch Time: 204.72 secs\n"
     ]
    },
    {
     "name": "stderr",
     "output_type": "stream",
     "text": [
      " 64%|██████▎   | 127/200 [6:58:40<4:07:01, 203.03s/it]"
     ]
    },
    {
     "name": "stdout",
     "output_type": "stream",
     "text": [
      "Epoch: 127 | Loss: 0.0079 | Training accuracy: 99.885% | Val accuracy: 97.192% | Epoch Time: 202.59 secs\n"
     ]
    },
    {
     "name": "stderr",
     "output_type": "stream",
     "text": [
      " 64%|██████▍   | 128/200 [7:02:02<4:03:07, 202.60s/it]"
     ]
    },
    {
     "name": "stdout",
     "output_type": "stream",
     "text": [
      "Epoch: 128 | Loss: 0.0057 | Training accuracy: 99.771% | Val accuracy: 97.292% | Epoch Time: 201.60 secs\n"
     ]
    },
    {
     "name": "stderr",
     "output_type": "stream",
     "text": [
      " 64%|██████▍   | 129/200 [7:05:24<3:59:35, 202.47s/it]"
     ]
    },
    {
     "name": "stdout",
     "output_type": "stream",
     "text": [
      "Epoch: 129 | Loss: 0.0047 | Training accuracy: 99.885% | Val accuracy: 97.593% | Epoch Time: 202.16 secs\n"
     ]
    },
    {
     "name": "stderr",
     "output_type": "stream",
     "text": [
      " 65%|██████▌   | 130/200 [7:08:47<3:56:20, 202.58s/it]"
     ]
    },
    {
     "name": "stdout",
     "output_type": "stream",
     "text": [
      "Epoch: 130 | Loss: 0.0029 | Training accuracy: 99.885% | Val accuracy: 97.192% | Epoch Time: 202.84 secs\n"
     ]
    },
    {
     "name": "stderr",
     "output_type": "stream",
     "text": [
      " 66%|██████▌   | 131/200 [7:12:12<3:54:03, 203.53s/it]"
     ]
    },
    {
     "name": "stdout",
     "output_type": "stream",
     "text": [
      "Epoch: 131 | Loss: 0.0064 | Training accuracy: 99.809% | Val accuracy: 97.492% | Epoch Time: 205.74 secs\n"
     ]
    },
    {
     "name": "stderr",
     "output_type": "stream",
     "text": [
      " 66%|██████▌   | 132/200 [7:15:36<3:50:46, 203.62s/it]"
     ]
    },
    {
     "name": "stdout",
     "output_type": "stream",
     "text": [
      "Epoch: 132 | Loss: 0.0037 | Training accuracy: 99.847% | Val accuracy: 97.894% | Epoch Time: 203.84 secs\n"
     ]
    },
    {
     "name": "stderr",
     "output_type": "stream",
     "text": [
      " 66%|██████▋   | 133/200 [7:19:04<3:48:54, 204.99s/it]"
     ]
    },
    {
     "name": "stdout",
     "output_type": "stream",
     "text": [
      "Epoch: 133 | Loss: 0.0081 | Training accuracy: 99.904% | Val accuracy: 97.793% | Epoch Time: 208.17 secs\n"
     ]
    },
    {
     "name": "stderr",
     "output_type": "stream",
     "text": [
      " 67%|██████▋   | 134/200 [7:22:30<3:45:50, 205.31s/it]"
     ]
    },
    {
     "name": "stdout",
     "output_type": "stream",
     "text": [
      "Epoch: 134 | Loss: 0.0037 | Training accuracy: 99.809% | Val accuracy: 98.094% | Epoch Time: 206.06 secs\n"
     ]
    },
    {
     "name": "stderr",
     "output_type": "stream",
     "text": [
      " 68%|██████▊   | 135/200 [7:25:52<3:41:07, 204.11s/it]"
     ]
    },
    {
     "name": "stdout",
     "output_type": "stream",
     "text": [
      "Epoch: 135 | Loss: 0.0073 | Training accuracy: 99.790% | Val accuracy: 97.091% | Epoch Time: 201.32 secs\n"
     ]
    },
    {
     "name": "stderr",
     "output_type": "stream",
     "text": [
      " 68%|██████▊   | 136/200 [7:29:24<3:40:16, 206.50s/it]"
     ]
    },
    {
     "name": "stdout",
     "output_type": "stream",
     "text": [
      "Epoch: 136 | Loss: 0.0033 | Training accuracy: 99.885% | Val accuracy: 97.492% | Epoch Time: 212.07 secs\n"
     ]
    },
    {
     "name": "stderr",
     "output_type": "stream",
     "text": [
      " 68%|██████▊   | 137/200 [7:32:46<3:35:30, 205.25s/it]"
     ]
    },
    {
     "name": "stdout",
     "output_type": "stream",
     "text": [
      "Epoch: 137 | Loss: 0.0080 | Training accuracy: 99.598% | Val accuracy: 97.192% | Epoch Time: 202.34 secs\n"
     ]
    },
    {
     "name": "stderr",
     "output_type": "stream",
     "text": [
      " 69%|██████▉   | 138/200 [7:36:08<3:31:02, 204.23s/it]"
     ]
    },
    {
     "name": "stdout",
     "output_type": "stream",
     "text": [
      "Epoch: 138 | Loss: 0.0054 | Training accuracy: 99.904% | Val accuracy: 97.994% | Epoch Time: 201.85 secs\n"
     ]
    },
    {
     "name": "stderr",
     "output_type": "stream",
     "text": [
      " 70%|██████▉   | 139/200 [7:39:33<3:27:56, 204.54s/it]"
     ]
    },
    {
     "name": "stdout",
     "output_type": "stream",
     "text": [
      "Epoch: 139 | Loss: 0.0024 | Training accuracy: 99.962% | Val accuracy: 97.793% | Epoch Time: 205.24 secs\n"
     ]
    },
    {
     "name": "stderr",
     "output_type": "stream",
     "text": [
      " 70%|███████   | 140/200 [7:42:50<3:22:13, 202.23s/it]"
     ]
    },
    {
     "name": "stdout",
     "output_type": "stream",
     "text": [
      "Epoch: 140 | Loss: 0.0039 | Training accuracy: 99.924% | Val accuracy: 98.195% | Epoch Time: 196.86 secs\n"
     ]
    },
    {
     "name": "stderr",
     "output_type": "stream",
     "text": [
      " 70%|███████   | 141/200 [7:45:59<3:14:55, 198.23s/it]"
     ]
    },
    {
     "name": "stdout",
     "output_type": "stream",
     "text": [
      "Epoch: 141 | Loss: 0.0050 | Training accuracy: 99.771% | Val accuracy: 97.593% | Epoch Time: 188.89 secs\n"
     ]
    },
    {
     "name": "stderr",
     "output_type": "stream",
     "text": [
      " 71%|███████   | 142/200 [7:49:08<3:08:50, 195.36s/it]"
     ]
    },
    {
     "name": "stdout",
     "output_type": "stream",
     "text": [
      "Epoch: 142 | Loss: 0.0034 | Training accuracy: 99.885% | Val accuracy: 97.894% | Epoch Time: 188.65 secs\n"
     ]
    },
    {
     "name": "stderr",
     "output_type": "stream",
     "text": [
      " 72%|███████▏  | 143/200 [7:52:16<3:03:38, 193.30s/it]"
     ]
    },
    {
     "name": "stdout",
     "output_type": "stream",
     "text": [
      "Epoch: 143 | Loss: 0.0083 | Training accuracy: 99.962% | Val accuracy: 97.894% | Epoch Time: 188.50 secs\n"
     ]
    },
    {
     "name": "stderr",
     "output_type": "stream",
     "text": [
      " 72%|███████▏  | 144/200 [7:55:37<3:02:26, 195.47s/it]"
     ]
    },
    {
     "name": "stdout",
     "output_type": "stream",
     "text": [
      "Epoch: 144 | Loss: 0.0044 | Training accuracy: 99.885% | Val accuracy: 97.593% | Epoch Time: 200.52 secs\n"
     ]
    },
    {
     "name": "stderr",
     "output_type": "stream",
     "text": [
      " 72%|███████▎  | 145/200 [7:58:47<2:57:46, 193.94s/it]"
     ]
    },
    {
     "name": "stdout",
     "output_type": "stream",
     "text": [
      "Epoch: 145 | Loss: 0.0030 | Training accuracy: 99.866% | Val accuracy: 97.894% | Epoch Time: 190.38 secs\n"
     ]
    },
    {
     "name": "stderr",
     "output_type": "stream",
     "text": [
      " 73%|███████▎  | 146/200 [8:01:56<2:53:04, 192.31s/it]"
     ]
    },
    {
     "name": "stdout",
     "output_type": "stream",
     "text": [
      "Epoch: 146 | Loss: 0.0045 | Training accuracy: 99.962% | Val accuracy: 97.693% | Epoch Time: 188.49 secs\n"
     ]
    },
    {
     "name": "stderr",
     "output_type": "stream",
     "text": [
      " 74%|███████▎  | 147/200 [8:05:03<2:48:30, 190.77s/it]"
     ]
    },
    {
     "name": "stdout",
     "output_type": "stream",
     "text": [
      "Epoch: 147 | Loss: 0.0057 | Training accuracy: 99.904% | Val accuracy: 97.894% | Epoch Time: 187.17 secs\n"
     ]
    },
    {
     "name": "stderr",
     "output_type": "stream",
     "text": [
      " 74%|███████▍  | 148/200 [8:08:07<2:43:36, 188.77s/it]"
     ]
    },
    {
     "name": "stdout",
     "output_type": "stream",
     "text": [
      "Epoch: 148 | Loss: 0.0070 | Training accuracy: 99.828% | Val accuracy: 97.091% | Epoch Time: 184.12 secs\n"
     ]
    },
    {
     "name": "stderr",
     "output_type": "stream",
     "text": [
      " 74%|███████▍  | 149/200 [8:11:04<2:37:34, 185.38s/it]"
     ]
    },
    {
     "name": "stdout",
     "output_type": "stream",
     "text": [
      "Epoch: 149 | Loss: 0.0065 | Training accuracy: 99.866% | Val accuracy: 97.192% | Epoch Time: 177.45 secs\n"
     ]
    },
    {
     "name": "stderr",
     "output_type": "stream",
     "text": [
      " 75%|███████▌  | 150/200 [8:14:02<2:32:35, 183.12s/it]"
     ]
    },
    {
     "name": "stdout",
     "output_type": "stream",
     "text": [
      "Epoch: 150 | Loss: 0.0085 | Training accuracy: 99.847% | Val accuracy: 97.492% | Epoch Time: 177.84 secs\n"
     ]
    },
    {
     "name": "stderr",
     "output_type": "stream",
     "text": [
      " 76%|███████▌  | 151/200 [8:17:00<2:28:10, 181.43s/it]"
     ]
    },
    {
     "name": "stdout",
     "output_type": "stream",
     "text": [
      "Epoch: 151 | Loss: 0.0064 | Training accuracy: 99.904% | Val accuracy: 97.793% | Epoch Time: 177.50 secs\n"
     ]
    },
    {
     "name": "stderr",
     "output_type": "stream",
     "text": [
      " 76%|███████▌  | 152/200 [8:20:25<2:30:57, 188.70s/it]"
     ]
    },
    {
     "name": "stdout",
     "output_type": "stream",
     "text": [
      "Epoch: 152 | Loss: 0.0037 | Training accuracy: 99.904% | Val accuracy: 97.693% | Epoch Time: 205.65 secs\n"
     ]
    },
    {
     "name": "stderr",
     "output_type": "stream",
     "text": [
      " 76%|███████▋  | 153/200 [8:23:55<2:32:44, 194.99s/it]"
     ]
    },
    {
     "name": "stdout",
     "output_type": "stream",
     "text": [
      "Epoch: 153 | Loss: 0.0038 | Training accuracy: 99.924% | Val accuracy: 97.693% | Epoch Time: 209.66 secs\n"
     ]
    },
    {
     "name": "stderr",
     "output_type": "stream",
     "text": [
      " 77%|███████▋  | 154/200 [8:27:26<2:33:12, 199.85s/it]"
     ]
    },
    {
     "name": "stdout",
     "output_type": "stream",
     "text": [
      "Epoch: 154 | Loss: 0.0027 | Training accuracy: 99.924% | Val accuracy: 97.793% | Epoch Time: 211.18 secs\n"
     ]
    },
    {
     "name": "stderr",
     "output_type": "stream",
     "text": [
      " 78%|███████▊  | 155/200 [8:30:50<2:30:40, 200.90s/it]"
     ]
    },
    {
     "name": "stdout",
     "output_type": "stream",
     "text": [
      "Epoch: 155 | Loss: 0.0045 | Training accuracy: 99.943% | Val accuracy: 97.693% | Epoch Time: 203.37 secs\n"
     ]
    },
    {
     "name": "stderr",
     "output_type": "stream",
     "text": [
      " 78%|███████▊  | 156/200 [8:34:10<2:27:11, 200.72s/it]"
     ]
    },
    {
     "name": "stdout",
     "output_type": "stream",
     "text": [
      "Epoch: 156 | Loss: 0.0029 | Training accuracy: 99.924% | Val accuracy: 97.894% | Epoch Time: 200.29 secs\n"
     ]
    },
    {
     "name": "stderr",
     "output_type": "stream",
     "text": [
      " 78%|███████▊  | 157/200 [8:37:25<2:22:40, 199.07s/it]"
     ]
    },
    {
     "name": "stdout",
     "output_type": "stream",
     "text": [
      "Epoch: 157 | Loss: 0.0038 | Training accuracy: 99.924% | Val accuracy: 97.793% | Epoch Time: 195.23 secs\n"
     ]
    },
    {
     "name": "stderr",
     "output_type": "stream",
     "text": [
      " 79%|███████▉  | 158/200 [8:40:37<2:17:49, 196.90s/it]"
     ]
    },
    {
     "name": "stdout",
     "output_type": "stream",
     "text": [
      "Epoch: 158 | Loss: 0.0037 | Training accuracy: 99.943% | Val accuracy: 97.994% | Epoch Time: 191.84 secs\n"
     ]
    },
    {
     "name": "stderr",
     "output_type": "stream",
     "text": [
      " 80%|███████▉  | 159/200 [8:43:48<2:13:16, 195.04s/it]"
     ]
    },
    {
     "name": "stdout",
     "output_type": "stream",
     "text": [
      "Epoch: 159 | Loss: 0.0047 | Training accuracy: 99.924% | Val accuracy: 97.793% | Epoch Time: 190.68 secs\n"
     ]
    },
    {
     "name": "stderr",
     "output_type": "stream",
     "text": [
      " 80%|████████  | 160/200 [8:46:57<2:08:49, 193.25s/it]"
     ]
    },
    {
     "name": "stdout",
     "output_type": "stream",
     "text": [
      "Epoch: 160 | Loss: 0.0053 | Training accuracy: 99.924% | Val accuracy: 97.593% | Epoch Time: 189.07 secs\n"
     ]
    },
    {
     "name": "stderr",
     "output_type": "stream",
     "text": [
      " 80%|████████  | 161/200 [8:50:08<2:05:15, 192.70s/it]"
     ]
    },
    {
     "name": "stdout",
     "output_type": "stream",
     "text": [
      "Epoch: 161 | Loss: 0.0015 | Training accuracy: 99.904% | Val accuracy: 97.693% | Epoch Time: 191.43 secs\n"
     ]
    },
    {
     "name": "stderr",
     "output_type": "stream",
     "text": [
      " 81%|████████  | 162/200 [8:53:22<2:02:12, 192.96s/it]"
     ]
    },
    {
     "name": "stdout",
     "output_type": "stream",
     "text": [
      "Epoch: 162 | Loss: 0.0034 | Training accuracy: 99.904% | Val accuracy: 97.392% | Epoch Time: 193.54 secs\n"
     ]
    },
    {
     "name": "stderr",
     "output_type": "stream",
     "text": [
      " 82%|████████▏ | 163/200 [8:56:34<1:58:53, 192.79s/it]"
     ]
    },
    {
     "name": "stdout",
     "output_type": "stream",
     "text": [
      "Epoch: 163 | Loss: 0.0034 | Training accuracy: 99.943% | Val accuracy: 97.593% | Epoch Time: 192.39 secs\n"
     ]
    },
    {
     "name": "stderr",
     "output_type": "stream",
     "text": [
      " 82%|████████▏ | 164/200 [8:59:44<1:55:05, 191.83s/it]"
     ]
    },
    {
     "name": "stdout",
     "output_type": "stream",
     "text": [
      "Epoch: 164 | Loss: 0.0030 | Training accuracy: 99.924% | Val accuracy: 97.793% | Epoch Time: 189.59 secs\n"
     ]
    },
    {
     "name": "stderr",
     "output_type": "stream",
     "text": [
      " 82%|████████▎ | 165/200 [9:02:54<1:51:37, 191.37s/it]"
     ]
    },
    {
     "name": "stdout",
     "output_type": "stream",
     "text": [
      "Epoch: 165 | Loss: 0.0041 | Training accuracy: 99.943% | Val accuracy: 97.793% | Epoch Time: 190.30 secs\n"
     ]
    },
    {
     "name": "stderr",
     "output_type": "stream",
     "text": [
      " 83%|████████▎ | 166/200 [9:06:04<1:48:12, 190.96s/it]"
     ]
    },
    {
     "name": "stdout",
     "output_type": "stream",
     "text": [
      "Epoch: 166 | Loss: 0.0034 | Training accuracy: 99.962% | Val accuracy: 97.693% | Epoch Time: 190.00 secs\n"
     ]
    },
    {
     "name": "stderr",
     "output_type": "stream",
     "text": [
      " 84%|████████▎ | 167/200 [9:09:15<1:45:01, 190.95s/it]"
     ]
    },
    {
     "name": "stdout",
     "output_type": "stream",
     "text": [
      "Epoch: 167 | Loss: 0.0035 | Training accuracy: 99.943% | Val accuracy: 97.894% | Epoch Time: 190.93 secs\n"
     ]
    },
    {
     "name": "stderr",
     "output_type": "stream",
     "text": [
      " 84%|████████▍ | 168/200 [9:12:25<1:41:39, 190.61s/it]"
     ]
    },
    {
     "name": "stdout",
     "output_type": "stream",
     "text": [
      "Epoch: 168 | Loss: 0.0037 | Training accuracy: 99.904% | Val accuracy: 97.994% | Epoch Time: 189.80 secs\n"
     ]
    },
    {
     "name": "stderr",
     "output_type": "stream",
     "text": [
      " 84%|████████▍ | 169/200 [9:15:38<1:38:54, 191.45s/it]"
     ]
    },
    {
     "name": "stdout",
     "output_type": "stream",
     "text": [
      "Epoch: 169 | Loss: 0.0047 | Training accuracy: 99.924% | Val accuracy: 97.894% | Epoch Time: 193.40 secs\n"
     ]
    },
    {
     "name": "stderr",
     "output_type": "stream",
     "text": [
      " 85%|████████▌ | 170/200 [9:18:39<1:34:10, 188.36s/it]"
     ]
    },
    {
     "name": "stdout",
     "output_type": "stream",
     "text": [
      "Epoch: 170 | Loss: 0.0029 | Training accuracy: 99.943% | Val accuracy: 97.793% | Epoch Time: 181.14 secs\n"
     ]
    },
    {
     "name": "stderr",
     "output_type": "stream",
     "text": [
      " 86%|████████▌ | 171/200 [9:21:42<1:30:15, 186.73s/it]"
     ]
    },
    {
     "name": "stdout",
     "output_type": "stream",
     "text": [
      "Epoch: 171 | Loss: 0.0020 | Training accuracy: 99.943% | Val accuracy: 97.793% | Epoch Time: 182.94 secs\n"
     ]
    },
    {
     "name": "stderr",
     "output_type": "stream",
     "text": [
      " 86%|████████▌ | 172/200 [9:24:44<1:26:29, 185.35s/it]"
     ]
    },
    {
     "name": "stdout",
     "output_type": "stream",
     "text": [
      "Epoch: 172 | Loss: 0.0047 | Training accuracy: 99.943% | Val accuracy: 97.793% | Epoch Time: 182.12 secs\n"
     ]
    },
    {
     "name": "stderr",
     "output_type": "stream",
     "text": [
      " 86%|████████▋ | 173/200 [9:27:46<1:22:52, 184.16s/it]"
     ]
    },
    {
     "name": "stdout",
     "output_type": "stream",
     "text": [
      "Epoch: 173 | Loss: 0.0026 | Training accuracy: 99.943% | Val accuracy: 97.292% | Epoch Time: 181.39 secs\n"
     ]
    },
    {
     "name": "stderr",
     "output_type": "stream",
     "text": [
      " 87%|████████▋ | 174/200 [9:30:48<1:19:36, 183.73s/it]"
     ]
    },
    {
     "name": "stdout",
     "output_type": "stream",
     "text": [
      "Epoch: 174 | Loss: 0.0027 | Training accuracy: 99.924% | Val accuracy: 97.292% | Epoch Time: 182.72 secs\n"
     ]
    },
    {
     "name": "stderr",
     "output_type": "stream",
     "text": [
      " 88%|████████▊ | 175/200 [9:33:51<1:16:25, 183.40s/it]"
     ]
    },
    {
     "name": "stdout",
     "output_type": "stream",
     "text": [
      "Epoch: 175 | Loss: 0.0030 | Training accuracy: 99.962% | Val accuracy: 97.492% | Epoch Time: 182.64 secs\n"
     ]
    },
    {
     "name": "stderr",
     "output_type": "stream",
     "text": [
      " 88%|████████▊ | 176/200 [9:36:53<1:13:11, 182.96s/it]"
     ]
    },
    {
     "name": "stdout",
     "output_type": "stream",
     "text": [
      "Epoch: 176 | Loss: 0.0025 | Training accuracy: 99.943% | Val accuracy: 97.593% | Epoch Time: 181.93 secs\n"
     ]
    },
    {
     "name": "stderr",
     "output_type": "stream",
     "text": [
      " 88%|████████▊ | 177/200 [9:39:55<1:10:01, 182.69s/it]"
     ]
    },
    {
     "name": "stdout",
     "output_type": "stream",
     "text": [
      "Epoch: 177 | Loss: 0.0024 | Training accuracy: 99.962% | Val accuracy: 97.793% | Epoch Time: 182.05 secs\n"
     ]
    },
    {
     "name": "stderr",
     "output_type": "stream",
     "text": [
      " 89%|████████▉ | 178/200 [9:43:06<1:07:55, 185.24s/it]"
     ]
    },
    {
     "name": "stdout",
     "output_type": "stream",
     "text": [
      "Epoch: 178 | Loss: 0.0013 | Training accuracy: 99.943% | Val accuracy: 97.693% | Epoch Time: 191.20 secs\n"
     ]
    },
    {
     "name": "stderr",
     "output_type": "stream",
     "text": [
      " 90%|████████▉ | 179/200 [9:46:19<1:05:40, 187.62s/it]"
     ]
    },
    {
     "name": "stdout",
     "output_type": "stream",
     "text": [
      "Epoch: 179 | Loss: 0.0025 | Training accuracy: 99.962% | Val accuracy: 97.392% | Epoch Time: 193.17 secs\n"
     ]
    },
    {
     "name": "stderr",
     "output_type": "stream",
     "text": [
      " 90%|█████████ | 180/200 [9:49:32<1:03:01, 189.08s/it]"
     ]
    },
    {
     "name": "stdout",
     "output_type": "stream",
     "text": [
      "Epoch: 180 | Loss: 0.0018 | Training accuracy: 99.981% | Val accuracy: 97.593% | Epoch Time: 192.47 secs\n"
     ]
    },
    {
     "name": "stderr",
     "output_type": "stream",
     "text": [
      " 90%|█████████ | 181/200 [9:52:43<1:00:05, 189.78s/it]"
     ]
    },
    {
     "name": "stdout",
     "output_type": "stream",
     "text": [
      "Epoch: 181 | Loss: 0.0017 | Training accuracy: 99.962% | Val accuracy: 98.094% | Epoch Time: 191.43 secs\n"
     ]
    },
    {
     "name": "stderr",
     "output_type": "stream",
     "text": [
      " 91%|█████████ | 182/200 [9:55:56<57:13, 190.75s/it]  "
     ]
    },
    {
     "name": "stdout",
     "output_type": "stream",
     "text": [
      "Epoch: 182 | Loss: 0.0024 | Training accuracy: 99.981% | Val accuracy: 98.094% | Epoch Time: 193.00 secs\n"
     ]
    },
    {
     "name": "stderr",
     "output_type": "stream",
     "text": [
      " 92%|█████████▏| 183/200 [9:59:05<53:51, 190.11s/it]"
     ]
    },
    {
     "name": "stdout",
     "output_type": "stream",
     "text": [
      "Epoch: 183 | Loss: 0.0022 | Training accuracy: 99.962% | Val accuracy: 97.693% | Epoch Time: 188.63 secs\n"
     ]
    },
    {
     "name": "stderr",
     "output_type": "stream",
     "text": [
      " 92%|█████████▏| 184/200 [10:02:10<50:17, 188.61s/it]"
     ]
    },
    {
     "name": "stdout",
     "output_type": "stream",
     "text": [
      "Epoch: 184 | Loss: 0.0028 | Training accuracy: 99.962% | Val accuracy: 97.693% | Epoch Time: 185.09 secs\n"
     ]
    },
    {
     "name": "stderr",
     "output_type": "stream",
     "text": [
      " 92%|█████████▎| 185/200 [10:05:15<46:54, 187.62s/it]"
     ]
    },
    {
     "name": "stdout",
     "output_type": "stream",
     "text": [
      "Epoch: 185 | Loss: 0.0017 | Training accuracy: 99.962% | Val accuracy: 97.593% | Epoch Time: 185.32 secs\n"
     ]
    },
    {
     "name": "stderr",
     "output_type": "stream",
     "text": [
      " 93%|█████████▎| 186/200 [10:08:21<43:36, 186.89s/it]"
     ]
    },
    {
     "name": "stdout",
     "output_type": "stream",
     "text": [
      "Epoch: 186 | Loss: 0.0023 | Training accuracy: 99.962% | Val accuracy: 97.994% | Epoch Time: 185.18 secs\n"
     ]
    },
    {
     "name": "stderr",
     "output_type": "stream",
     "text": [
      " 94%|█████████▎| 187/200 [10:11:25<40:20, 186.21s/it]"
     ]
    },
    {
     "name": "stdout",
     "output_type": "stream",
     "text": [
      "Epoch: 187 | Loss: 0.0026 | Training accuracy: 99.981% | Val accuracy: 97.994% | Epoch Time: 184.61 secs\n"
     ]
    },
    {
     "name": "stderr",
     "output_type": "stream",
     "text": [
      " 94%|█████████▍| 188/200 [10:14:34<37:25, 187.10s/it]"
     ]
    },
    {
     "name": "stdout",
     "output_type": "stream",
     "text": [
      "Epoch: 188 | Loss: 0.0053 | Training accuracy: 99.962% | Val accuracy: 97.693% | Epoch Time: 189.17 secs\n"
     ]
    },
    {
     "name": "stderr",
     "output_type": "stream",
     "text": [
      " 94%|█████████▍| 189/200 [10:17:48<34:40, 189.16s/it]"
     ]
    },
    {
     "name": "stdout",
     "output_type": "stream",
     "text": [
      "Epoch: 189 | Loss: 0.0029 | Training accuracy: 99.904% | Val accuracy: 97.593% | Epoch Time: 193.97 secs\n"
     ]
    },
    {
     "name": "stderr",
     "output_type": "stream",
     "text": [
      " 95%|█████████▌| 190/200 [10:20:59<31:37, 189.75s/it]"
     ]
    },
    {
     "name": "stdout",
     "output_type": "stream",
     "text": [
      "Epoch: 190 | Loss: 0.0022 | Training accuracy: 99.904% | Val accuracy: 97.593% | Epoch Time: 191.13 secs\n"
     ]
    },
    {
     "name": "stderr",
     "output_type": "stream",
     "text": [
      " 96%|█████████▌| 191/200 [10:24:11<28:31, 190.18s/it]"
     ]
    },
    {
     "name": "stdout",
     "output_type": "stream",
     "text": [
      "Epoch: 191 | Loss: 0.0026 | Training accuracy: 99.943% | Val accuracy: 97.894% | Epoch Time: 191.18 secs\n"
     ]
    },
    {
     "name": "stderr",
     "output_type": "stream",
     "text": [
      " 96%|█████████▌| 192/200 [10:27:21<25:21, 190.15s/it]"
     ]
    },
    {
     "name": "stdout",
     "output_type": "stream",
     "text": [
      "Epoch: 192 | Loss: 0.0017 | Training accuracy: 99.943% | Val accuracy: 97.793% | Epoch Time: 190.10 secs\n"
     ]
    },
    {
     "name": "stderr",
     "output_type": "stream",
     "text": [
      " 96%|█████████▋| 193/200 [10:30:29<22:07, 189.57s/it]"
     ]
    },
    {
     "name": "stdout",
     "output_type": "stream",
     "text": [
      "Epoch: 193 | Loss: 0.0022 | Training accuracy: 99.962% | Val accuracy: 97.894% | Epoch Time: 188.21 secs\n"
     ]
    },
    {
     "name": "stderr",
     "output_type": "stream",
     "text": [
      " 97%|█████████▋| 194/200 [10:33:35<18:51, 188.51s/it]"
     ]
    },
    {
     "name": "stdout",
     "output_type": "stream",
     "text": [
      "Epoch: 194 | Loss: 0.0024 | Training accuracy: 99.943% | Val accuracy: 97.793% | Epoch Time: 186.04 secs\n"
     ]
    },
    {
     "name": "stderr",
     "output_type": "stream",
     "text": [
      " 98%|█████████▊| 195/200 [10:36:39<15:36, 187.21s/it]"
     ]
    },
    {
     "name": "stdout",
     "output_type": "stream",
     "text": [
      "Epoch: 195 | Loss: 0.0014 | Training accuracy: 99.962% | Val accuracy: 97.994% | Epoch Time: 184.17 secs\n"
     ]
    },
    {
     "name": "stderr",
     "output_type": "stream",
     "text": [
      " 98%|█████████▊| 196/200 [10:39:43<12:25, 186.34s/it]"
     ]
    },
    {
     "name": "stdout",
     "output_type": "stream",
     "text": [
      "Epoch: 196 | Loss: 0.0027 | Training accuracy: 99.924% | Val accuracy: 97.593% | Epoch Time: 184.32 secs\n"
     ]
    },
    {
     "name": "stderr",
     "output_type": "stream",
     "text": [
      " 98%|█████████▊| 197/200 [10:42:47<09:16, 185.61s/it]"
     ]
    },
    {
     "name": "stdout",
     "output_type": "stream",
     "text": [
      "Epoch: 197 | Loss: 0.0014 | Training accuracy: 99.924% | Val accuracy: 97.492% | Epoch Time: 183.91 secs\n"
     ]
    },
    {
     "name": "stderr",
     "output_type": "stream",
     "text": [
      " 99%|█████████▉| 198/200 [10:45:52<06:10, 185.23s/it]"
     ]
    },
    {
     "name": "stdout",
     "output_type": "stream",
     "text": [
      "Epoch: 198 | Loss: 0.0035 | Training accuracy: 99.885% | Val accuracy: 97.492% | Epoch Time: 184.34 secs\n"
     ]
    },
    {
     "name": "stderr",
     "output_type": "stream",
     "text": [
      "100%|█████████▉| 199/200 [10:48:56<03:04, 184.82s/it]"
     ]
    },
    {
     "name": "stdout",
     "output_type": "stream",
     "text": [
      "Epoch: 199 | Loss: 0.0021 | Training accuracy: 99.924% | Val accuracy: 97.693% | Epoch Time: 183.85 secs\n"
     ]
    },
    {
     "name": "stderr",
     "output_type": "stream",
     "text": [
      "100%|██████████| 200/200 [10:52:02<00:00, 195.61s/it]"
     ]
    },
    {
     "name": "stdout",
     "output_type": "stream",
     "text": [
      "Epoch: 200 | Loss: 0.0011 | Training accuracy: 99.924% | Val accuracy: 97.593% | Epoch Time: 186.56 secs\n",
      "==> Finished Training ...\n"
     ]
    },
    {
     "name": "stderr",
     "output_type": "stream",
     "text": [
      "\n"
     ]
    }
   ],
   "source": [
    "loss_history = []\n",
    "train_accuracy_history = []\n",
    "val_accuracy_history = []\n",
    "\n",
    "max_val_accurecy = 0.0\n",
    "\n",
    "print('==> Start Training ...')\n",
    "for epoch in tqdm(range(1, epochs + 1)):\n",
    "    model.train()\n",
    "    running_loss = 0.0\n",
    "    epoch_time = time.time()\n",
    "    for i, (images, labels) in enumerate(train_loader):\n",
    "        images = images.to(device)\n",
    "        images = aug_list(images)\n",
    "        labels = labels.to(device)\n",
    "\n",
    "        output = model(images)\n",
    "        loss = criterion(output, labels)\n",
    "        optimizer_slow.zero_grad()\n",
    "        optimizer_fast.zero_grad()\n",
    "        loss.backward()\n",
    "        optimizer_slow.step()\n",
    "        optimizer_fast.step()\n",
    "\n",
    "        running_loss += loss.data.item()\n",
    "\n",
    "    # step the scheduler\n",
    "    scheduler_slow.step()\n",
    "    scheduler_fast.step()\n",
    "\n",
    "    # Normalizing the loss by the total number of train batches\n",
    "    running_loss /= len(train_loader)\n",
    "      \n",
    "    # Validation of the model.\n",
    "    train_accuracy = calculate_accuracy(model, train_loader)\n",
    "    val_accuracy = calculate_accuracy(model, val_loader)\n",
    "\n",
    "    # save in history lists\n",
    "    loss_history.append(running_loss)\n",
    "    train_accuracy_history.append(train_accuracy)\n",
    "    val_accuracy_history.append(val_accuracy)\n",
    "\n",
    "    # log\n",
    "    log = \"Epoch: {} | Loss: {:.4f} | Training accuracy: {:.3f}% | Val accuracy: {:.3f}% | \".format(epoch, running_loss, train_accuracy, val_accuracy)\n",
    "    epoch_time = time.time() - epoch_time\n",
    "    log += \"Epoch Time: {:.2f} secs\".format(epoch_time)\n",
    "    print(log)\n",
    "\n",
    "\n",
    "    # save model\n",
    "    if val_accuracy >= max_val_accurecy:\n",
    "        max_val_accurecy = val_accuracy\n",
    "\n",
    "        print('==> Saving model ...')\n",
    "        state = {\n",
    "            'model': model.state_dict(),\n",
    "            'optimizer_fast': optimizer_fast.state_dict(),\n",
    "            'optimizer_slow': optimizer_slow.state_dict(),\n",
    "            'scheduler_fast': scheduler_fast.state_dict(),\n",
    "            'scheduler_slow': scheduler_slow.state_dict(),\n",
    "            'epoch': epoch,\n",
    "            'loss_history': loss_history,\n",
    "            'training_accuracy_history': train_accuracy_history,\n",
    "            'val_accuracy_history': val_accuracy_history,\n",
    "        }\n",
    "\n",
    "        if not os.path.isdir('checkpoints'):\n",
    "            os.mkdir('checkpoints')\n",
    "        torch.save(state, f'./checkpoints/vehicle_damage_convnext_{epoch}.pth')\n",
    "\n",
    "\n",
    "print('==> Finished Training ...')"
   ]
  },
  {
   "cell_type": "code",
   "execution_count": 8,
   "metadata": {},
   "outputs": [
    {
     "name": "stdout",
     "output_type": "stream",
     "text": [
      "==> Saving model ...\n"
     ]
    }
   ],
   "source": [
    "print('==> Saving model ...')\n",
    "state = {\n",
    "    'model': model.state_dict(),\n",
    "    'optimizer_fast': optimizer_fast.state_dict(),\n",
    "    'optimizer_slow': optimizer_slow.state_dict(),\n",
    "    'scheduler_fast': scheduler_fast.state_dict(),\n",
    "    'scheduler_slow': scheduler_slow.state_dict(),\n",
    "    'epoch': epoch,\n",
    "    'loss_history': loss_history,\n",
    "    'training_accuracy_history': train_accuracy_history,\n",
    "    'val_accuracy_history': val_accuracy_history,\n",
    "}\n",
    "\n",
    "if not os.path.isdir('checkpoints'):\n",
    "    os.mkdir('checkpoints')\n",
    "torch.save(state, f'./checkpoints/vehicle_damage_convnext_{epoch}.pth')"
   ]
  }
 ],
 "metadata": {
  "kernelspec": {
   "display_name": "venv",
   "language": "python",
   "name": "python3"
  },
  "language_info": {
   "codemirror_mode": {
    "name": "ipython",
    "version": 3
   },
   "file_extension": ".py",
   "mimetype": "text/x-python",
   "name": "python",
   "nbconvert_exporter": "python",
   "pygments_lexer": "ipython3",
   "version": "3.11.4"
  }
 },
 "nbformat": 4,
 "nbformat_minor": 2
}
