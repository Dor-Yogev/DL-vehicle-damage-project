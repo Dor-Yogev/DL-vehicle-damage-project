{
 "cells": [
  {
   "cell_type": "code",
   "execution_count": 1,
   "metadata": {},
   "outputs": [
    {
     "name": "stderr",
     "output_type": "stream",
     "text": [
      "c:\\Users\\doryo\\Desktop\\deep_learning\\Project\\convnext.py:158: UserWarning: Overwriting convnext_tiny in registry with convnext.convnext_tiny. This is because the name being registered conflicts with an existing name. Please check if this is not expected.\n",
      "  @register_model\n",
      "c:\\Users\\doryo\\Desktop\\deep_learning\\Project\\convnext.py:167: UserWarning: Overwriting convnext_small in registry with convnext.convnext_small. This is because the name being registered conflicts with an existing name. Please check if this is not expected.\n",
      "  @register_model\n",
      "c:\\Users\\doryo\\Desktop\\deep_learning\\Project\\convnext.py:176: UserWarning: Overwriting convnext_base in registry with convnext.convnext_base. This is because the name being registered conflicts with an existing name. Please check if this is not expected.\n",
      "  @register_model\n",
      "c:\\Users\\doryo\\Desktop\\deep_learning\\Project\\convnext.py:185: UserWarning: Overwriting convnext_large in registry with convnext.convnext_large. This is because the name being registered conflicts with an existing name. Please check if this is not expected.\n",
      "  @register_model\n",
      "c:\\Users\\doryo\\Desktop\\deep_learning\\Project\\convnext.py:194: UserWarning: Overwriting convnext_xlarge in registry with convnext.convnext_xlarge. This is because the name being registered conflicts with an existing name. Please check if this is not expected.\n",
      "  @register_model\n"
     ]
    }
   ],
   "source": [
    "\n",
    "import torch\n",
    "import torch.nn as nn\n",
    "from torch.utils.data import DataLoader\n",
    "from torchvision import transforms\n",
    "import optuna\n",
    "from tqdm import tqdm\n",
    "from dataset import get_datasets\n",
    "from model import get_model, print_model_size\n",
    "\n",
    "device = torch.device(\"cuda:0\" if torch.cuda.is_available() else \"cpu\") "
   ]
  },
  {
   "cell_type": "code",
   "execution_count": 2,
   "metadata": {},
   "outputs": [],
   "source": [
    "image_dims = (224, 224)\n",
    "\n",
    "transform = transforms.Compose([\n",
    "    transforms.Resize(image_dims),\n",
    "    transforms.ToTensor(),\n",
    "    transforms.Normalize(mean=[0.4772, 0.4597, 0.4612], std=[0.2997, 0.2808, 0.2837])\n",
    "])\n",
    "\n",
    "train_dataset, val_dataset, test_dataset = get_datasets(transform)\n"
   ]
  },
  {
   "cell_type": "code",
   "execution_count": 4,
   "metadata": {},
   "outputs": [],
   "source": [
    "n_train_examples = 30 * 64\n",
    "n_val_examples = 10 * 64\n",
    "\n",
    "criterion = nn.CrossEntropyLoss()"
   ]
  },
  {
   "cell_type": "code",
   "execution_count": 5,
   "metadata": {},
   "outputs": [],
   "source": [
    "def get_dataloaders(trial):\n",
    "    batch_size = trial.suggest_categorical('batch_size', [16, 32, 64])\n",
    "\n",
    "    # Load train dataset\n",
    "    train_loader = DataLoader(train_dataset, batch_size=batch_size, shuffle=True, num_workers=0)\n",
    "\n",
    "    # Load val dataset\n",
    "    valid_loader = DataLoader(val_dataset, batch_size=batch_size, shuffle=True, num_workers=0)\n",
    "\n",
    "    return train_loader, valid_loader, batch_size\n"
   ]
  },
  {
   "cell_type": "code",
   "execution_count": 6,
   "metadata": {},
   "outputs": [],
   "source": [
    "def objective(trial):\n",
    "    model = get_model().to(device)\n",
    "\n",
    "    # Generate the optimizers.\n",
    "    lr_slow = trial.suggest_float(\"lr_slow\", 1e-5, 1e-1, log=True) # log=True, will use log scale to interplolate between\n",
    "    weight_decay_slow = trial.suggest_float(\"weight_decay_slow\", 1e-5, 1e-2)\n",
    "    optimizer_name = trial.suggest_categorical(\"optimizer\", [\"Adam\", \"RMSprop\", \"SGD\"])\n",
    "    optimizer_slow = getattr(torch.optim, optimizer_name)([{'params':model.stages[3].parameters()},\n",
    "                                                           {'params':model.norm.parameters()}], lr=lr_slow , weight_decay=weight_decay_slow)\n",
    "    lr_fast = trial.suggest_float(\"lr_fast\", 1e-4, 1, log=True) # log=True, will use log scale to interplolate between\n",
    "    weight_decay_fast = trial.suggest_float(\"weight_decay_fast\", 1e-5, 1e-2)\n",
    "    optimizer_fast = getattr(torch.optim, optimizer_name)(model.head.parameters(), lr=lr_fast, weight_decay=weight_decay_fast)\n",
    "    train_loader, valid_loader, batch_size = get_dataloaders(trial)\n",
    "    \n",
    "    epochs = 10\n",
    "    # Training of the model.\n",
    "    for epoch in tqdm(range(epochs)):\n",
    "        model.train()\n",
    "        for i, (images, labels) in enumerate(train_loader):\n",
    "            # Limiting training data for faster epochs.\n",
    "            if i * batch_size >= n_train_examples:\n",
    "                break\n",
    "\n",
    "            images = images.to(device)\n",
    "            labels = labels.to(device)\n",
    "\n",
    "            output = model(images)\n",
    "            loss = criterion(output, labels)\n",
    "            optimizer_slow.zero_grad()\n",
    "            optimizer_fast.zero_grad()\n",
    "            loss.backward()\n",
    "            optimizer_slow.step()\n",
    "            optimizer_fast.step()\n",
    "            \n",
    "        # Validation of the model.\n",
    "        model.eval()\n",
    "        correct = 0\n",
    "        with torch.no_grad():\n",
    "            for i, (images, labels) in enumerate(valid_loader):\n",
    "                if i * batch_size >= n_train_examples:\n",
    "                    break\n",
    "\n",
    "                images = images.to(device)\n",
    "                labels = labels.to(device)\n",
    "\n",
    "                output = model(images)\n",
    "                # Get the index of the max log-probability.\n",
    "                pred = output.argmax(dim=1, keepdim=True)\n",
    "                correct += pred.eq(labels.view_as(pred)).sum().item()\n",
    "\n",
    "        accuracy = correct / len(valid_loader.dataset)\n",
    "        # report back to Optuna how far it is (epoch-wise) into the trial and how well it is doing (accuracy)\n",
    "        trial.report(accuracy, epoch)\n",
    "        # then, Optuna can decide if the trial should be pruned\n",
    "        # Handle pruning based on the intermediate value.\n",
    "        if trial.should_prune():\n",
    "            raise optuna.exceptions.TrialPruned()\n",
    "                \n",
    "    return accuracy\n"
   ]
  },
  {
   "cell_type": "code",
   "execution_count": 7,
   "metadata": {},
   "outputs": [
    {
     "name": "stderr",
     "output_type": "stream",
     "text": [
      "[I 2024-08-03 20:01:29,179] A new study created in memory with name: vehicle_damage\n",
      "100%|██████████| 10/10 [06:24<00:00, 38.42s/it]\n",
      "[I 2024-08-03 20:07:53,902] Trial 0 finished with value: 0.8345035105315948 and parameters: {'lr_slow': 8.710956958575865e-05, 'weight_decay_slow': 0.00381441505452984, 'optimizer': 'SGD', 'lr_fast': 0.31590520301744557, 'weight_decay_fast': 0.002533576586905862, 'batch_size': 32}. Best is trial 0 with value: 0.8345035105315948.\n",
      "100%|██████████| 10/10 [07:11<00:00, 43.14s/it]\n",
      "[I 2024-08-03 20:15:05,891] Trial 1 finished with value: 0.8716148445336008 and parameters: {'lr_slow': 0.0008884901704341717, 'weight_decay_slow': 0.004813004245101346, 'optimizer': 'SGD', 'lr_fast': 0.5426775012659383, 'weight_decay_fast': 0.0015654556048191575, 'batch_size': 64}. Best is trial 1 with value: 0.8716148445336008.\n",
      "100%|██████████| 10/10 [07:01<00:00, 42.14s/it]\n",
      "[I 2024-08-03 20:22:07,829] Trial 2 finished with value: 0.8876629889669007 and parameters: {'lr_slow': 0.0007593165948858177, 'weight_decay_slow': 0.0032370304082646965, 'optimizer': 'Adam', 'lr_fast': 0.0011822001605089412, 'weight_decay_fast': 0.002929003673735735, 'batch_size': 64}. Best is trial 2 with value: 0.8876629889669007.\n",
      "100%|██████████| 10/10 [06:36<00:00, 39.66s/it]\n",
      "[I 2024-08-03 20:28:45,055] Trial 3 finished with value: 0.8756268806419257 and parameters: {'lr_slow': 1.213968980076562e-05, 'weight_decay_slow': 0.00047360966219817113, 'optimizer': 'RMSprop', 'lr_fast': 0.006310088536267612, 'weight_decay_fast': 0.005794049655765155, 'batch_size': 32}. Best is trial 2 with value: 0.8876629889669007.\n",
      "100%|██████████| 10/10 [06:38<00:00, 39.88s/it]\n",
      "[I 2024-08-03 20:35:24,473] Trial 4 finished with value: 0.6208625877632898 and parameters: {'lr_slow': 0.003383469064341586, 'weight_decay_slow': 0.001742228650950661, 'optimizer': 'RMSprop', 'lr_fast': 0.0026319009010018542, 'weight_decay_fast': 0.0024107554914811163, 'batch_size': 64}. Best is trial 2 with value: 0.8876629889669007.\n",
      "  0%|          | 0/10 [00:39<?, ?it/s]\n",
      "[I 2024-08-03 20:36:04,098] Trial 5 pruned. \n",
      "  0%|          | 0/10 [00:37<?, ?it/s]\n",
      "[I 2024-08-03 20:36:41,889] Trial 6 pruned. \n",
      "100%|██████████| 10/10 [06:36<00:00, 39.63s/it]\n",
      "[I 2024-08-03 20:43:18,845] Trial 7 finished with value: 0.9297893681043129 and parameters: {'lr_slow': 2.53240195495629e-05, 'weight_decay_slow': 0.001497339029897948, 'optimizer': 'Adam', 'lr_fast': 0.005117402953991288, 'weight_decay_fast': 0.00737100393533737, 'batch_size': 16}. Best is trial 7 with value: 0.9297893681043129.\n",
      "100%|██████████| 10/10 [06:15<00:00, 37.52s/it]\n",
      "[I 2024-08-03 20:49:34,703] Trial 8 finished with value: 0.9307923771313942 and parameters: {'lr_slow': 0.00015253919406282198, 'weight_decay_slow': 0.00649490107023957, 'optimizer': 'Adam', 'lr_fast': 0.07773085419037588, 'weight_decay_fast': 7.395433016540838e-05, 'batch_size': 32}. Best is trial 8 with value: 0.9307923771313942.\n",
      "  0%|          | 0/10 [00:37<?, ?it/s]\n",
      "[I 2024-08-03 20:50:12,729] Trial 9 pruned. \n",
      "100%|██████████| 10/10 [06:25<00:00, 38.53s/it]\n",
      "[I 2024-08-03 20:56:38,629] Trial 10 finished with value: 0.905717151454363 and parameters: {'lr_slow': 0.00022580025418692106, 'weight_decay_slow': 0.0076940788358891374, 'optimizer': 'Adam', 'lr_fast': 0.05891840621827026, 'weight_decay_fast': 7.70013913333817e-05, 'batch_size': 16}. Best is trial 8 with value: 0.9307923771313942.\n",
      "  0%|          | 0/10 [00:38<?, ?it/s]\n",
      "[I 2024-08-03 20:57:17,550] Trial 11 pruned. \n",
      "  0%|          | 0/10 [00:38<?, ?it/s]\n",
      "[I 2024-08-03 20:57:56,815] Trial 12 pruned. \n",
      "  0%|          | 0/10 [00:43<?, ?it/s]\n",
      "[I 2024-08-03 20:58:40,966] Trial 13 pruned. \n",
      "  0%|          | 0/10 [00:39<?, ?it/s]\n",
      "[I 2024-08-03 20:59:20,839] Trial 14 pruned. \n",
      " 20%|██        | 2/10 [01:52<07:28, 56.00s/it]\n",
      "[I 2024-08-03 21:01:13,485] Trial 15 pruned. \n",
      "  0%|          | 0/10 [00:39<?, ?it/s]\n",
      "[I 2024-08-03 21:01:53,294] Trial 16 pruned. \n",
      " 10%|█         | 1/10 [01:19<11:56, 79.60s/it]\n",
      "[I 2024-08-03 21:03:13,549] Trial 17 pruned. \n",
      "  0%|          | 0/10 [00:37<?, ?it/s]\n",
      "[I 2024-08-03 21:03:51,685] Trial 18 pruned. \n",
      "  0%|          | 0/10 [00:36<?, ?it/s]\n",
      "[I 2024-08-03 21:04:29,274] Trial 19 pruned. \n",
      "  0%|          | 0/10 [00:37<?, ?it/s]\n",
      "[I 2024-08-03 21:05:06,895] Trial 20 pruned. \n",
      "100%|██████████| 10/10 [06:31<00:00, 39.11s/it]\n",
      "[I 2024-08-03 21:11:38,583] Trial 21 finished with value: 0.917753259779338 and parameters: {'lr_slow': 0.00018680374735691781, 'weight_decay_slow': 0.007483296713192136, 'optimizer': 'Adam', 'lr_fast': 0.043773957520152985, 'weight_decay_fast': 0.00028285700548103985, 'batch_size': 16}. Best is trial 8 with value: 0.9307923771313942.\n",
      "100%|██████████| 10/10 [06:27<00:00, 38.79s/it]\n",
      "[I 2024-08-03 21:18:07,066] Trial 22 finished with value: 0.9207622868605817 and parameters: {'lr_slow': 9.151196041368825e-05, 'weight_decay_slow': 0.007439965801592887, 'optimizer': 'Adam', 'lr_fast': 0.027480948119442433, 'weight_decay_fast': 0.001281958536238, 'batch_size': 16}. Best is trial 8 with value: 0.9307923771313942.\n",
      "100%|██████████| 10/10 [06:32<00:00, 39.28s/it]\n",
      "[I 2024-08-03 21:24:40,424] Trial 23 finished with value: 0.917753259779338 and parameters: {'lr_slow': 7.371356980560535e-05, 'weight_decay_slow': 0.006758441036192864, 'optimizer': 'Adam', 'lr_fast': 0.017822855419055206, 'weight_decay_fast': 0.0014413640203793797, 'batch_size': 16}. Best is trial 8 with value: 0.9307923771313942.\n",
      "  0%|          | 0/10 [00:47<?, ?it/s]\n",
      "[I 2024-08-03 21:25:28,939] Trial 24 pruned. \n",
      "  0%|          | 0/10 [00:47<?, ?it/s]\n",
      "[I 2024-08-03 21:26:17,376] Trial 25 pruned. \n",
      " 20%|██        | 2/10 [02:08<08:35, 64.41s/it]\n",
      "[I 2024-08-03 21:28:27,283] Trial 26 pruned. \n",
      "  0%|          | 0/10 [00:42<?, ?it/s]\n",
      "[I 2024-08-03 21:29:10,541] Trial 27 pruned. \n",
      "  0%|          | 0/10 [00:42<?, ?it/s]\n",
      "[I 2024-08-03 21:29:53,840] Trial 28 pruned. \n",
      "  0%|          | 0/10 [00:38<?, ?it/s]\n",
      "[I 2024-08-03 21:30:32,926] Trial 29 pruned. \n",
      "  0%|          | 0/10 [00:41<?, ?it/s]\n",
      "[I 2024-08-03 21:31:15,100] Trial 30 pruned. \n",
      " 10%|█         | 1/10 [01:25<12:47, 85.25s/it]\n",
      "[I 2024-08-03 21:32:40,953] Trial 31 pruned. \n",
      " 10%|█         | 1/10 [01:24<12:40, 84.52s/it]\n",
      "[I 2024-08-03 21:34:06,151] Trial 32 pruned. \n",
      "  0%|          | 0/10 [00:42<?, ?it/s]\n",
      "[I 2024-08-03 21:34:48,808] Trial 33 pruned. \n",
      "  0%|          | 0/10 [00:41<?, ?it/s]\n",
      "[I 2024-08-03 21:35:31,145] Trial 34 pruned. \n",
      "  0%|          | 0/10 [00:39<?, ?it/s]\n",
      "[I 2024-08-03 21:36:11,577] Trial 35 pruned. \n",
      "  0%|          | 0/10 [00:43<?, ?it/s]\n",
      "[I 2024-08-03 21:36:55,636] Trial 36 pruned. \n",
      "  0%|          | 0/10 [00:39<?, ?it/s]\n",
      "[I 2024-08-03 21:37:35,884] Trial 37 pruned. \n",
      "  0%|          | 0/10 [00:39<?, ?it/s]\n",
      "[I 2024-08-03 21:38:16,060] Trial 38 pruned. \n",
      "  0%|          | 0/10 [00:39<?, ?it/s]\n",
      "[I 2024-08-03 21:38:56,063] Trial 39 pruned. \n",
      "  0%|          | 0/10 [00:42<?, ?it/s]\n",
      "[I 2024-08-03 21:39:39,082] Trial 40 pruned. \n",
      "100%|██████████| 10/10 [06:49<00:00, 40.92s/it]\n",
      "[I 2024-08-03 21:46:28,865] Trial 41 finished with value: 0.9287863590772317 and parameters: {'lr_slow': 7.150279843391331e-05, 'weight_decay_slow': 0.006881841772441482, 'optimizer': 'Adam', 'lr_fast': 0.015557374027672344, 'weight_decay_fast': 0.0014531782976816541, 'batch_size': 16}. Best is trial 8 with value: 0.9307923771313942.\n",
      " 90%|█████████ | 9/10 [06:55<00:46, 46.18s/it]\n",
      "[I 2024-08-03 21:53:25,178] Trial 42 pruned. \n",
      "  0%|          | 0/10 [00:37<?, ?it/s]\n",
      "[I 2024-08-03 21:54:03,223] Trial 43 pruned. \n",
      "  0%|          | 0/10 [00:37<?, ?it/s]\n",
      "[I 2024-08-03 21:54:41,269] Trial 44 pruned. \n",
      "  0%|          | 0/10 [00:38<?, ?it/s]\n",
      "[I 2024-08-03 21:55:20,188] Trial 45 pruned. \n",
      " 10%|█         | 1/10 [01:25<12:49, 85.50s/it]\n",
      "[I 2024-08-03 21:56:46,308] Trial 46 pruned. \n",
      "  0%|          | 0/10 [00:36<?, ?it/s]\n",
      "[I 2024-08-03 21:57:23,454] Trial 47 pruned. \n",
      "  0%|          | 0/10 [00:37<?, ?it/s]\n",
      "[I 2024-08-03 21:58:01,450] Trial 48 pruned. \n",
      "  0%|          | 0/10 [00:35<?, ?it/s]\n",
      "[I 2024-08-03 21:58:37,846] Trial 49 pruned. \n",
      "  0%|          | 0/10 [00:38<?, ?it/s]\n",
      "[I 2024-08-03 21:59:16,749] Trial 50 pruned. \n",
      "  0%|          | 0/10 [00:40<?, ?it/s]\n",
      "[I 2024-08-03 21:59:57,756] Trial 51 pruned. \n",
      "  0%|          | 0/10 [00:39<?, ?it/s]\n",
      "[I 2024-08-03 22:00:37,697] Trial 52 pruned. \n",
      "  0%|          | 0/10 [00:39<?, ?it/s]\n",
      "[I 2024-08-03 22:01:18,084] Trial 53 pruned. \n",
      "  0%|          | 0/10 [00:39<?, ?it/s]\n",
      "[I 2024-08-03 22:01:58,028] Trial 54 pruned. \n",
      "100%|██████████| 10/10 [06:16<00:00, 37.69s/it]\n",
      "[I 2024-08-03 22:08:15,562] Trial 55 finished with value: 0.9368104312938816 and parameters: {'lr_slow': 0.00013203361547007368, 'weight_decay_slow': 0.007331254145910555, 'optimizer': 'Adam', 'lr_fast': 0.008917087588276475, 'weight_decay_fast': 0.0009415974025752754, 'batch_size': 32}. Best is trial 55 with value: 0.9368104312938816.\n",
      "100%|██████████| 10/10 [06:02<00:00, 36.29s/it]\n",
      "[I 2024-08-03 22:14:19,048] Trial 56 finished with value: 0.8876629889669007 and parameters: {'lr_slow': 0.0003366910187892329, 'weight_decay_slow': 0.007379064578962659, 'optimizer': 'Adam', 'lr_fast': 0.00870140992382103, 'weight_decay_fast': 0.000996139553757456, 'batch_size': 32}. Best is trial 55 with value: 0.9368104312938816.\n",
      " 10%|█         | 1/10 [01:11<10:45, 71.77s/it]\n",
      "[I 2024-08-03 22:15:31,401] Trial 57 pruned. \n",
      "  0%|          | 0/10 [00:35<?, ?it/s]\n",
      "[I 2024-08-03 22:16:07,362] Trial 58 pruned. \n",
      "  0%|          | 0/10 [00:35<?, ?it/s]\n",
      "[I 2024-08-03 22:16:43,784] Trial 59 pruned. \n",
      "  0%|          | 0/10 [00:35<?, ?it/s]\n",
      "[I 2024-08-03 22:17:19,931] Trial 60 pruned. \n",
      "100%|██████████| 10/10 [06:13<00:00, 37.31s/it]\n",
      "[I 2024-08-03 22:23:33,659] Trial 61 finished with value: 0.9287863590772317 and parameters: {'lr_slow': 6.955471138250411e-05, 'weight_decay_slow': 0.006093860921140011, 'optimizer': 'Adam', 'lr_fast': 0.01627422956879721, 'weight_decay_fast': 0.001469115402660357, 'batch_size': 16}. Best is trial 55 with value: 0.9368104312938816.\n",
      "100%|██████████| 10/10 [06:18<00:00, 37.86s/it]\n",
      "[I 2024-08-03 22:29:52,920] Trial 62 finished with value: 0.8956870611835507 and parameters: {'lr_slow': 0.00021540321357011225, 'weight_decay_slow': 0.006264136670757186, 'optimizer': 'Adam', 'lr_fast': 0.009401391490708701, 'weight_decay_fast': 0.001506811172020978, 'batch_size': 16}. Best is trial 55 with value: 0.9368104312938816.\n",
      "  0%|          | 0/10 [00:37<?, ?it/s]\n",
      "[I 2024-08-03 22:30:31,069] Trial 63 pruned. \n",
      " 10%|█         | 1/10 [01:19<11:55, 79.51s/it]\n",
      "[I 2024-08-03 22:31:51,263] Trial 64 pruned. \n",
      "  0%|          | 0/10 [00:39<?, ?it/s]\n",
      "[I 2024-08-03 22:32:31,081] Trial 65 pruned. \n",
      "  0%|          | 0/10 [00:37<?, ?it/s]\n",
      "[I 2024-08-03 22:33:09,410] Trial 66 pruned. \n",
      "  0%|          | 0/10 [00:38<?, ?it/s]\n",
      "[I 2024-08-03 22:33:48,344] Trial 67 pruned. \n",
      "  0%|          | 0/10 [00:40<?, ?it/s]\n",
      "[I 2024-08-03 22:34:29,116] Trial 68 pruned. \n",
      " 10%|█         | 1/10 [01:21<12:16, 81.82s/it]\n",
      "[I 2024-08-03 22:35:51,630] Trial 69 pruned. \n",
      "100%|██████████| 10/10 [06:27<00:00, 38.72s/it]\n",
      "[I 2024-08-03 22:42:19,594] Trial 70 finished with value: 0.9047141424272819 and parameters: {'lr_slow': 0.00028257978535531635, 'weight_decay_slow': 0.00553689518340325, 'optimizer': 'Adam', 'lr_fast': 0.005162457498236318, 'weight_decay_fast': 0.003203628138699816, 'batch_size': 32}. Best is trial 55 with value: 0.9368104312938816.\n",
      "  0%|          | 0/10 [00:38<?, ?it/s]\n",
      "[I 2024-08-03 22:42:59,044] Trial 71 pruned. \n",
      "  0%|          | 0/10 [00:39<?, ?it/s]\n",
      "[I 2024-08-03 22:43:39,295] Trial 72 pruned. \n",
      " 10%|█         | 1/10 [01:18<11:45, 78.34s/it]\n",
      "[I 2024-08-03 22:44:58,258] Trial 73 pruned. \n",
      "  0%|          | 0/10 [00:40<?, ?it/s]\n",
      "[I 2024-08-03 22:45:39,821] Trial 74 pruned. \n",
      "  0%|          | 0/10 [00:39<?, ?it/s]\n",
      "[I 2024-08-03 22:46:19,956] Trial 75 pruned. \n",
      "  0%|          | 0/10 [00:37<?, ?it/s]\n",
      "[I 2024-08-03 22:46:57,878] Trial 76 pruned. \n",
      "  0%|          | 0/10 [00:39<?, ?it/s]\n",
      "[I 2024-08-03 22:47:37,803] Trial 77 pruned. \n",
      "  0%|          | 0/10 [00:39<?, ?it/s]\n",
      "[I 2024-08-03 22:48:17,424] Trial 78 pruned. \n",
      " 10%|█         | 1/10 [01:24<12:39, 84.42s/it]\n",
      "[I 2024-08-03 22:49:42,438] Trial 79 pruned. \n",
      "  0%|          | 0/10 [00:38<?, ?it/s]\n",
      "[I 2024-08-03 22:50:21,464] Trial 80 pruned. \n",
      "  0%|          | 0/10 [00:39<?, ?it/s]\n",
      "[I 2024-08-03 22:51:01,759] Trial 81 pruned. \n",
      " 20%|██        | 2/10 [01:58<07:53, 59.18s/it]\n",
      "[I 2024-08-03 22:53:00,725] Trial 82 pruned. \n",
      "  0%|          | 0/10 [00:39<?, ?it/s]\n",
      "[I 2024-08-03 22:53:41,032] Trial 83 pruned. \n",
      "  0%|          | 0/10 [00:39<?, ?it/s]\n",
      "[I 2024-08-03 22:54:21,373] Trial 84 pruned. \n",
      "  0%|          | 0/10 [00:39<?, ?it/s]\n",
      "[I 2024-08-03 22:55:01,009] Trial 85 pruned. \n",
      " 10%|█         | 1/10 [01:22<12:18, 82.02s/it]\n",
      "[I 2024-08-03 22:56:23,635] Trial 86 pruned. \n",
      "  0%|          | 0/10 [00:37<?, ?it/s]\n",
      "[I 2024-08-03 22:57:01,249] Trial 87 pruned. \n",
      " 50%|█████     | 5/10 [03:55<03:55, 47.03s/it]\n",
      "[I 2024-08-03 23:00:56,997] Trial 88 pruned. \n",
      "  0%|          | 0/10 [00:42<?, ?it/s]\n",
      "[I 2024-08-03 23:01:39,804] Trial 89 pruned. \n",
      "100%|██████████| 10/10 [06:14<00:00, 37.47s/it]\n",
      "[I 2024-08-03 23:07:55,217] Trial 90 finished with value: 0.892678034102307 and parameters: {'lr_slow': 0.0001801093852331116, 'weight_decay_slow': 0.006502154668718485, 'optimizer': 'RMSprop', 'lr_fast': 0.0023215890570763213, 'weight_decay_fast': 0.0013935066500821562, 'batch_size': 64}. Best is trial 55 with value: 0.9368104312938816.\n",
      " 50%|█████     | 5/10 [03:42<03:42, 44.56s/it]\n",
      "[I 2024-08-03 23:11:38,560] Trial 91 pruned. \n",
      "  0%|          | 0/10 [00:35<?, ?it/s]\n",
      "[I 2024-08-03 23:12:15,139] Trial 92 pruned. \n",
      "  0%|          | 0/10 [00:36<?, ?it/s]\n",
      "[I 2024-08-03 23:12:52,205] Trial 93 pruned. \n",
      "100%|██████████| 10/10 [06:03<00:00, 36.38s/it]\n",
      "[I 2024-08-03 23:18:56,576] Trial 94 finished with value: 0.9378134403209629 and parameters: {'lr_slow': 0.00014472029112066751, 'weight_decay_slow': 0.004378597830663055, 'optimizer': 'Adam', 'lr_fast': 0.008744245242652646, 'weight_decay_fast': 0.0008623496111178086, 'batch_size': 32}. Best is trial 94 with value: 0.9378134403209629.\n",
      " 10%|█         | 1/10 [01:12<10:54, 72.67s/it]\n",
      "[I 2024-08-03 23:20:09,850] Trial 95 pruned. \n",
      "100%|██████████| 10/10 [06:02<00:00, 36.24s/it]\n",
      "[I 2024-08-03 23:26:12,864] Trial 96 finished with value: 0.9498495486459378 and parameters: {'lr_slow': 0.0001330670472334793, 'weight_decay_slow': 0.0017155870180799188, 'optimizer': 'Adam', 'lr_fast': 0.014057881759726323, 'weight_decay_fast': 3.429106176887196e-05, 'batch_size': 32}. Best is trial 96 with value: 0.9498495486459378.\n",
      "100%|██████████| 10/10 [06:03<00:00, 36.32s/it]\n",
      "[I 2024-08-03 23:32:16,650] Trial 97 finished with value: 0.9348044132397192 and parameters: {'lr_slow': 0.0001444302872566509, 'weight_decay_slow': 0.0016985040268857512, 'optimizer': 'Adam', 'lr_fast': 0.01429971928812102, 'weight_decay_fast': 0.001186101216559254, 'batch_size': 32}. Best is trial 96 with value: 0.9498495486459378.\n",
      "100%|██████████| 10/10 [06:00<00:00, 36.05s/it]\n",
      "[I 2024-08-03 23:38:17,800] Trial 98 finished with value: 0.9518555667001003 and parameters: {'lr_slow': 0.00015786406831977016, 'weight_decay_slow': 0.0016004524336544544, 'optimizer': 'Adam', 'lr_fast': 0.013715735630791915, 'weight_decay_fast': 0.0011135747632361373, 'batch_size': 32}. Best is trial 98 with value: 0.9518555667001003.\n",
      "  0%|          | 0/10 [00:36<?, ?it/s]\n",
      "[I 2024-08-03 23:38:54,510] Trial 99 pruned. \n",
      "100%|██████████| 10/10 [06:02<00:00, 36.29s/it]\n",
      "[I 2024-08-03 23:44:58,023] Trial 100 finished with value: 0.966900702106319 and parameters: {'lr_slow': 0.00011201128824447833, 'weight_decay_slow': 0.001225300046953334, 'optimizer': 'Adam', 'lr_fast': 0.010429512689711757, 'weight_decay_fast': 0.0016482899135747894, 'batch_size': 32}. Best is trial 100 with value: 0.966900702106319.\n",
      "  0%|          | 0/10 [00:36<?, ?it/s]\n",
      "[I 2024-08-03 23:45:34,956] Trial 101 pruned. \n",
      "100%|██████████| 10/10 [06:04<00:00, 36.48s/it]\n",
      "[I 2024-08-03 23:51:40,417] Trial 102 finished with value: 0.970912738214644 and parameters: {'lr_slow': 0.00013955902469821164, 'weight_decay_slow': 0.0011343113514715552, 'optimizer': 'Adam', 'lr_fast': 0.009427355395105285, 'weight_decay_fast': 0.001827833478313847, 'batch_size': 32}. Best is trial 102 with value: 0.970912738214644.\n",
      "100%|██████████| 10/10 [06:01<00:00, 36.16s/it]\n",
      "[I 2024-08-03 23:57:42,670] Trial 103 finished with value: 0.9679037111334002 and parameters: {'lr_slow': 0.00013714393136609964, 'weight_decay_slow': 0.0005594653072163393, 'optimizer': 'Adam', 'lr_fast': 0.006722483761444383, 'weight_decay_fast': 0.0018447116895615138, 'batch_size': 32}. Best is trial 102 with value: 0.970912738214644.\n",
      "100%|██████████| 10/10 [06:03<00:00, 36.36s/it]\n",
      "[I 2024-08-04 00:03:46,867] Trial 104 finished with value: 0.9428284854563691 and parameters: {'lr_slow': 0.00018994670877178662, 'weight_decay_slow': 0.0007053482923654836, 'optimizer': 'Adam', 'lr_fast': 0.003217701754776556, 'weight_decay_fast': 0.0021196195460604027, 'batch_size': 32}. Best is trial 102 with value: 0.970912738214644.\n",
      "100%|██████████| 10/10 [06:02<00:00, 36.29s/it]\n",
      "[I 2024-08-04 00:09:50,416] Trial 105 finished with value: 0.9568706118355065 and parameters: {'lr_slow': 0.0001874795814684679, 'weight_decay_slow': 0.0005575824551224897, 'optimizer': 'Adam', 'lr_fast': 0.0033065893683139154, 'weight_decay_fast': 0.0020030574394337233, 'batch_size': 32}. Best is trial 102 with value: 0.970912738214644.\n",
      "100%|██████████| 10/10 [06:03<00:00, 36.36s/it]\n",
      "[I 2024-08-04 00:15:54,663] Trial 106 finished with value: 0.9608826479438315 and parameters: {'lr_slow': 0.00018551848480019288, 'weight_decay_slow': 0.0005570187348685695, 'optimizer': 'Adam', 'lr_fast': 0.003449882097480872, 'weight_decay_fast': 0.0023205599118373272, 'batch_size': 32}. Best is trial 102 with value: 0.970912738214644.\n",
      "100%|██████████| 10/10 [06:08<00:00, 36.85s/it]\n",
      "[I 2024-08-04 00:22:03,807] Trial 107 finished with value: 0.9608826479438315 and parameters: {'lr_slow': 0.00018442907445484887, 'weight_decay_slow': 0.0006906323409458677, 'optimizer': 'Adam', 'lr_fast': 0.0016392349447077522, 'weight_decay_fast': 0.002351245852492691, 'batch_size': 32}. Best is trial 102 with value: 0.970912738214644.\n",
      "100%|██████████| 10/10 [06:01<00:00, 36.16s/it]\n",
      "[I 2024-08-04 00:28:06,038] Trial 108 finished with value: 0.9578736208625878 and parameters: {'lr_slow': 0.00018248154172176555, 'weight_decay_slow': 0.000633213269238761, 'optimizer': 'Adam', 'lr_fast': 0.001240504655004294, 'weight_decay_fast': 0.0022923439319180857, 'batch_size': 32}. Best is trial 102 with value: 0.970912738214644.\n",
      "100%|██████████| 10/10 [06:02<00:00, 36.25s/it]\n",
      "[I 2024-08-04 00:34:09,106] Trial 109 finished with value: 0.9277833500501504 and parameters: {'lr_slow': 0.0003576124899384091, 'weight_decay_slow': 0.0006033788552613864, 'optimizer': 'Adam', 'lr_fast': 0.0006687484821540599, 'weight_decay_fast': 0.002228949140655319, 'batch_size': 32}. Best is trial 102 with value: 0.970912738214644.\n",
      "  0%|          | 0/10 [00:36<?, ?it/s]\n",
      "[I 2024-08-04 00:34:46,264] Trial 110 pruned. \n",
      "100%|██████████| 10/10 [05:59<00:00, 35.93s/it]\n",
      "[I 2024-08-04 00:40:46,155] Trial 111 finished with value: 0.9458375125376128 and parameters: {'lr_slow': 0.00022454129288975542, 'weight_decay_slow': 0.0002840575642752578, 'optimizer': 'Adam', 'lr_fast': 0.0018682122995686528, 'weight_decay_fast': 0.001972553462029245, 'batch_size': 32}. Best is trial 102 with value: 0.970912738214644.\n",
      "100%|██████████| 10/10 [06:00<00:00, 36.06s/it]\n",
      "[I 2024-08-04 00:46:47,373] Trial 112 finished with value: 0.9428284854563691 and parameters: {'lr_slow': 0.00023659770221109327, 'weight_decay_slow': 0.00038687933073700204, 'optimizer': 'Adam', 'lr_fast': 0.0015725052198331143, 'weight_decay_fast': 0.0019183520956191442, 'batch_size': 32}. Best is trial 102 with value: 0.970912738214644.\n",
      "100%|██████████| 10/10 [06:03<00:00, 36.31s/it]\n",
      "[I 2024-08-04 00:52:51,080] Trial 113 finished with value: 0.9398194583751254 and parameters: {'lr_slow': 0.00028171081527126387, 'weight_decay_slow': 0.00036594309115410063, 'optimizer': 'Adam', 'lr_fast': 0.0009682065319620246, 'weight_decay_fast': 0.002760967148238513, 'batch_size': 32}. Best is trial 102 with value: 0.970912738214644.\n",
      " 10%|█         | 1/10 [01:11<10:47, 71.94s/it]\n",
      "[I 2024-08-04 00:54:03,618] Trial 114 pruned. \n",
      " 10%|█         | 1/10 [01:12<10:55, 72.83s/it]\n",
      "[I 2024-08-04 00:55:17,054] Trial 115 pruned. \n",
      " 10%|█         | 1/10 [01:12<10:48, 72.08s/it]\n",
      "[I 2024-08-04 00:56:29,726] Trial 116 pruned. \n",
      "  0%|          | 0/10 [00:36<?, ?it/s]\n",
      "[I 2024-08-04 00:57:06,323] Trial 117 pruned. \n",
      "  0%|          | 0/10 [00:36<?, ?it/s]\n",
      "[I 2024-08-04 00:57:43,711] Trial 118 pruned. \n",
      "  0%|          | 0/10 [00:36<?, ?it/s]\n",
      "[I 2024-08-04 00:58:20,853] Trial 119 pruned. \n",
      "100%|██████████| 10/10 [06:00<00:00, 36.09s/it]\n",
      "[I 2024-08-04 01:04:22,383] Trial 120 finished with value: 0.9528585757271816 and parameters: {'lr_slow': 0.00017784467979440957, 'weight_decay_slow': 5.250420071848297e-05, 'optimizer': 'RMSprop', 'lr_fast': 0.003566239797151446, 'weight_decay_fast': 0.002137004664477517, 'batch_size': 32}. Best is trial 102 with value: 0.970912738214644.\n",
      "  0%|          | 0/10 [00:36<?, ?it/s]\n",
      "[I 2024-08-04 01:04:59,064] Trial 121 pruned. \n",
      " 30%|███       | 3/10 [02:23<05:35, 48.00s/it]\n",
      "[I 2024-08-04 01:07:23,661] Trial 122 pruned. \n",
      "  0%|          | 0/10 [00:36<?, ?it/s]\n",
      "[I 2024-08-04 01:08:00,327] Trial 123 pruned. \n",
      "100%|██████████| 10/10 [06:03<00:00, 36.32s/it]\n",
      "[I 2024-08-04 01:14:04,118] Trial 124 finished with value: 0.9568706118355065 and parameters: {'lr_slow': 0.00019706098293062636, 'weight_decay_slow': 0.0007302962362202726, 'optimizer': 'RMSprop', 'lr_fast': 0.0018816541378399814, 'weight_decay_fast': 0.002505436098447166, 'batch_size': 32}. Best is trial 102 with value: 0.970912738214644.\n",
      "100%|██████████| 10/10 [06:02<00:00, 36.28s/it]\n",
      "[I 2024-08-04 01:20:07,478] Trial 125 finished with value: 0.9488465396188566 and parameters: {'lr_slow': 9.206287889563547e-05, 'weight_decay_slow': 0.0006682221508600754, 'optimizer': 'RMSprop', 'lr_fast': 0.0018967089174987252, 'weight_decay_fast': 0.0024935955608917535, 'batch_size': 32}. Best is trial 102 with value: 0.970912738214644.\n",
      "100%|██████████| 10/10 [06:03<00:00, 36.40s/it]\n",
      "[I 2024-08-04 01:26:12,055] Trial 126 finished with value: 0.9448345035105316 and parameters: {'lr_slow': 0.00013681881512597906, 'weight_decay_slow': 0.0009740819974826558, 'optimizer': 'RMSprop', 'lr_fast': 0.0019131191214287876, 'weight_decay_fast': 0.002416782923201809, 'batch_size': 32}. Best is trial 102 with value: 0.970912738214644.\n",
      " 10%|█         | 1/10 [01:12<10:48, 72.10s/it]\n",
      "[I 2024-08-04 01:27:24,752] Trial 127 pruned. \n",
      " 40%|████      | 4/10 [03:02<04:33, 45.55s/it]\n",
      "[I 2024-08-04 01:30:27,588] Trial 128 pruned. \n",
      "100%|██████████| 10/10 [06:01<00:00, 36.20s/it]\n",
      "[I 2024-08-04 01:36:30,162] Trial 129 finished with value: 0.9658976930792377 and parameters: {'lr_slow': 8.598022539292328e-05, 'weight_decay_slow': 0.0014636649209304737, 'optimizer': 'RMSprop', 'lr_fast': 0.0021744842566569452, 'weight_decay_fast': 0.0016840912913991004, 'batch_size': 32}. Best is trial 102 with value: 0.970912738214644.\n",
      " 10%|█         | 1/10 [01:12<10:50, 72.26s/it]\n",
      "[I 2024-08-04 01:37:43,031] Trial 130 pruned. \n",
      "100%|██████████| 10/10 [06:02<00:00, 36.24s/it]\n",
      "[I 2024-08-04 01:43:45,995] Trial 131 finished with value: 0.9689067201604814 and parameters: {'lr_slow': 8.347337981812994e-05, 'weight_decay_slow': 0.0008155309996945416, 'optimizer': 'RMSprop', 'lr_fast': 0.0025891007834191507, 'weight_decay_fast': 0.0017495763414024101, 'batch_size': 32}. Best is trial 102 with value: 0.970912738214644.\n",
      "100%|██████████| 10/10 [06:01<00:00, 36.18s/it]\n",
      "[I 2024-08-04 01:49:48,430] Trial 132 finished with value: 0.9618856569709128 and parameters: {'lr_slow': 8.902137447715534e-05, 'weight_decay_slow': 0.0005538995161199818, 'optimizer': 'RMSprop', 'lr_fast': 0.0024718740735935702, 'weight_decay_fast': 0.0022158999973886963, 'batch_size': 32}. Best is trial 102 with value: 0.970912738214644.\n",
      "100%|██████████| 10/10 [06:02<00:00, 36.24s/it]\n",
      "[I 2024-08-04 01:55:51,410] Trial 133 finished with value: 0.9528585757271816 and parameters: {'lr_slow': 8.563362351374905e-05, 'weight_decay_slow': 0.001399553515838771, 'optimizer': 'RMSprop', 'lr_fast': 0.0025809044436379924, 'weight_decay_fast': 0.0016526179987556926, 'batch_size': 32}. Best is trial 102 with value: 0.970912738214644.\n",
      " 30%|███       | 3/10 [02:26<05:42, 48.95s/it]\n",
      "[I 2024-08-04 01:58:18,872] Trial 134 pruned. \n",
      "  0%|          | 0/10 [00:36<?, ?it/s]\n",
      "[I 2024-08-04 01:58:55,603] Trial 135 pruned. \n",
      " 40%|████      | 4/10 [03:01<04:31, 45.31s/it]\n",
      "[I 2024-08-04 02:01:57,459] Trial 136 pruned. \n",
      "100%|██████████| 10/10 [06:02<00:00, 36.22s/it]\n",
      "[I 2024-08-04 02:08:00,239] Trial 137 finished with value: 0.9528585757271816 and parameters: {'lr_slow': 0.00016601203764890997, 'weight_decay_slow': 0.001526585245590259, 'optimizer': 'RMSprop', 'lr_fast': 0.0013206609133237868, 'weight_decay_fast': 0.0022481502479022664, 'batch_size': 32}. Best is trial 102 with value: 0.970912738214644.\n",
      "100%|██████████| 10/10 [06:04<00:00, 36.42s/it]\n",
      "[I 2024-08-04 02:14:05,077] Trial 138 finished with value: 0.9498495486459378 and parameters: {'lr_slow': 8.393244392475406e-05, 'weight_decay_slow': 0.0007404978619691229, 'optimizer': 'RMSprop', 'lr_fast': 0.0013189934575070093, 'weight_decay_fast': 0.0022945948508403843, 'batch_size': 32}. Best is trial 102 with value: 0.970912738214644.\n",
      " 30%|███       | 3/10 [02:24<05:36, 48.08s/it]\n",
      "[I 2024-08-04 02:16:29,913] Trial 139 pruned. \n",
      " 20%|██        | 2/10 [01:48<07:15, 54.40s/it]\n",
      "[I 2024-08-04 02:18:19,320] Trial 140 pruned. \n",
      " 20%|██        | 2/10 [01:48<07:13, 54.19s/it]\n",
      "[I 2024-08-04 02:20:08,305] Trial 141 pruned. \n",
      " 10%|█         | 1/10 [01:12<10:54, 72.75s/it]\n",
      "[I 2024-08-04 02:21:21,690] Trial 142 pruned. \n",
      "100%|██████████| 10/10 [06:04<00:00, 36.41s/it]\n",
      "[I 2024-08-04 02:27:26,387] Trial 143 finished with value: 0.954864593781344 and parameters: {'lr_slow': 0.0001655026968598142, 'weight_decay_slow': 0.0004932007161997418, 'optimizer': 'RMSprop', 'lr_fast': 0.001572139644075951, 'weight_decay_fast': 0.002135055577336028, 'batch_size': 32}. Best is trial 102 with value: 0.970912738214644.\n",
      "100%|██████████| 10/10 [06:02<00:00, 36.24s/it]\n",
      "[I 2024-08-04 02:33:29,343] Trial 144 finished with value: 0.9568706118355065 and parameters: {'lr_slow': 0.00011274300302389007, 'weight_decay_slow': 0.0005035155209317202, 'optimizer': 'RMSprop', 'lr_fast': 0.0008237829644741565, 'weight_decay_fast': 0.0020879177792719698, 'batch_size': 32}. Best is trial 102 with value: 0.970912738214644.\n",
      " 30%|███       | 3/10 [02:24<05:38, 48.32s/it]\n",
      "[I 2024-08-04 02:35:54,912] Trial 145 pruned. \n",
      "  0%|          | 0/10 [00:35<?, ?it/s]\n",
      "[I 2024-08-04 02:36:30,908] Trial 146 pruned. \n",
      " 20%|██        | 2/10 [01:47<07:09, 53.63s/it]\n",
      "[I 2024-08-04 02:38:18,769] Trial 147 pruned. \n",
      "100%|██████████| 10/10 [05:59<00:00, 35.99s/it]\n",
      "[I 2024-08-04 02:44:19,319] Trial 148 finished with value: 0.958876629889669 and parameters: {'lr_slow': 0.00011050654846784925, 'weight_decay_slow': 0.00041415005308929155, 'optimizer': 'RMSprop', 'lr_fast': 0.000337715361177041, 'weight_decay_fast': 0.0021198384793279837, 'batch_size': 32}. Best is trial 102 with value: 0.970912738214644.\n",
      " 20%|██        | 2/10 [01:49<07:17, 54.63s/it]\n",
      "[I 2024-08-04 02:46:09,180] Trial 149 pruned. \n",
      "  0%|          | 0/10 [00:36<?, ?it/s]\n",
      "[I 2024-08-04 02:46:46,016] Trial 150 pruned. \n",
      "100%|██████████| 10/10 [06:03<00:00, 36.30s/it]\n",
      "[I 2024-08-04 02:52:49,660] Trial 151 finished with value: 0.9608826479438315 and parameters: {'lr_slow': 0.00010825796735615959, 'weight_decay_slow': 0.0010548508700471953, 'optimizer': 'RMSprop', 'lr_fast': 0.00012725219298679466, 'weight_decay_fast': 0.001592862100173497, 'batch_size': 32}. Best is trial 102 with value: 0.970912738214644.\n",
      " 50%|█████     | 5/10 [03:38<03:38, 43.78s/it]\n",
      "[I 2024-08-04 02:56:29,158] Trial 152 pruned. \n",
      "100%|██████████| 10/10 [06:01<00:00, 36.20s/it]\n",
      "[I 2024-08-04 03:02:31,730] Trial 153 finished with value: 0.9418254764292878 and parameters: {'lr_slow': 0.0001860784239307491, 'weight_decay_slow': 0.0005364196988379736, 'optimizer': 'RMSprop', 'lr_fast': 0.00015510491382421146, 'weight_decay_fast': 0.002162830731378416, 'batch_size': 32}. Best is trial 102 with value: 0.970912738214644.\n",
      " 10%|█         | 1/10 [01:11<10:47, 71.92s/it]\n",
      "[I 2024-08-04 03:03:44,268] Trial 154 pruned. \n",
      " 60%|██████    | 6/10 [04:15<02:50, 42.57s/it]\n",
      "[I 2024-08-04 03:08:00,274] Trial 155 pruned. \n",
      "  0%|          | 0/10 [00:36<?, ?it/s]\n",
      "[I 2024-08-04 03:08:37,053] Trial 156 pruned. \n",
      "  0%|          | 0/10 [00:36<?, ?it/s]\n",
      "[I 2024-08-04 03:09:13,681] Trial 157 pruned. \n",
      " 10%|█         | 1/10 [01:11<10:42, 71.36s/it]\n",
      "[I 2024-08-04 03:10:25,642] Trial 158 pruned. \n",
      "  0%|          | 0/10 [00:36<?, ?it/s]\n",
      "[I 2024-08-04 03:11:02,375] Trial 159 pruned. \n",
      "  0%|          | 0/10 [00:36<?, ?it/s]\n",
      "[I 2024-08-04 03:11:39,012] Trial 160 pruned. \n",
      " 20%|██        | 2/10 [01:47<07:11, 53.98s/it]\n",
      "[I 2024-08-04 03:13:27,572] Trial 161 pruned. \n",
      " 30%|███       | 3/10 [02:23<05:34, 47.86s/it]\n",
      "[I 2024-08-04 03:15:51,746] Trial 162 pruned. \n",
      "  0%|          | 0/10 [00:36<?, ?it/s]\n",
      "[I 2024-08-04 03:16:28,404] Trial 163 pruned. \n",
      "  0%|          | 0/10 [00:35<?, ?it/s]\n",
      "[I 2024-08-04 03:17:04,753] Trial 164 pruned. \n",
      "  0%|          | 0/10 [00:35<?, ?it/s]\n",
      "[I 2024-08-04 03:17:41,347] Trial 165 pruned. \n",
      "  0%|          | 0/10 [00:35<?, ?it/s]\n",
      "[I 2024-08-04 03:18:17,950] Trial 166 pruned. \n",
      " 30%|███       | 3/10 [02:23<05:35, 47.94s/it]\n",
      "[I 2024-08-04 03:20:42,377] Trial 167 pruned. \n",
      " 40%|████      | 4/10 [03:03<04:34, 45.76s/it]\n",
      "[I 2024-08-04 03:23:46,038] Trial 168 pruned. \n",
      "100%|██████████| 10/10 [06:01<00:00, 36.15s/it]\n",
      "[I 2024-08-04 03:29:48,119] Trial 169 finished with value: 0.9648946840521565 and parameters: {'lr_slow': 0.00015197166813151535, 'weight_decay_slow': 0.0003930051864701078, 'optimizer': 'RMSprop', 'lr_fast': 0.00015949366398607264, 'weight_decay_fast': 0.0020280799241795856, 'batch_size': 32}. Best is trial 102 with value: 0.970912738214644.\n",
      "100%|██████████| 10/10 [06:02<00:00, 36.21s/it]\n",
      "[I 2024-08-04 03:35:50,859] Trial 170 finished with value: 0.9638916750250752 and parameters: {'lr_slow': 0.00015915320311753046, 'weight_decay_slow': 0.00040786155959596313, 'optimizer': 'RMSprop', 'lr_fast': 0.00015513961838545582, 'weight_decay_fast': 0.0020766126331887604, 'batch_size': 32}. Best is trial 102 with value: 0.970912738214644.\n",
      "100%|██████████| 10/10 [06:07<00:00, 36.73s/it]\n",
      "[I 2024-08-04 03:41:58,750] Trial 171 finished with value: 0.9518555667001003 and parameters: {'lr_slow': 0.0001608984694078916, 'weight_decay_slow': 0.00041173749495640845, 'optimizer': 'RMSprop', 'lr_fast': 0.00015227401681962202, 'weight_decay_fast': 0.0020432398682155876, 'batch_size': 32}. Best is trial 102 with value: 0.970912738214644.\n",
      "100%|██████████| 10/10 [05:57<00:00, 35.73s/it]\n",
      "[I 2024-08-04 03:47:56,697] Trial 172 finished with value: 0.9658976930792377 and parameters: {'lr_slow': 0.0002054951709671868, 'weight_decay_slow': 0.0001259107631198591, 'optimizer': 'RMSprop', 'lr_fast': 0.00010458221148896693, 'weight_decay_fast': 0.0018708833981317275, 'batch_size': 32}. Best is trial 102 with value: 0.970912738214644.\n",
      "100%|██████████| 10/10 [06:03<00:00, 36.33s/it]\n",
      "[I 2024-08-04 03:54:00,582] Trial 173 finished with value: 0.9598796389167502 and parameters: {'lr_slow': 0.00023802428452377619, 'weight_decay_slow': 0.00048344003173959296, 'optimizer': 'RMSprop', 'lr_fast': 0.00015136313622506788, 'weight_decay_fast': 0.0018321522888294461, 'batch_size': 32}. Best is trial 102 with value: 0.970912738214644.\n",
      " 20%|██        | 2/10 [01:48<07:15, 54.44s/it]\n",
      "[I 2024-08-04 03:55:50,169] Trial 174 pruned. \n",
      "  0%|          | 0/10 [00:35<?, ?it/s]\n",
      "[I 2024-08-04 03:56:26,789] Trial 175 pruned. \n",
      "  0%|          | 0/10 [00:36<?, ?it/s]\n",
      "[I 2024-08-04 03:57:03,835] Trial 176 pruned. \n",
      "  0%|          | 0/10 [00:36<?, ?it/s]\n",
      "[I 2024-08-04 03:57:40,988] Trial 177 pruned. \n",
      "  0%|          | 0/10 [00:36<?, ?it/s]\n",
      "[I 2024-08-04 03:58:17,814] Trial 178 pruned. \n",
      " 10%|█         | 1/10 [01:12<10:49, 72.16s/it]\n",
      "[I 2024-08-04 03:59:30,565] Trial 179 pruned. \n",
      "  0%|          | 0/10 [00:36<?, ?it/s]\n",
      "[I 2024-08-04 04:00:07,210] Trial 180 pruned. \n",
      " 10%|█         | 1/10 [01:11<10:45, 71.73s/it]\n",
      "[I 2024-08-04 04:01:19,579] Trial 181 pruned. \n",
      " 40%|████      | 4/10 [03:03<04:35, 45.88s/it]\n",
      "[I 2024-08-04 04:04:23,720] Trial 182 pruned. \n",
      "100%|██████████| 10/10 [06:01<00:00, 36.18s/it]\n",
      "[I 2024-08-04 04:10:26,145] Trial 183 finished with value: 0.9578736208625878 and parameters: {'lr_slow': 0.00016990820730214398, 'weight_decay_slow': 0.00027956787859799686, 'optimizer': 'RMSprop', 'lr_fast': 0.0001972447057113473, 'weight_decay_fast': 0.0020762935573331244, 'batch_size': 32}. Best is trial 102 with value: 0.970912738214644.\n",
      "100%|██████████| 10/10 [06:01<00:00, 36.15s/it]\n",
      "[I 2024-08-04 04:16:28,218] Trial 184 finished with value: 0.9628886659979939 and parameters: {'lr_slow': 0.00012561168557554317, 'weight_decay_slow': 0.0002624792012494922, 'optimizer': 'RMSprop', 'lr_fast': 0.00022959733430083292, 'weight_decay_fast': 0.001922001860996799, 'batch_size': 32}. Best is trial 102 with value: 0.970912738214644.\n",
      "  0%|          | 0/10 [00:35<?, ?it/s]\n",
      "[I 2024-08-04 04:17:04,481] Trial 185 pruned. \n",
      " 10%|█         | 1/10 [01:14<11:10, 74.51s/it]\n",
      "[I 2024-08-04 04:18:19,608] Trial 186 pruned. \n",
      " 30%|███       | 3/10 [02:24<05:36, 48.01s/it]\n",
      "[I 2024-08-04 04:20:44,231] Trial 187 pruned. \n",
      " 20%|██        | 2/10 [01:48<07:13, 54.13s/it]\n",
      "[I 2024-08-04 04:22:33,086] Trial 188 pruned. \n",
      "  0%|          | 0/10 [00:36<?, ?it/s]\n",
      "[I 2024-08-04 04:23:09,899] Trial 189 pruned. \n",
      "  0%|          | 0/10 [00:36<?, ?it/s]\n",
      "[I 2024-08-04 04:23:46,569] Trial 190 pruned. \n",
      " 40%|████      | 4/10 [03:00<04:30, 45.09s/it]\n",
      "[I 2024-08-04 04:26:47,523] Trial 191 pruned. \n",
      " 20%|██        | 2/10 [01:48<07:14, 54.37s/it]\n",
      "[I 2024-08-04 04:28:36,879] Trial 192 pruned. \n",
      "  0%|          | 0/10 [00:36<?, ?it/s]\n",
      "[I 2024-08-04 04:29:13,814] Trial 193 pruned. \n",
      "  0%|          | 0/10 [00:35<?, ?it/s]\n",
      "[I 2024-08-04 04:29:50,134] Trial 194 pruned. \n",
      " 30%|███       | 3/10 [02:25<05:40, 48.59s/it]\n",
      "[I 2024-08-04 04:32:16,504] Trial 195 pruned. \n",
      " 20%|██        | 2/10 [01:48<07:12, 54.04s/it]\n",
      "[I 2024-08-04 04:34:05,184] Trial 196 pruned. \n",
      " 10%|█         | 1/10 [01:12<10:50, 72.25s/it]\n",
      "[I 2024-08-04 04:35:18,048] Trial 197 pruned. \n",
      "  0%|          | 0/10 [00:36<?, ?it/s]\n",
      "[I 2024-08-04 04:35:54,983] Trial 198 pruned. \n",
      "100%|██████████| 10/10 [06:00<00:00, 36.06s/it]\n",
      "[I 2024-08-04 04:41:56,179] Trial 199 finished with value: 0.9578736208625878 and parameters: {'lr_slow': 0.00015297419950700215, 'weight_decay_slow': 0.00036940907889928306, 'optimizer': 'RMSprop', 'lr_fast': 0.002076938921350812, 'weight_decay_fast': 0.0014778666256050758, 'batch_size': 32}. Best is trial 102 with value: 0.970912738214644.\n"
     ]
    },
    {
     "name": "stdout",
     "output_type": "stream",
     "text": [
      "Study statistics: \n",
      " Number of finished trials:  200\n",
      " Number of pruned trials:  143\n",
      " Number of complete trials:  57\n",
      "Best trial:\n",
      " Value:  0.970912738214644\n",
      " Params: \n",
      " lr_slow: 0.00013955902469821164\n",
      " weight_decay_slow: 0.0011343113514715552\n",
      " optimizer: Adam\n",
      " lr_fast: 0.009427355395105285\n",
      " weight_decay_fast: 0.001827833478313847\n",
      " batch_size: 32\n"
     ]
    }
   ],
   "source": [
    "# now we can run the experiment\n",
    "sampler = optuna.samplers.TPESampler()\n",
    "study = optuna.create_study(study_name=\"vehicle_damage\", direction=\"maximize\", sampler=sampler)\n",
    "study.optimize(objective, n_trials=200, timeout=None)\n",
    "\n",
    "pruned_trials = [t for t in study.trials if t.state == optuna.trial.TrialState.PRUNED]\n",
    "complete_trials = [t for t in study.trials if t.state == optuna.trial.TrialState.COMPLETE]\n",
    "\n",
    "print(\"Study statistics: \")\n",
    "print(\" Number of finished trials: \", len(study.trials))\n",
    "print(\" Number of pruned trials: \", len(pruned_trials))\n",
    "print(\" Number of complete trials: \", len(complete_trials))\n",
    "\n",
    "print(\"Best trial:\")\n",
    "trial = study.best_trial\n",
    "\n",
    "print(\" Value: \", trial.value)\n",
    "\n",
    "print(\" Params: \")\n",
    "for key, value in trial.params.items():\n",
    "    print(\" {}: {}\".format(key, value))\n"
   ]
  },
  {
   "cell_type": "code",
   "execution_count": 8,
   "metadata": {},
   "outputs": [
    {
     "data": {
      "application/vnd.plotly.v1+json": {
       "config": {
        "plotlyServerURL": "https://plot.ly"
       },
       "data": [
        {
         "cliponaxis": false,
         "hovertemplate": [
          "weight_decay_fast (FloatDistribution): 0.015056516315930647<extra></extra>",
          "batch_size (CategoricalDistribution): 0.02523428766096303<extra></extra>",
          "optimizer (CategoricalDistribution): 0.026306205217230903<extra></extra>",
          "lr_fast (FloatDistribution): 0.036987445826972866<extra></extra>",
          "weight_decay_slow (FloatDistribution): 0.2940718494396569<extra></extra>",
          "lr_slow (FloatDistribution): 0.6023436955392456<extra></extra>"
         ],
         "name": "Objective Value",
         "orientation": "h",
         "text": [
          "0.02",
          "0.03",
          "0.03",
          "0.04",
          "0.29",
          "0.60"
         ],
         "textposition": "outside",
         "type": "bar",
         "x": [
          0.015056516315930647,
          0.02523428766096303,
          0.026306205217230903,
          0.036987445826972866,
          0.2940718494396569,
          0.6023436955392456
         ],
         "y": [
          "weight_decay_fast",
          "batch_size",
          "optimizer",
          "lr_fast",
          "weight_decay_slow",
          "lr_slow"
         ]
        }
       ],
       "layout": {
        "template": {
         "data": {
          "bar": [
           {
            "error_x": {
             "color": "#2a3f5f"
            },
            "error_y": {
             "color": "#2a3f5f"
            },
            "marker": {
             "line": {
              "color": "#E5ECF6",
              "width": 0.5
             },
             "pattern": {
              "fillmode": "overlay",
              "size": 10,
              "solidity": 0.2
             }
            },
            "type": "bar"
           }
          ],
          "barpolar": [
           {
            "marker": {
             "line": {
              "color": "#E5ECF6",
              "width": 0.5
             },
             "pattern": {
              "fillmode": "overlay",
              "size": 10,
              "solidity": 0.2
             }
            },
            "type": "barpolar"
           }
          ],
          "carpet": [
           {
            "aaxis": {
             "endlinecolor": "#2a3f5f",
             "gridcolor": "white",
             "linecolor": "white",
             "minorgridcolor": "white",
             "startlinecolor": "#2a3f5f"
            },
            "baxis": {
             "endlinecolor": "#2a3f5f",
             "gridcolor": "white",
             "linecolor": "white",
             "minorgridcolor": "white",
             "startlinecolor": "#2a3f5f"
            },
            "type": "carpet"
           }
          ],
          "choropleth": [
           {
            "colorbar": {
             "outlinewidth": 0,
             "ticks": ""
            },
            "type": "choropleth"
           }
          ],
          "contour": [
           {
            "colorbar": {
             "outlinewidth": 0,
             "ticks": ""
            },
            "colorscale": [
             [
              0,
              "#0d0887"
             ],
             [
              0.1111111111111111,
              "#46039f"
             ],
             [
              0.2222222222222222,
              "#7201a8"
             ],
             [
              0.3333333333333333,
              "#9c179e"
             ],
             [
              0.4444444444444444,
              "#bd3786"
             ],
             [
              0.5555555555555556,
              "#d8576b"
             ],
             [
              0.6666666666666666,
              "#ed7953"
             ],
             [
              0.7777777777777778,
              "#fb9f3a"
             ],
             [
              0.8888888888888888,
              "#fdca26"
             ],
             [
              1,
              "#f0f921"
             ]
            ],
            "type": "contour"
           }
          ],
          "contourcarpet": [
           {
            "colorbar": {
             "outlinewidth": 0,
             "ticks": ""
            },
            "type": "contourcarpet"
           }
          ],
          "heatmap": [
           {
            "colorbar": {
             "outlinewidth": 0,
             "ticks": ""
            },
            "colorscale": [
             [
              0,
              "#0d0887"
             ],
             [
              0.1111111111111111,
              "#46039f"
             ],
             [
              0.2222222222222222,
              "#7201a8"
             ],
             [
              0.3333333333333333,
              "#9c179e"
             ],
             [
              0.4444444444444444,
              "#bd3786"
             ],
             [
              0.5555555555555556,
              "#d8576b"
             ],
             [
              0.6666666666666666,
              "#ed7953"
             ],
             [
              0.7777777777777778,
              "#fb9f3a"
             ],
             [
              0.8888888888888888,
              "#fdca26"
             ],
             [
              1,
              "#f0f921"
             ]
            ],
            "type": "heatmap"
           }
          ],
          "heatmapgl": [
           {
            "colorbar": {
             "outlinewidth": 0,
             "ticks": ""
            },
            "colorscale": [
             [
              0,
              "#0d0887"
             ],
             [
              0.1111111111111111,
              "#46039f"
             ],
             [
              0.2222222222222222,
              "#7201a8"
             ],
             [
              0.3333333333333333,
              "#9c179e"
             ],
             [
              0.4444444444444444,
              "#bd3786"
             ],
             [
              0.5555555555555556,
              "#d8576b"
             ],
             [
              0.6666666666666666,
              "#ed7953"
             ],
             [
              0.7777777777777778,
              "#fb9f3a"
             ],
             [
              0.8888888888888888,
              "#fdca26"
             ],
             [
              1,
              "#f0f921"
             ]
            ],
            "type": "heatmapgl"
           }
          ],
          "histogram": [
           {
            "marker": {
             "pattern": {
              "fillmode": "overlay",
              "size": 10,
              "solidity": 0.2
             }
            },
            "type": "histogram"
           }
          ],
          "histogram2d": [
           {
            "colorbar": {
             "outlinewidth": 0,
             "ticks": ""
            },
            "colorscale": [
             [
              0,
              "#0d0887"
             ],
             [
              0.1111111111111111,
              "#46039f"
             ],
             [
              0.2222222222222222,
              "#7201a8"
             ],
             [
              0.3333333333333333,
              "#9c179e"
             ],
             [
              0.4444444444444444,
              "#bd3786"
             ],
             [
              0.5555555555555556,
              "#d8576b"
             ],
             [
              0.6666666666666666,
              "#ed7953"
             ],
             [
              0.7777777777777778,
              "#fb9f3a"
             ],
             [
              0.8888888888888888,
              "#fdca26"
             ],
             [
              1,
              "#f0f921"
             ]
            ],
            "type": "histogram2d"
           }
          ],
          "histogram2dcontour": [
           {
            "colorbar": {
             "outlinewidth": 0,
             "ticks": ""
            },
            "colorscale": [
             [
              0,
              "#0d0887"
             ],
             [
              0.1111111111111111,
              "#46039f"
             ],
             [
              0.2222222222222222,
              "#7201a8"
             ],
             [
              0.3333333333333333,
              "#9c179e"
             ],
             [
              0.4444444444444444,
              "#bd3786"
             ],
             [
              0.5555555555555556,
              "#d8576b"
             ],
             [
              0.6666666666666666,
              "#ed7953"
             ],
             [
              0.7777777777777778,
              "#fb9f3a"
             ],
             [
              0.8888888888888888,
              "#fdca26"
             ],
             [
              1,
              "#f0f921"
             ]
            ],
            "type": "histogram2dcontour"
           }
          ],
          "mesh3d": [
           {
            "colorbar": {
             "outlinewidth": 0,
             "ticks": ""
            },
            "type": "mesh3d"
           }
          ],
          "parcoords": [
           {
            "line": {
             "colorbar": {
              "outlinewidth": 0,
              "ticks": ""
             }
            },
            "type": "parcoords"
           }
          ],
          "pie": [
           {
            "automargin": true,
            "type": "pie"
           }
          ],
          "scatter": [
           {
            "fillpattern": {
             "fillmode": "overlay",
             "size": 10,
             "solidity": 0.2
            },
            "type": "scatter"
           }
          ],
          "scatter3d": [
           {
            "line": {
             "colorbar": {
              "outlinewidth": 0,
              "ticks": ""
             }
            },
            "marker": {
             "colorbar": {
              "outlinewidth": 0,
              "ticks": ""
             }
            },
            "type": "scatter3d"
           }
          ],
          "scattercarpet": [
           {
            "marker": {
             "colorbar": {
              "outlinewidth": 0,
              "ticks": ""
             }
            },
            "type": "scattercarpet"
           }
          ],
          "scattergeo": [
           {
            "marker": {
             "colorbar": {
              "outlinewidth": 0,
              "ticks": ""
             }
            },
            "type": "scattergeo"
           }
          ],
          "scattergl": [
           {
            "marker": {
             "colorbar": {
              "outlinewidth": 0,
              "ticks": ""
             }
            },
            "type": "scattergl"
           }
          ],
          "scattermapbox": [
           {
            "marker": {
             "colorbar": {
              "outlinewidth": 0,
              "ticks": ""
             }
            },
            "type": "scattermapbox"
           }
          ],
          "scatterpolar": [
           {
            "marker": {
             "colorbar": {
              "outlinewidth": 0,
              "ticks": ""
             }
            },
            "type": "scatterpolar"
           }
          ],
          "scatterpolargl": [
           {
            "marker": {
             "colorbar": {
              "outlinewidth": 0,
              "ticks": ""
             }
            },
            "type": "scatterpolargl"
           }
          ],
          "scatterternary": [
           {
            "marker": {
             "colorbar": {
              "outlinewidth": 0,
              "ticks": ""
             }
            },
            "type": "scatterternary"
           }
          ],
          "surface": [
           {
            "colorbar": {
             "outlinewidth": 0,
             "ticks": ""
            },
            "colorscale": [
             [
              0,
              "#0d0887"
             ],
             [
              0.1111111111111111,
              "#46039f"
             ],
             [
              0.2222222222222222,
              "#7201a8"
             ],
             [
              0.3333333333333333,
              "#9c179e"
             ],
             [
              0.4444444444444444,
              "#bd3786"
             ],
             [
              0.5555555555555556,
              "#d8576b"
             ],
             [
              0.6666666666666666,
              "#ed7953"
             ],
             [
              0.7777777777777778,
              "#fb9f3a"
             ],
             [
              0.8888888888888888,
              "#fdca26"
             ],
             [
              1,
              "#f0f921"
             ]
            ],
            "type": "surface"
           }
          ],
          "table": [
           {
            "cells": {
             "fill": {
              "color": "#EBF0F8"
             },
             "line": {
              "color": "white"
             }
            },
            "header": {
             "fill": {
              "color": "#C8D4E3"
             },
             "line": {
              "color": "white"
             }
            },
            "type": "table"
           }
          ]
         },
         "layout": {
          "annotationdefaults": {
           "arrowcolor": "#2a3f5f",
           "arrowhead": 0,
           "arrowwidth": 1
          },
          "autotypenumbers": "strict",
          "coloraxis": {
           "colorbar": {
            "outlinewidth": 0,
            "ticks": ""
           }
          },
          "colorscale": {
           "diverging": [
            [
             0,
             "#8e0152"
            ],
            [
             0.1,
             "#c51b7d"
            ],
            [
             0.2,
             "#de77ae"
            ],
            [
             0.3,
             "#f1b6da"
            ],
            [
             0.4,
             "#fde0ef"
            ],
            [
             0.5,
             "#f7f7f7"
            ],
            [
             0.6,
             "#e6f5d0"
            ],
            [
             0.7,
             "#b8e186"
            ],
            [
             0.8,
             "#7fbc41"
            ],
            [
             0.9,
             "#4d9221"
            ],
            [
             1,
             "#276419"
            ]
           ],
           "sequential": [
            [
             0,
             "#0d0887"
            ],
            [
             0.1111111111111111,
             "#46039f"
            ],
            [
             0.2222222222222222,
             "#7201a8"
            ],
            [
             0.3333333333333333,
             "#9c179e"
            ],
            [
             0.4444444444444444,
             "#bd3786"
            ],
            [
             0.5555555555555556,
             "#d8576b"
            ],
            [
             0.6666666666666666,
             "#ed7953"
            ],
            [
             0.7777777777777778,
             "#fb9f3a"
            ],
            [
             0.8888888888888888,
             "#fdca26"
            ],
            [
             1,
             "#f0f921"
            ]
           ],
           "sequentialminus": [
            [
             0,
             "#0d0887"
            ],
            [
             0.1111111111111111,
             "#46039f"
            ],
            [
             0.2222222222222222,
             "#7201a8"
            ],
            [
             0.3333333333333333,
             "#9c179e"
            ],
            [
             0.4444444444444444,
             "#bd3786"
            ],
            [
             0.5555555555555556,
             "#d8576b"
            ],
            [
             0.6666666666666666,
             "#ed7953"
            ],
            [
             0.7777777777777778,
             "#fb9f3a"
            ],
            [
             0.8888888888888888,
             "#fdca26"
            ],
            [
             1,
             "#f0f921"
            ]
           ]
          },
          "colorway": [
           "#636efa",
           "#EF553B",
           "#00cc96",
           "#ab63fa",
           "#FFA15A",
           "#19d3f3",
           "#FF6692",
           "#B6E880",
           "#FF97FF",
           "#FECB52"
          ],
          "font": {
           "color": "#2a3f5f"
          },
          "geo": {
           "bgcolor": "white",
           "lakecolor": "white",
           "landcolor": "#E5ECF6",
           "showlakes": true,
           "showland": true,
           "subunitcolor": "white"
          },
          "hoverlabel": {
           "align": "left"
          },
          "hovermode": "closest",
          "mapbox": {
           "style": "light"
          },
          "paper_bgcolor": "white",
          "plot_bgcolor": "#E5ECF6",
          "polar": {
           "angularaxis": {
            "gridcolor": "white",
            "linecolor": "white",
            "ticks": ""
           },
           "bgcolor": "#E5ECF6",
           "radialaxis": {
            "gridcolor": "white",
            "linecolor": "white",
            "ticks": ""
           }
          },
          "scene": {
           "xaxis": {
            "backgroundcolor": "#E5ECF6",
            "gridcolor": "white",
            "gridwidth": 2,
            "linecolor": "white",
            "showbackground": true,
            "ticks": "",
            "zerolinecolor": "white"
           },
           "yaxis": {
            "backgroundcolor": "#E5ECF6",
            "gridcolor": "white",
            "gridwidth": 2,
            "linecolor": "white",
            "showbackground": true,
            "ticks": "",
            "zerolinecolor": "white"
           },
           "zaxis": {
            "backgroundcolor": "#E5ECF6",
            "gridcolor": "white",
            "gridwidth": 2,
            "linecolor": "white",
            "showbackground": true,
            "ticks": "",
            "zerolinecolor": "white"
           }
          },
          "shapedefaults": {
           "line": {
            "color": "#2a3f5f"
           }
          },
          "ternary": {
           "aaxis": {
            "gridcolor": "white",
            "linecolor": "white",
            "ticks": ""
           },
           "baxis": {
            "gridcolor": "white",
            "linecolor": "white",
            "ticks": ""
           },
           "bgcolor": "#E5ECF6",
           "caxis": {
            "gridcolor": "white",
            "linecolor": "white",
            "ticks": ""
           }
          },
          "title": {
           "x": 0.05
          },
          "xaxis": {
           "automargin": true,
           "gridcolor": "white",
           "linecolor": "white",
           "ticks": "",
           "title": {
            "standoff": 15
           },
           "zerolinecolor": "white",
           "zerolinewidth": 2
          },
          "yaxis": {
           "automargin": true,
           "gridcolor": "white",
           "linecolor": "white",
           "ticks": "",
           "title": {
            "standoff": 15
           },
           "zerolinecolor": "white",
           "zerolinewidth": 2
          }
         }
        },
        "title": {
         "text": "Hyperparameter Importances"
        },
        "xaxis": {
         "title": {
          "text": "Hyperparameter Importance"
         }
        },
        "yaxis": {
         "title": {
          "text": "Hyperparameter"
         }
        }
       }
      }
     },
     "metadata": {},
     "output_type": "display_data"
    }
   ],
   "source": [
    "optuna.visualization.plot_param_importances(study)"
   ]
  },
  {
   "cell_type": "code",
   "execution_count": 9,
   "metadata": {},
   "outputs": [
    {
     "data": {
      "application/vnd.plotly.v1+json": {
       "config": {
        "plotlyServerURL": "https://plot.ly"
       },
       "data": [
        {
         "colorbar": {
          "title": {
           "text": "Objective Value"
          }
         },
         "colorscale": [
          [
           0,
           "rgb(247,251,255)"
          ],
          [
           0.125,
           "rgb(222,235,247)"
          ],
          [
           0.25,
           "rgb(198,219,239)"
          ],
          [
           0.375,
           "rgb(158,202,225)"
          ],
          [
           0.5,
           "rgb(107,174,214)"
          ],
          [
           0.625,
           "rgb(66,146,198)"
          ],
          [
           0.75,
           "rgb(33,113,181)"
          ],
          [
           0.875,
           "rgb(8,81,156)"
          ],
          [
           1,
           "rgb(8,48,107)"
          ]
         ],
         "connectgaps": true,
         "contours": {
          "coloring": "heatmap"
         },
         "hoverinfo": "none",
         "line": {
          "smoothing": 1.3
         },
         "reversescale": false,
         "type": "contour",
         "x": [
          13.6,
          16,
          32,
          64,
          66.4
         ],
         "y": [
          0.00006818731998296504,
          0.00010458221148896693,
          0.00012725219298679466,
          0.00015136313622506788,
          0.00015227401681962202,
          0.00015510491382421146,
          0.00015513961838545582,
          0.00015949366398607264,
          0.0001972447057113473,
          0.00022959733430083292,
          0.000337715361177041,
          0.0006687484821540599,
          0.0008237829644741565,
          0.0009682065319620246,
          0.0011822001605089412,
          0.001240504655004294,
          0.0013189934575070093,
          0.0013206609133237868,
          0.001572139644075951,
          0.0015725052198331143,
          0.0016392349447077522,
          0.0018682122995686528,
          0.0018816541378399814,
          0.0018967089174987252,
          0.0019131191214287876,
          0.002076938921350812,
          0.0021744842566569452,
          0.0023215890570763213,
          0.0024718740735935702,
          0.0025809044436379924,
          0.0025891007834191507,
          0.0026319009010018542,
          0.003217701754776556,
          0.0033065893683139154,
          0.003449882097480872,
          0.003566239797151446,
          0.005117402953991288,
          0.005162457498236318,
          0.006310088536267612,
          0.006722483761444383,
          0.00870140992382103,
          0.008744245242652646,
          0.008917087588276475,
          0.009401391490708701,
          0.009427355395105285,
          0.010429512689711757,
          0.013715735630791915,
          0.014057881759726323,
          0.01429971928812102,
          0.015557374027672344,
          0.01627422956879721,
          0.017822855419055206,
          0.027480948119442433,
          0.043773957520152985,
          0.05891840621827026,
          0.07773085419037588,
          0.31590520301744557,
          0.5426775012659383,
          0.8323308970330141
         ],
         "z": [
          [
           null,
           null,
           null,
           null,
           null
          ],
          [
           null,
           null,
           0.9658976930792377,
           null,
           null
          ],
          [
           null,
           null,
           0.9608826479438315,
           null,
           null
          ],
          [
           null,
           null,
           0.9598796389167502,
           null,
           null
          ],
          [
           null,
           null,
           0.9518555667001003,
           null,
           null
          ],
          [
           null,
           null,
           0.9418254764292878,
           null,
           null
          ],
          [
           null,
           null,
           0.9638916750250752,
           null,
           null
          ],
          [
           null,
           null,
           0.9648946840521565,
           null,
           null
          ],
          [
           null,
           null,
           0.9578736208625878,
           null,
           null
          ],
          [
           null,
           null,
           0.9628886659979939,
           null,
           null
          ],
          [
           null,
           null,
           0.958876629889669,
           null,
           null
          ],
          [
           null,
           null,
           0.9277833500501504,
           null,
           null
          ],
          [
           null,
           null,
           0.9568706118355065,
           null,
           null
          ],
          [
           null,
           null,
           0.9398194583751254,
           null,
           null
          ],
          [
           null,
           null,
           null,
           0.8876629889669007,
           null
          ],
          [
           null,
           null,
           0.9578736208625878,
           null,
           null
          ],
          [
           null,
           null,
           0.9498495486459378,
           null,
           null
          ],
          [
           null,
           null,
           0.9528585757271816,
           null,
           null
          ],
          [
           null,
           null,
           0.954864593781344,
           null,
           null
          ],
          [
           null,
           null,
           0.9428284854563691,
           null,
           null
          ],
          [
           null,
           null,
           0.9608826479438315,
           null,
           null
          ],
          [
           null,
           null,
           0.9458375125376128,
           null,
           null
          ],
          [
           null,
           null,
           0.9568706118355065,
           null,
           null
          ],
          [
           null,
           null,
           0.9488465396188566,
           null,
           null
          ],
          [
           null,
           null,
           0.9448345035105316,
           null,
           null
          ],
          [
           null,
           null,
           0.9578736208625878,
           null,
           null
          ],
          [
           null,
           null,
           0.9658976930792377,
           null,
           null
          ],
          [
           null,
           null,
           null,
           0.892678034102307,
           null
          ],
          [
           null,
           null,
           0.9618856569709128,
           null,
           null
          ],
          [
           null,
           null,
           0.9528585757271816,
           null,
           null
          ],
          [
           null,
           null,
           0.9689067201604814,
           null,
           null
          ],
          [
           null,
           null,
           null,
           0.6208625877632898,
           null
          ],
          [
           null,
           null,
           0.9428284854563691,
           null,
           null
          ],
          [
           null,
           null,
           0.9568706118355065,
           null,
           null
          ],
          [
           null,
           null,
           0.9608826479438315,
           null,
           null
          ],
          [
           null,
           null,
           0.9528585757271816,
           null,
           null
          ],
          [
           null,
           0.9297893681043129,
           null,
           null,
           null
          ],
          [
           null,
           null,
           0.9047141424272819,
           null,
           null
          ],
          [
           null,
           null,
           0.8756268806419257,
           null,
           null
          ],
          [
           null,
           null,
           0.9679037111334002,
           null,
           null
          ],
          [
           null,
           null,
           0.8876629889669007,
           null,
           null
          ],
          [
           null,
           null,
           0.9378134403209629,
           null,
           null
          ],
          [
           null,
           null,
           0.9368104312938816,
           null,
           null
          ],
          [
           null,
           0.8956870611835507,
           null,
           null,
           null
          ],
          [
           null,
           null,
           0.970912738214644,
           null,
           null
          ],
          [
           null,
           null,
           0.966900702106319,
           null,
           null
          ],
          [
           null,
           null,
           0.9518555667001003,
           null,
           null
          ],
          [
           null,
           null,
           0.9498495486459378,
           null,
           null
          ],
          [
           null,
           null,
           0.9348044132397192,
           null,
           null
          ],
          [
           null,
           0.9287863590772317,
           null,
           null,
           null
          ],
          [
           null,
           0.9287863590772317,
           null,
           null,
           null
          ],
          [
           null,
           0.917753259779338,
           null,
           null,
           null
          ],
          [
           null,
           0.9207622868605817,
           null,
           null,
           null
          ],
          [
           null,
           0.917753259779338,
           null,
           null,
           null
          ],
          [
           null,
           0.905717151454363,
           null,
           null,
           null
          ],
          [
           null,
           null,
           0.9307923771313942,
           null,
           null
          ],
          [
           null,
           null,
           0.8345035105315948,
           null,
           null
          ],
          [
           null,
           null,
           null,
           0.8716148445336008,
           null
          ],
          [
           null,
           null,
           null,
           null,
           null
          ]
         ]
        },
        {
         "marker": {
          "color": "black",
          "line": {
           "color": "Gray",
           "width": 2
          }
         },
         "mode": "markers",
         "name": "Feasible Trial",
         "showlegend": false,
         "type": "scatter",
         "x": [
          32,
          64,
          64,
          32,
          64,
          16,
          32,
          16,
          16,
          16,
          16,
          16,
          32,
          32,
          16,
          16,
          32,
          64,
          32,
          32,
          32,
          32,
          32,
          32,
          32,
          32,
          32,
          32,
          32,
          32,
          32,
          32,
          32,
          32,
          32,
          32,
          32,
          32,
          32,
          32,
          32,
          32,
          32,
          32,
          32,
          32,
          32,
          32,
          32,
          32,
          32,
          32,
          32,
          32,
          32,
          32,
          32
         ],
         "y": [
          0.31590520301744557,
          0.5426775012659383,
          0.0011822001605089412,
          0.006310088536267612,
          0.0026319009010018542,
          0.005117402953991288,
          0.07773085419037588,
          0.05891840621827026,
          0.043773957520152985,
          0.027480948119442433,
          0.017822855419055206,
          0.015557374027672344,
          0.008917087588276475,
          0.00870140992382103,
          0.01627422956879721,
          0.009401391490708701,
          0.005162457498236318,
          0.0023215890570763213,
          0.008744245242652646,
          0.014057881759726323,
          0.01429971928812102,
          0.013715735630791915,
          0.010429512689711757,
          0.009427355395105285,
          0.006722483761444383,
          0.003217701754776556,
          0.0033065893683139154,
          0.003449882097480872,
          0.0016392349447077522,
          0.001240504655004294,
          0.0006687484821540599,
          0.0018682122995686528,
          0.0015725052198331143,
          0.0009682065319620246,
          0.003566239797151446,
          0.0018816541378399814,
          0.0018967089174987252,
          0.0019131191214287876,
          0.0021744842566569452,
          0.0025891007834191507,
          0.0024718740735935702,
          0.0025809044436379924,
          0.0013206609133237868,
          0.0013189934575070093,
          0.001572139644075951,
          0.0008237829644741565,
          0.000337715361177041,
          0.00012725219298679466,
          0.00015510491382421146,
          0.00015949366398607264,
          0.00015513961838545582,
          0.00015227401681962202,
          0.00010458221148896693,
          0.00015136313622506788,
          0.0001972447057113473,
          0.00022959733430083292,
          0.002076938921350812
         ]
        },
        {
         "marker": {
          "color": "#cccccc",
          "line": {
           "color": "Gray",
           "width": 2
          }
         },
         "mode": "markers",
         "name": "Infeasible Trial",
         "showlegend": false,
         "type": "scatter",
         "x": [],
         "y": []
        }
       ],
       "layout": {
        "template": {
         "data": {
          "bar": [
           {
            "error_x": {
             "color": "#2a3f5f"
            },
            "error_y": {
             "color": "#2a3f5f"
            },
            "marker": {
             "line": {
              "color": "#E5ECF6",
              "width": 0.5
             },
             "pattern": {
              "fillmode": "overlay",
              "size": 10,
              "solidity": 0.2
             }
            },
            "type": "bar"
           }
          ],
          "barpolar": [
           {
            "marker": {
             "line": {
              "color": "#E5ECF6",
              "width": 0.5
             },
             "pattern": {
              "fillmode": "overlay",
              "size": 10,
              "solidity": 0.2
             }
            },
            "type": "barpolar"
           }
          ],
          "carpet": [
           {
            "aaxis": {
             "endlinecolor": "#2a3f5f",
             "gridcolor": "white",
             "linecolor": "white",
             "minorgridcolor": "white",
             "startlinecolor": "#2a3f5f"
            },
            "baxis": {
             "endlinecolor": "#2a3f5f",
             "gridcolor": "white",
             "linecolor": "white",
             "minorgridcolor": "white",
             "startlinecolor": "#2a3f5f"
            },
            "type": "carpet"
           }
          ],
          "choropleth": [
           {
            "colorbar": {
             "outlinewidth": 0,
             "ticks": ""
            },
            "type": "choropleth"
           }
          ],
          "contour": [
           {
            "colorbar": {
             "outlinewidth": 0,
             "ticks": ""
            },
            "colorscale": [
             [
              0,
              "#0d0887"
             ],
             [
              0.1111111111111111,
              "#46039f"
             ],
             [
              0.2222222222222222,
              "#7201a8"
             ],
             [
              0.3333333333333333,
              "#9c179e"
             ],
             [
              0.4444444444444444,
              "#bd3786"
             ],
             [
              0.5555555555555556,
              "#d8576b"
             ],
             [
              0.6666666666666666,
              "#ed7953"
             ],
             [
              0.7777777777777778,
              "#fb9f3a"
             ],
             [
              0.8888888888888888,
              "#fdca26"
             ],
             [
              1,
              "#f0f921"
             ]
            ],
            "type": "contour"
           }
          ],
          "contourcarpet": [
           {
            "colorbar": {
             "outlinewidth": 0,
             "ticks": ""
            },
            "type": "contourcarpet"
           }
          ],
          "heatmap": [
           {
            "colorbar": {
             "outlinewidth": 0,
             "ticks": ""
            },
            "colorscale": [
             [
              0,
              "#0d0887"
             ],
             [
              0.1111111111111111,
              "#46039f"
             ],
             [
              0.2222222222222222,
              "#7201a8"
             ],
             [
              0.3333333333333333,
              "#9c179e"
             ],
             [
              0.4444444444444444,
              "#bd3786"
             ],
             [
              0.5555555555555556,
              "#d8576b"
             ],
             [
              0.6666666666666666,
              "#ed7953"
             ],
             [
              0.7777777777777778,
              "#fb9f3a"
             ],
             [
              0.8888888888888888,
              "#fdca26"
             ],
             [
              1,
              "#f0f921"
             ]
            ],
            "type": "heatmap"
           }
          ],
          "heatmapgl": [
           {
            "colorbar": {
             "outlinewidth": 0,
             "ticks": ""
            },
            "colorscale": [
             [
              0,
              "#0d0887"
             ],
             [
              0.1111111111111111,
              "#46039f"
             ],
             [
              0.2222222222222222,
              "#7201a8"
             ],
             [
              0.3333333333333333,
              "#9c179e"
             ],
             [
              0.4444444444444444,
              "#bd3786"
             ],
             [
              0.5555555555555556,
              "#d8576b"
             ],
             [
              0.6666666666666666,
              "#ed7953"
             ],
             [
              0.7777777777777778,
              "#fb9f3a"
             ],
             [
              0.8888888888888888,
              "#fdca26"
             ],
             [
              1,
              "#f0f921"
             ]
            ],
            "type": "heatmapgl"
           }
          ],
          "histogram": [
           {
            "marker": {
             "pattern": {
              "fillmode": "overlay",
              "size": 10,
              "solidity": 0.2
             }
            },
            "type": "histogram"
           }
          ],
          "histogram2d": [
           {
            "colorbar": {
             "outlinewidth": 0,
             "ticks": ""
            },
            "colorscale": [
             [
              0,
              "#0d0887"
             ],
             [
              0.1111111111111111,
              "#46039f"
             ],
             [
              0.2222222222222222,
              "#7201a8"
             ],
             [
              0.3333333333333333,
              "#9c179e"
             ],
             [
              0.4444444444444444,
              "#bd3786"
             ],
             [
              0.5555555555555556,
              "#d8576b"
             ],
             [
              0.6666666666666666,
              "#ed7953"
             ],
             [
              0.7777777777777778,
              "#fb9f3a"
             ],
             [
              0.8888888888888888,
              "#fdca26"
             ],
             [
              1,
              "#f0f921"
             ]
            ],
            "type": "histogram2d"
           }
          ],
          "histogram2dcontour": [
           {
            "colorbar": {
             "outlinewidth": 0,
             "ticks": ""
            },
            "colorscale": [
             [
              0,
              "#0d0887"
             ],
             [
              0.1111111111111111,
              "#46039f"
             ],
             [
              0.2222222222222222,
              "#7201a8"
             ],
             [
              0.3333333333333333,
              "#9c179e"
             ],
             [
              0.4444444444444444,
              "#bd3786"
             ],
             [
              0.5555555555555556,
              "#d8576b"
             ],
             [
              0.6666666666666666,
              "#ed7953"
             ],
             [
              0.7777777777777778,
              "#fb9f3a"
             ],
             [
              0.8888888888888888,
              "#fdca26"
             ],
             [
              1,
              "#f0f921"
             ]
            ],
            "type": "histogram2dcontour"
           }
          ],
          "mesh3d": [
           {
            "colorbar": {
             "outlinewidth": 0,
             "ticks": ""
            },
            "type": "mesh3d"
           }
          ],
          "parcoords": [
           {
            "line": {
             "colorbar": {
              "outlinewidth": 0,
              "ticks": ""
             }
            },
            "type": "parcoords"
           }
          ],
          "pie": [
           {
            "automargin": true,
            "type": "pie"
           }
          ],
          "scatter": [
           {
            "fillpattern": {
             "fillmode": "overlay",
             "size": 10,
             "solidity": 0.2
            },
            "type": "scatter"
           }
          ],
          "scatter3d": [
           {
            "line": {
             "colorbar": {
              "outlinewidth": 0,
              "ticks": ""
             }
            },
            "marker": {
             "colorbar": {
              "outlinewidth": 0,
              "ticks": ""
             }
            },
            "type": "scatter3d"
           }
          ],
          "scattercarpet": [
           {
            "marker": {
             "colorbar": {
              "outlinewidth": 0,
              "ticks": ""
             }
            },
            "type": "scattercarpet"
           }
          ],
          "scattergeo": [
           {
            "marker": {
             "colorbar": {
              "outlinewidth": 0,
              "ticks": ""
             }
            },
            "type": "scattergeo"
           }
          ],
          "scattergl": [
           {
            "marker": {
             "colorbar": {
              "outlinewidth": 0,
              "ticks": ""
             }
            },
            "type": "scattergl"
           }
          ],
          "scattermapbox": [
           {
            "marker": {
             "colorbar": {
              "outlinewidth": 0,
              "ticks": ""
             }
            },
            "type": "scattermapbox"
           }
          ],
          "scatterpolar": [
           {
            "marker": {
             "colorbar": {
              "outlinewidth": 0,
              "ticks": ""
             }
            },
            "type": "scatterpolar"
           }
          ],
          "scatterpolargl": [
           {
            "marker": {
             "colorbar": {
              "outlinewidth": 0,
              "ticks": ""
             }
            },
            "type": "scatterpolargl"
           }
          ],
          "scatterternary": [
           {
            "marker": {
             "colorbar": {
              "outlinewidth": 0,
              "ticks": ""
             }
            },
            "type": "scatterternary"
           }
          ],
          "surface": [
           {
            "colorbar": {
             "outlinewidth": 0,
             "ticks": ""
            },
            "colorscale": [
             [
              0,
              "#0d0887"
             ],
             [
              0.1111111111111111,
              "#46039f"
             ],
             [
              0.2222222222222222,
              "#7201a8"
             ],
             [
              0.3333333333333333,
              "#9c179e"
             ],
             [
              0.4444444444444444,
              "#bd3786"
             ],
             [
              0.5555555555555556,
              "#d8576b"
             ],
             [
              0.6666666666666666,
              "#ed7953"
             ],
             [
              0.7777777777777778,
              "#fb9f3a"
             ],
             [
              0.8888888888888888,
              "#fdca26"
             ],
             [
              1,
              "#f0f921"
             ]
            ],
            "type": "surface"
           }
          ],
          "table": [
           {
            "cells": {
             "fill": {
              "color": "#EBF0F8"
             },
             "line": {
              "color": "white"
             }
            },
            "header": {
             "fill": {
              "color": "#C8D4E3"
             },
             "line": {
              "color": "white"
             }
            },
            "type": "table"
           }
          ]
         },
         "layout": {
          "annotationdefaults": {
           "arrowcolor": "#2a3f5f",
           "arrowhead": 0,
           "arrowwidth": 1
          },
          "autotypenumbers": "strict",
          "coloraxis": {
           "colorbar": {
            "outlinewidth": 0,
            "ticks": ""
           }
          },
          "colorscale": {
           "diverging": [
            [
             0,
             "#8e0152"
            ],
            [
             0.1,
             "#c51b7d"
            ],
            [
             0.2,
             "#de77ae"
            ],
            [
             0.3,
             "#f1b6da"
            ],
            [
             0.4,
             "#fde0ef"
            ],
            [
             0.5,
             "#f7f7f7"
            ],
            [
             0.6,
             "#e6f5d0"
            ],
            [
             0.7,
             "#b8e186"
            ],
            [
             0.8,
             "#7fbc41"
            ],
            [
             0.9,
             "#4d9221"
            ],
            [
             1,
             "#276419"
            ]
           ],
           "sequential": [
            [
             0,
             "#0d0887"
            ],
            [
             0.1111111111111111,
             "#46039f"
            ],
            [
             0.2222222222222222,
             "#7201a8"
            ],
            [
             0.3333333333333333,
             "#9c179e"
            ],
            [
             0.4444444444444444,
             "#bd3786"
            ],
            [
             0.5555555555555556,
             "#d8576b"
            ],
            [
             0.6666666666666666,
             "#ed7953"
            ],
            [
             0.7777777777777778,
             "#fb9f3a"
            ],
            [
             0.8888888888888888,
             "#fdca26"
            ],
            [
             1,
             "#f0f921"
            ]
           ],
           "sequentialminus": [
            [
             0,
             "#0d0887"
            ],
            [
             0.1111111111111111,
             "#46039f"
            ],
            [
             0.2222222222222222,
             "#7201a8"
            ],
            [
             0.3333333333333333,
             "#9c179e"
            ],
            [
             0.4444444444444444,
             "#bd3786"
            ],
            [
             0.5555555555555556,
             "#d8576b"
            ],
            [
             0.6666666666666666,
             "#ed7953"
            ],
            [
             0.7777777777777778,
             "#fb9f3a"
            ],
            [
             0.8888888888888888,
             "#fdca26"
            ],
            [
             1,
             "#f0f921"
            ]
           ]
          },
          "colorway": [
           "#636efa",
           "#EF553B",
           "#00cc96",
           "#ab63fa",
           "#FFA15A",
           "#19d3f3",
           "#FF6692",
           "#B6E880",
           "#FF97FF",
           "#FECB52"
          ],
          "font": {
           "color": "#2a3f5f"
          },
          "geo": {
           "bgcolor": "white",
           "lakecolor": "white",
           "landcolor": "#E5ECF6",
           "showlakes": true,
           "showland": true,
           "subunitcolor": "white"
          },
          "hoverlabel": {
           "align": "left"
          },
          "hovermode": "closest",
          "mapbox": {
           "style": "light"
          },
          "paper_bgcolor": "white",
          "plot_bgcolor": "#E5ECF6",
          "polar": {
           "angularaxis": {
            "gridcolor": "white",
            "linecolor": "white",
            "ticks": ""
           },
           "bgcolor": "#E5ECF6",
           "radialaxis": {
            "gridcolor": "white",
            "linecolor": "white",
            "ticks": ""
           }
          },
          "scene": {
           "xaxis": {
            "backgroundcolor": "#E5ECF6",
            "gridcolor": "white",
            "gridwidth": 2,
            "linecolor": "white",
            "showbackground": true,
            "ticks": "",
            "zerolinecolor": "white"
           },
           "yaxis": {
            "backgroundcolor": "#E5ECF6",
            "gridcolor": "white",
            "gridwidth": 2,
            "linecolor": "white",
            "showbackground": true,
            "ticks": "",
            "zerolinecolor": "white"
           },
           "zaxis": {
            "backgroundcolor": "#E5ECF6",
            "gridcolor": "white",
            "gridwidth": 2,
            "linecolor": "white",
            "showbackground": true,
            "ticks": "",
            "zerolinecolor": "white"
           }
          },
          "shapedefaults": {
           "line": {
            "color": "#2a3f5f"
           }
          },
          "ternary": {
           "aaxis": {
            "gridcolor": "white",
            "linecolor": "white",
            "ticks": ""
           },
           "baxis": {
            "gridcolor": "white",
            "linecolor": "white",
            "ticks": ""
           },
           "bgcolor": "#E5ECF6",
           "caxis": {
            "gridcolor": "white",
            "linecolor": "white",
            "ticks": ""
           }
          },
          "title": {
           "x": 0.05
          },
          "xaxis": {
           "automargin": true,
           "gridcolor": "white",
           "linecolor": "white",
           "ticks": "",
           "title": {
            "standoff": 15
           },
           "zerolinecolor": "white",
           "zerolinewidth": 2
          },
          "yaxis": {
           "automargin": true,
           "gridcolor": "white",
           "linecolor": "white",
           "ticks": "",
           "title": {
            "standoff": 15
           },
           "zerolinecolor": "white",
           "zerolinewidth": 2
          }
         }
        },
        "title": {
         "text": "Contour Plot"
        },
        "xaxis": {
         "range": [
          13.6,
          66.4
         ],
         "title": {
          "text": "batch_size"
         }
        },
        "yaxis": {
         "range": [
          -4.1662963786194895,
          -0.07970398358177094
         ],
         "title": {
          "text": "lr_fast"
         },
         "type": "log"
        }
       }
      }
     },
     "metadata": {},
     "output_type": "display_data"
    }
   ],
   "source": [
    "optuna.visualization.plot_contour(study, params=[\"batch_size\", \"lr_fast\"])\n"
   ]
  },
  {
   "cell_type": "code",
   "execution_count": 10,
   "metadata": {},
   "outputs": [
    {
     "data": {
      "application/vnd.plotly.v1+json": {
       "config": {
        "plotlyServerURL": "https://plot.ly"
       },
       "data": [
        {
         "colorbar": {
          "title": {
           "text": "Objective Value"
          }
         },
         "colorscale": [
          [
           0,
           "rgb(247,251,255)"
          ],
          [
           0.125,
           "rgb(222,235,247)"
          ],
          [
           0.25,
           "rgb(198,219,239)"
          ],
          [
           0.375,
           "rgb(158,202,225)"
          ],
          [
           0.5,
           "rgb(107,174,214)"
          ],
          [
           0.625,
           "rgb(66,146,198)"
          ],
          [
           0.75,
           "rgb(33,113,181)"
          ],
          [
           0.875,
           "rgb(8,81,156)"
          ],
          [
           1,
           "rgb(8,48,107)"
          ]
         ],
         "connectgaps": true,
         "contours": {
          "coloring": "heatmap"
         },
         "hoverinfo": "none",
         "line": {
          "smoothing": 1.3
         },
         "reversescale": false,
         "type": "contour",
         "x": [
          0.00006818731998296504,
          0.00010458221148896693,
          0.00012725219298679466,
          0.00015136313622506788,
          0.00015227401681962202,
          0.00015510491382421146,
          0.00015513961838545582,
          0.00015949366398607264,
          0.0001972447057113473,
          0.00022959733430083292,
          0.000337715361177041,
          0.0006687484821540599,
          0.0008237829644741565,
          0.0009682065319620246,
          0.0011822001605089412,
          0.001240504655004294,
          0.0013189934575070093,
          0.0013206609133237868,
          0.001572139644075951,
          0.0015725052198331143,
          0.0016392349447077522,
          0.0018682122995686528,
          0.0018816541378399814,
          0.0018967089174987252,
          0.0019131191214287876,
          0.002076938921350812,
          0.0021744842566569452,
          0.0023215890570763213,
          0.0024718740735935702,
          0.0025809044436379924,
          0.0025891007834191507,
          0.0026319009010018542,
          0.003217701754776556,
          0.0033065893683139154,
          0.003449882097480872,
          0.003566239797151446,
          0.005117402953991288,
          0.005162457498236318,
          0.006310088536267612,
          0.006722483761444383,
          0.00870140992382103,
          0.008744245242652646,
          0.008917087588276475,
          0.009401391490708701,
          0.009427355395105285,
          0.010429512689711757,
          0.013715735630791915,
          0.014057881759726323,
          0.01429971928812102,
          0.015557374027672344,
          0.01627422956879721,
          0.017822855419055206,
          0.027480948119442433,
          0.043773957520152985,
          0.05891840621827026,
          0.07773085419037588,
          0.31590520301744557,
          0.5426775012659383,
          0.8323308970330141
         ],
         "y": [
          0.000009161147140465642,
          0.00001213968980076562,
          0.0000253240195495629,
          0.00006955471138250411,
          0.00007150279843391331,
          0.00007371356980560535,
          0.00008347337981812994,
          0.00008393244392475406,
          0.00008563362351374905,
          0.00008598022539292328,
          0.00008710956958575865,
          0.00008902137447715534,
          0.00009151196041368825,
          0.00009206287889563547,
          0.00010825796735615959,
          0.00011050654846784925,
          0.00011201128824447833,
          0.00011274300302389007,
          0.00012561168557554317,
          0.00013203361547007368,
          0.0001330670472334793,
          0.00013681881512597906,
          0.00013714393136609964,
          0.00013955902469821164,
          0.0001444302872566509,
          0.00014472029112066751,
          0.00015197166813151535,
          0.00015253919406282198,
          0.00015297419950700215,
          0.00015786406831977016,
          0.00015915320311753046,
          0.0001608984694078916,
          0.0001655026968598142,
          0.00016601203764890997,
          0.00016990820730214398,
          0.00017784467979440957,
          0.0001801093852331116,
          0.00018248154172176555,
          0.00018442907445484887,
          0.00018551848480019288,
          0.0001860784239307491,
          0.00018680374735691781,
          0.0001874795814684679,
          0.00018994670877178662,
          0.00019706098293062636,
          0.0002054951709671868,
          0.00021540321357011225,
          0.00022454129288975542,
          0.00022580025418692106,
          0.00023659770221109327,
          0.00023802428452377619,
          0.00028171081527126387,
          0.00028257978535531635,
          0.0003366910187892329,
          0.0003576124899384091,
          0.0007593165948858177,
          0.0008884901704341717,
          0.003383469064341586,
          0.0044835285649069715
         ],
         "z": [
          [
           null,
           null,
           null,
           null,
           null,
           null,
           null,
           null,
           null,
           null,
           null,
           null,
           null,
           null,
           null,
           null,
           null,
           null,
           null,
           null,
           null,
           null,
           null,
           null,
           null,
           null,
           null,
           null,
           null,
           null,
           null,
           null,
           null,
           null,
           null,
           null,
           null,
           null,
           null,
           null,
           null,
           null,
           null,
           null,
           null,
           null,
           null,
           null,
           null,
           null,
           null,
           null,
           null,
           null,
           null,
           null,
           null,
           null,
           null
          ],
          [
           null,
           null,
           null,
           null,
           null,
           null,
           null,
           null,
           null,
           null,
           null,
           null,
           null,
           null,
           null,
           null,
           null,
           null,
           null,
           null,
           null,
           null,
           null,
           null,
           null,
           null,
           null,
           null,
           null,
           null,
           null,
           null,
           null,
           null,
           null,
           null,
           null,
           null,
           0.8756268806419257,
           null,
           null,
           null,
           null,
           null,
           null,
           null,
           null,
           null,
           null,
           null,
           null,
           null,
           null,
           null,
           null,
           null,
           null,
           null,
           null
          ],
          [
           null,
           null,
           null,
           null,
           null,
           null,
           null,
           null,
           null,
           null,
           null,
           null,
           null,
           null,
           null,
           null,
           null,
           null,
           null,
           null,
           null,
           null,
           null,
           null,
           null,
           null,
           null,
           null,
           null,
           null,
           null,
           null,
           null,
           null,
           null,
           null,
           0.9297893681043129,
           null,
           null,
           null,
           null,
           null,
           null,
           null,
           null,
           null,
           null,
           null,
           null,
           null,
           null,
           null,
           null,
           null,
           null,
           null,
           null,
           null,
           null
          ],
          [
           null,
           null,
           null,
           null,
           null,
           null,
           null,
           null,
           null,
           null,
           null,
           null,
           null,
           null,
           null,
           null,
           null,
           null,
           null,
           null,
           null,
           null,
           null,
           null,
           null,
           null,
           null,
           null,
           null,
           null,
           null,
           null,
           null,
           null,
           null,
           null,
           null,
           null,
           null,
           null,
           null,
           null,
           null,
           null,
           null,
           null,
           null,
           null,
           null,
           null,
           0.9287863590772317,
           null,
           null,
           null,
           null,
           null,
           null,
           null,
           null
          ],
          [
           null,
           null,
           null,
           null,
           null,
           null,
           null,
           null,
           null,
           null,
           null,
           null,
           null,
           null,
           null,
           null,
           null,
           null,
           null,
           null,
           null,
           null,
           null,
           null,
           null,
           null,
           null,
           null,
           null,
           null,
           null,
           null,
           null,
           null,
           null,
           null,
           null,
           null,
           null,
           null,
           null,
           null,
           null,
           null,
           null,
           null,
           null,
           null,
           null,
           0.9287863590772317,
           null,
           null,
           null,
           null,
           null,
           null,
           null,
           null,
           null
          ],
          [
           null,
           null,
           null,
           null,
           null,
           null,
           null,
           null,
           null,
           null,
           null,
           null,
           null,
           null,
           null,
           null,
           null,
           null,
           null,
           null,
           null,
           null,
           null,
           null,
           null,
           null,
           null,
           null,
           null,
           null,
           null,
           null,
           null,
           null,
           null,
           null,
           null,
           null,
           null,
           null,
           null,
           null,
           null,
           null,
           null,
           null,
           null,
           null,
           null,
           null,
           null,
           0.917753259779338,
           null,
           null,
           null,
           null,
           null,
           null,
           null
          ],
          [
           null,
           null,
           null,
           null,
           null,
           null,
           null,
           null,
           null,
           null,
           null,
           null,
           null,
           null,
           null,
           null,
           null,
           null,
           null,
           null,
           null,
           null,
           null,
           null,
           null,
           null,
           null,
           null,
           null,
           null,
           0.9689067201604814,
           null,
           null,
           null,
           null,
           null,
           null,
           null,
           null,
           null,
           null,
           null,
           null,
           null,
           null,
           null,
           null,
           null,
           null,
           null,
           null,
           null,
           null,
           null,
           null,
           null,
           null,
           null,
           null
          ],
          [
           null,
           null,
           null,
           null,
           null,
           null,
           null,
           null,
           null,
           null,
           null,
           null,
           null,
           null,
           null,
           null,
           0.9498495486459378,
           null,
           null,
           null,
           null,
           null,
           null,
           null,
           null,
           null,
           null,
           null,
           null,
           null,
           null,
           null,
           null,
           null,
           null,
           null,
           null,
           null,
           null,
           null,
           null,
           null,
           null,
           null,
           null,
           null,
           null,
           null,
           null,
           null,
           null,
           null,
           null,
           null,
           null,
           null,
           null,
           null,
           null
          ],
          [
           null,
           null,
           null,
           null,
           null,
           null,
           null,
           null,
           null,
           null,
           null,
           null,
           null,
           null,
           null,
           null,
           null,
           null,
           null,
           null,
           null,
           null,
           null,
           null,
           null,
           null,
           null,
           null,
           null,
           0.9528585757271816,
           null,
           null,
           null,
           null,
           null,
           null,
           null,
           null,
           null,
           null,
           null,
           null,
           null,
           null,
           null,
           null,
           null,
           null,
           null,
           null,
           null,
           null,
           null,
           null,
           null,
           null,
           null,
           null,
           null
          ],
          [
           null,
           null,
           null,
           null,
           null,
           null,
           null,
           null,
           null,
           null,
           null,
           null,
           null,
           null,
           null,
           null,
           null,
           null,
           null,
           null,
           null,
           null,
           null,
           null,
           null,
           null,
           0.9658976930792377,
           null,
           null,
           null,
           null,
           null,
           null,
           null,
           null,
           null,
           null,
           null,
           null,
           null,
           null,
           null,
           null,
           null,
           null,
           null,
           null,
           null,
           null,
           null,
           null,
           null,
           null,
           null,
           null,
           null,
           null,
           null,
           null
          ],
          [
           null,
           null,
           null,
           null,
           null,
           null,
           null,
           null,
           null,
           null,
           null,
           null,
           null,
           null,
           null,
           null,
           null,
           null,
           null,
           null,
           null,
           null,
           null,
           null,
           null,
           null,
           null,
           null,
           null,
           null,
           null,
           null,
           null,
           null,
           null,
           null,
           null,
           null,
           null,
           null,
           null,
           null,
           null,
           null,
           null,
           null,
           null,
           null,
           null,
           null,
           null,
           null,
           null,
           null,
           null,
           null,
           0.8345035105315948,
           null,
           null
          ],
          [
           null,
           null,
           null,
           null,
           null,
           null,
           null,
           null,
           null,
           null,
           null,
           null,
           null,
           null,
           null,
           null,
           null,
           null,
           null,
           null,
           null,
           null,
           null,
           null,
           null,
           null,
           null,
           null,
           0.9618856569709128,
           null,
           null,
           null,
           null,
           null,
           null,
           null,
           null,
           null,
           null,
           null,
           null,
           null,
           null,
           null,
           null,
           null,
           null,
           null,
           null,
           null,
           null,
           null,
           null,
           null,
           null,
           null,
           null,
           null,
           null
          ],
          [
           null,
           null,
           null,
           null,
           null,
           null,
           null,
           null,
           null,
           null,
           null,
           null,
           null,
           null,
           null,
           null,
           null,
           null,
           null,
           null,
           null,
           null,
           null,
           null,
           null,
           null,
           null,
           null,
           null,
           null,
           null,
           null,
           null,
           null,
           null,
           null,
           null,
           null,
           null,
           null,
           null,
           null,
           null,
           null,
           null,
           null,
           null,
           null,
           null,
           null,
           null,
           null,
           0.9207622868605817,
           null,
           null,
           null,
           null,
           null,
           null
          ],
          [
           null,
           null,
           null,
           null,
           null,
           null,
           null,
           null,
           null,
           null,
           null,
           null,
           null,
           null,
           null,
           null,
           null,
           null,
           null,
           null,
           null,
           null,
           null,
           0.9488465396188566,
           null,
           null,
           null,
           null,
           null,
           null,
           null,
           null,
           null,
           null,
           null,
           null,
           null,
           null,
           null,
           null,
           null,
           null,
           null,
           null,
           null,
           null,
           null,
           null,
           null,
           null,
           null,
           null,
           null,
           null,
           null,
           null,
           null,
           null,
           null
          ],
          [
           null,
           null,
           0.9608826479438315,
           null,
           null,
           null,
           null,
           null,
           null,
           null,
           null,
           null,
           null,
           null,
           null,
           null,
           null,
           null,
           null,
           null,
           null,
           null,
           null,
           null,
           null,
           null,
           null,
           null,
           null,
           null,
           null,
           null,
           null,
           null,
           null,
           null,
           null,
           null,
           null,
           null,
           null,
           null,
           null,
           null,
           null,
           null,
           null,
           null,
           null,
           null,
           null,
           null,
           null,
           null,
           null,
           null,
           null,
           null,
           null
          ],
          [
           null,
           null,
           null,
           null,
           null,
           null,
           null,
           null,
           null,
           null,
           0.958876629889669,
           null,
           null,
           null,
           null,
           null,
           null,
           null,
           null,
           null,
           null,
           null,
           null,
           null,
           null,
           null,
           null,
           null,
           null,
           null,
           null,
           null,
           null,
           null,
           null,
           null,
           null,
           null,
           null,
           null,
           null,
           null,
           null,
           null,
           null,
           null,
           null,
           null,
           null,
           null,
           null,
           null,
           null,
           null,
           null,
           null,
           null,
           null,
           null
          ],
          [
           null,
           null,
           null,
           null,
           null,
           null,
           null,
           null,
           null,
           null,
           null,
           null,
           null,
           null,
           null,
           null,
           null,
           null,
           null,
           null,
           null,
           null,
           null,
           null,
           null,
           null,
           null,
           null,
           null,
           null,
           null,
           null,
           null,
           null,
           null,
           null,
           null,
           null,
           null,
           null,
           null,
           null,
           null,
           null,
           null,
           0.966900702106319,
           null,
           null,
           null,
           null,
           null,
           null,
           null,
           null,
           null,
           null,
           null,
           null,
           null
          ],
          [
           null,
           null,
           null,
           null,
           null,
           null,
           null,
           null,
           null,
           null,
           null,
           null,
           0.9568706118355065,
           null,
           null,
           null,
           null,
           null,
           null,
           null,
           null,
           null,
           null,
           null,
           null,
           null,
           null,
           null,
           null,
           null,
           null,
           null,
           null,
           null,
           null,
           null,
           null,
           null,
           null,
           null,
           null,
           null,
           null,
           null,
           null,
           null,
           null,
           null,
           null,
           null,
           null,
           null,
           null,
           null,
           null,
           null,
           null,
           null,
           null
          ],
          [
           null,
           null,
           null,
           null,
           null,
           null,
           null,
           null,
           null,
           0.9628886659979939,
           null,
           null,
           null,
           null,
           null,
           null,
           null,
           null,
           null,
           null,
           null,
           null,
           null,
           null,
           null,
           null,
           null,
           null,
           null,
           null,
           null,
           null,
           null,
           null,
           null,
           null,
           null,
           null,
           null,
           null,
           null,
           null,
           null,
           null,
           null,
           null,
           null,
           null,
           null,
           null,
           null,
           null,
           null,
           null,
           null,
           null,
           null,
           null,
           null
          ],
          [
           null,
           null,
           null,
           null,
           null,
           null,
           null,
           null,
           null,
           null,
           null,
           null,
           null,
           null,
           null,
           null,
           null,
           null,
           null,
           null,
           null,
           null,
           null,
           null,
           null,
           null,
           null,
           null,
           null,
           null,
           null,
           null,
           null,
           null,
           null,
           null,
           null,
           null,
           null,
           null,
           null,
           null,
           0.9368104312938816,
           null,
           null,
           null,
           null,
           null,
           null,
           null,
           null,
           null,
           null,
           null,
           null,
           null,
           null,
           null,
           null
          ],
          [
           null,
           null,
           null,
           null,
           null,
           null,
           null,
           null,
           null,
           null,
           null,
           null,
           null,
           null,
           null,
           null,
           null,
           null,
           null,
           null,
           null,
           null,
           null,
           null,
           null,
           null,
           null,
           null,
           null,
           null,
           null,
           null,
           null,
           null,
           null,
           null,
           null,
           null,
           null,
           null,
           null,
           null,
           null,
           null,
           null,
           null,
           null,
           0.9498495486459378,
           null,
           null,
           null,
           null,
           null,
           null,
           null,
           null,
           null,
           null,
           null
          ],
          [
           null,
           null,
           null,
           null,
           null,
           null,
           null,
           null,
           null,
           null,
           null,
           null,
           null,
           null,
           null,
           null,
           null,
           null,
           null,
           null,
           null,
           null,
           null,
           null,
           0.9448345035105316,
           null,
           null,
           null,
           null,
           null,
           null,
           null,
           null,
           null,
           null,
           null,
           null,
           null,
           null,
           null,
           null,
           null,
           null,
           null,
           null,
           null,
           null,
           null,
           null,
           null,
           null,
           null,
           null,
           null,
           null,
           null,
           null,
           null,
           null
          ],
          [
           null,
           null,
           null,
           null,
           null,
           null,
           null,
           null,
           null,
           null,
           null,
           null,
           null,
           null,
           null,
           null,
           null,
           null,
           null,
           null,
           null,
           null,
           null,
           null,
           null,
           null,
           null,
           null,
           null,
           null,
           null,
           null,
           null,
           null,
           null,
           null,
           null,
           null,
           null,
           0.9679037111334002,
           null,
           null,
           null,
           null,
           null,
           null,
           null,
           null,
           null,
           null,
           null,
           null,
           null,
           null,
           null,
           null,
           null,
           null,
           null
          ],
          [
           null,
           null,
           null,
           null,
           null,
           null,
           null,
           null,
           null,
           null,
           null,
           null,
           null,
           null,
           null,
           null,
           null,
           null,
           null,
           null,
           null,
           null,
           null,
           null,
           null,
           null,
           null,
           null,
           null,
           null,
           null,
           null,
           null,
           null,
           null,
           null,
           null,
           null,
           null,
           null,
           null,
           null,
           null,
           null,
           0.970912738214644,
           null,
           null,
           null,
           null,
           null,
           null,
           null,
           null,
           null,
           null,
           null,
           null,
           null,
           null
          ],
          [
           null,
           null,
           null,
           null,
           null,
           null,
           null,
           null,
           null,
           null,
           null,
           null,
           null,
           null,
           null,
           null,
           null,
           null,
           null,
           null,
           null,
           null,
           null,
           null,
           null,
           null,
           null,
           null,
           null,
           null,
           null,
           null,
           null,
           null,
           null,
           null,
           null,
           null,
           null,
           null,
           null,
           null,
           null,
           null,
           null,
           null,
           null,
           null,
           0.9348044132397192,
           null,
           null,
           null,
           null,
           null,
           null,
           null,
           null,
           null,
           null
          ],
          [
           null,
           null,
           null,
           null,
           null,
           null,
           null,
           null,
           null,
           null,
           null,
           null,
           null,
           null,
           null,
           null,
           null,
           null,
           null,
           null,
           null,
           null,
           null,
           null,
           null,
           null,
           null,
           null,
           null,
           null,
           null,
           null,
           null,
           null,
           null,
           null,
           null,
           null,
           null,
           null,
           null,
           0.9378134403209629,
           null,
           null,
           null,
           null,
           null,
           null,
           null,
           null,
           null,
           null,
           null,
           null,
           null,
           null,
           null,
           null,
           null
          ],
          [
           null,
           null,
           null,
           null,
           null,
           null,
           null,
           0.9648946840521565,
           null,
           null,
           null,
           null,
           null,
           null,
           null,
           null,
           null,
           null,
           null,
           null,
           null,
           null,
           null,
           null,
           null,
           null,
           null,
           null,
           null,
           null,
           null,
           null,
           null,
           null,
           null,
           null,
           null,
           null,
           null,
           null,
           null,
           null,
           null,
           null,
           null,
           null,
           null,
           null,
           null,
           null,
           null,
           null,
           null,
           null,
           null,
           null,
           null,
           null,
           null
          ],
          [
           null,
           null,
           null,
           null,
           null,
           null,
           null,
           null,
           null,
           null,
           null,
           null,
           null,
           null,
           null,
           null,
           null,
           null,
           null,
           null,
           null,
           null,
           null,
           null,
           null,
           null,
           null,
           null,
           null,
           null,
           null,
           null,
           null,
           null,
           null,
           null,
           null,
           null,
           null,
           null,
           null,
           null,
           null,
           null,
           null,
           null,
           null,
           null,
           null,
           null,
           null,
           null,
           null,
           null,
           null,
           0.9307923771313942,
           null,
           null,
           null
          ],
          [
           null,
           null,
           null,
           null,
           null,
           null,
           null,
           null,
           null,
           null,
           null,
           null,
           null,
           null,
           null,
           null,
           null,
           null,
           null,
           null,
           null,
           null,
           null,
           null,
           null,
           0.9578736208625878,
           null,
           null,
           null,
           null,
           null,
           null,
           null,
           null,
           null,
           null,
           null,
           null,
           null,
           null,
           null,
           null,
           null,
           null,
           null,
           null,
           null,
           null,
           null,
           null,
           null,
           null,
           null,
           null,
           null,
           null,
           null,
           null,
           null
          ],
          [
           null,
           null,
           null,
           null,
           null,
           null,
           null,
           null,
           null,
           null,
           null,
           null,
           null,
           null,
           null,
           null,
           null,
           null,
           null,
           null,
           null,
           null,
           null,
           null,
           null,
           null,
           null,
           null,
           null,
           null,
           null,
           null,
           null,
           null,
           null,
           null,
           null,
           null,
           null,
           null,
           null,
           null,
           null,
           null,
           null,
           null,
           0.9518555667001003,
           null,
           null,
           null,
           null,
           null,
           null,
           null,
           null,
           null,
           null,
           null,
           null
          ],
          [
           null,
           null,
           null,
           null,
           null,
           null,
           0.9638916750250752,
           null,
           null,
           null,
           null,
           null,
           null,
           null,
           null,
           null,
           null,
           null,
           null,
           null,
           null,
           null,
           null,
           null,
           null,
           null,
           null,
           null,
           null,
           null,
           null,
           null,
           null,
           null,
           null,
           null,
           null,
           null,
           null,
           null,
           null,
           null,
           null,
           null,
           null,
           null,
           null,
           null,
           null,
           null,
           null,
           null,
           null,
           null,
           null,
           null,
           null,
           null,
           null
          ],
          [
           null,
           null,
           null,
           null,
           0.9518555667001003,
           null,
           null,
           null,
           null,
           null,
           null,
           null,
           null,
           null,
           null,
           null,
           null,
           null,
           null,
           null,
           null,
           null,
           null,
           null,
           null,
           null,
           null,
           null,
           null,
           null,
           null,
           null,
           null,
           null,
           null,
           null,
           null,
           null,
           null,
           null,
           null,
           null,
           null,
           null,
           null,
           null,
           null,
           null,
           null,
           null,
           null,
           null,
           null,
           null,
           null,
           null,
           null,
           null,
           null
          ],
          [
           null,
           null,
           null,
           null,
           null,
           null,
           null,
           null,
           null,
           null,
           null,
           null,
           null,
           null,
           null,
           null,
           null,
           null,
           0.954864593781344,
           null,
           null,
           null,
           null,
           null,
           null,
           null,
           null,
           null,
           null,
           null,
           null,
           null,
           null,
           null,
           null,
           null,
           null,
           null,
           null,
           null,
           null,
           null,
           null,
           null,
           null,
           null,
           null,
           null,
           null,
           null,
           null,
           null,
           null,
           null,
           null,
           null,
           null,
           null,
           null
          ],
          [
           null,
           null,
           null,
           null,
           null,
           null,
           null,
           null,
           null,
           null,
           null,
           null,
           null,
           null,
           null,
           null,
           null,
           0.9528585757271816,
           null,
           null,
           null,
           null,
           null,
           null,
           null,
           null,
           null,
           null,
           null,
           null,
           null,
           null,
           null,
           null,
           null,
           null,
           null,
           null,
           null,
           null,
           null,
           null,
           null,
           null,
           null,
           null,
           null,
           null,
           null,
           null,
           null,
           null,
           null,
           null,
           null,
           null,
           null,
           null,
           null
          ],
          [
           null,
           null,
           null,
           null,
           null,
           null,
           null,
           null,
           0.9578736208625878,
           null,
           null,
           null,
           null,
           null,
           null,
           null,
           null,
           null,
           null,
           null,
           null,
           null,
           null,
           null,
           null,
           null,
           null,
           null,
           null,
           null,
           null,
           null,
           null,
           null,
           null,
           null,
           null,
           null,
           null,
           null,
           null,
           null,
           null,
           null,
           null,
           null,
           null,
           null,
           null,
           null,
           null,
           null,
           null,
           null,
           null,
           null,
           null,
           null,
           null
          ],
          [
           null,
           null,
           null,
           null,
           null,
           null,
           null,
           null,
           null,
           null,
           null,
           null,
           null,
           null,
           null,
           null,
           null,
           null,
           null,
           null,
           null,
           null,
           null,
           null,
           null,
           null,
           null,
           null,
           null,
           null,
           null,
           null,
           null,
           null,
           null,
           0.9528585757271816,
           null,
           null,
           null,
           null,
           null,
           null,
           null,
           null,
           null,
           null,
           null,
           null,
           null,
           null,
           null,
           null,
           null,
           null,
           null,
           null,
           null,
           null,
           null
          ],
          [
           null,
           null,
           null,
           null,
           null,
           null,
           null,
           null,
           null,
           null,
           null,
           null,
           null,
           null,
           null,
           null,
           null,
           null,
           null,
           null,
           null,
           null,
           null,
           null,
           null,
           null,
           null,
           0.892678034102307,
           null,
           null,
           null,
           null,
           null,
           null,
           null,
           null,
           null,
           null,
           null,
           null,
           null,
           null,
           null,
           null,
           null,
           null,
           null,
           null,
           null,
           null,
           null,
           null,
           null,
           null,
           null,
           null,
           null,
           null,
           null
          ],
          [
           null,
           null,
           null,
           null,
           null,
           null,
           null,
           null,
           null,
           null,
           null,
           null,
           null,
           null,
           null,
           0.9578736208625878,
           null,
           null,
           null,
           null,
           null,
           null,
           null,
           null,
           null,
           null,
           null,
           null,
           null,
           null,
           null,
           null,
           null,
           null,
           null,
           null,
           null,
           null,
           null,
           null,
           null,
           null,
           null,
           null,
           null,
           null,
           null,
           null,
           null,
           null,
           null,
           null,
           null,
           null,
           null,
           null,
           null,
           null,
           null
          ],
          [
           null,
           null,
           null,
           null,
           null,
           null,
           null,
           null,
           null,
           null,
           null,
           null,
           null,
           null,
           null,
           null,
           null,
           null,
           null,
           null,
           0.9608826479438315,
           null,
           null,
           null,
           null,
           null,
           null,
           null,
           null,
           null,
           null,
           null,
           null,
           null,
           null,
           null,
           null,
           null,
           null,
           null,
           null,
           null,
           null,
           null,
           null,
           null,
           null,
           null,
           null,
           null,
           null,
           null,
           null,
           null,
           null,
           null,
           null,
           null,
           null
          ],
          [
           null,
           null,
           null,
           null,
           null,
           null,
           null,
           null,
           null,
           null,
           null,
           null,
           null,
           null,
           null,
           null,
           null,
           null,
           null,
           null,
           null,
           null,
           null,
           null,
           null,
           null,
           null,
           null,
           null,
           null,
           null,
           null,
           null,
           null,
           0.9608826479438315,
           null,
           null,
           null,
           null,
           null,
           null,
           null,
           null,
           null,
           null,
           null,
           null,
           null,
           null,
           null,
           null,
           null,
           null,
           null,
           null,
           null,
           null,
           null,
           null
          ],
          [
           null,
           null,
           null,
           null,
           null,
           0.9418254764292878,
           null,
           null,
           null,
           null,
           null,
           null,
           null,
           null,
           null,
           null,
           null,
           null,
           null,
           null,
           null,
           null,
           null,
           null,
           null,
           null,
           null,
           null,
           null,
           null,
           null,
           null,
           null,
           null,
           null,
           null,
           null,
           null,
           null,
           null,
           null,
           null,
           null,
           null,
           null,
           null,
           null,
           null,
           null,
           null,
           null,
           null,
           null,
           null,
           null,
           null,
           null,
           null,
           null
          ],
          [
           null,
           null,
           null,
           null,
           null,
           null,
           null,
           null,
           null,
           null,
           null,
           null,
           null,
           null,
           null,
           null,
           null,
           null,
           null,
           null,
           null,
           null,
           null,
           null,
           null,
           null,
           null,
           null,
           null,
           null,
           null,
           null,
           null,
           null,
           null,
           null,
           null,
           null,
           null,
           null,
           null,
           null,
           null,
           null,
           null,
           null,
           null,
           null,
           null,
           null,
           null,
           null,
           null,
           0.917753259779338,
           null,
           null,
           null,
           null,
           null
          ],
          [
           null,
           null,
           null,
           null,
           null,
           null,
           null,
           null,
           null,
           null,
           null,
           null,
           null,
           null,
           null,
           null,
           null,
           null,
           null,
           null,
           null,
           null,
           null,
           null,
           null,
           null,
           null,
           null,
           null,
           null,
           null,
           null,
           null,
           0.9568706118355065,
           null,
           null,
           null,
           null,
           null,
           null,
           null,
           null,
           null,
           null,
           null,
           null,
           null,
           null,
           null,
           null,
           null,
           null,
           null,
           null,
           null,
           null,
           null,
           null,
           null
          ],
          [
           null,
           null,
           null,
           null,
           null,
           null,
           null,
           null,
           null,
           null,
           null,
           null,
           null,
           null,
           null,
           null,
           null,
           null,
           null,
           null,
           null,
           null,
           null,
           null,
           null,
           null,
           null,
           null,
           null,
           null,
           null,
           null,
           0.9428284854563691,
           null,
           null,
           null,
           null,
           null,
           null,
           null,
           null,
           null,
           null,
           null,
           null,
           null,
           null,
           null,
           null,
           null,
           null,
           null,
           null,
           null,
           null,
           null,
           null,
           null,
           null
          ],
          [
           null,
           null,
           null,
           null,
           null,
           null,
           null,
           null,
           null,
           null,
           null,
           null,
           null,
           null,
           null,
           null,
           null,
           null,
           null,
           null,
           null,
           null,
           0.9568706118355065,
           null,
           null,
           null,
           null,
           null,
           null,
           null,
           null,
           null,
           null,
           null,
           null,
           null,
           null,
           null,
           null,
           null,
           null,
           null,
           null,
           null,
           null,
           null,
           null,
           null,
           null,
           null,
           null,
           null,
           null,
           null,
           null,
           null,
           null,
           null,
           null
          ],
          [
           null,
           0.9658976930792377,
           null,
           null,
           null,
           null,
           null,
           null,
           null,
           null,
           null,
           null,
           null,
           null,
           null,
           null,
           null,
           null,
           null,
           null,
           null,
           null,
           null,
           null,
           null,
           null,
           null,
           null,
           null,
           null,
           null,
           null,
           null,
           null,
           null,
           null,
           null,
           null,
           null,
           null,
           null,
           null,
           null,
           null,
           null,
           null,
           null,
           null,
           null,
           null,
           null,
           null,
           null,
           null,
           null,
           null,
           null,
           null,
           null
          ],
          [
           null,
           null,
           null,
           null,
           null,
           null,
           null,
           null,
           null,
           null,
           null,
           null,
           null,
           null,
           null,
           null,
           null,
           null,
           null,
           null,
           null,
           null,
           null,
           null,
           null,
           null,
           null,
           null,
           null,
           null,
           null,
           null,
           null,
           null,
           null,
           null,
           null,
           null,
           null,
           null,
           null,
           null,
           null,
           0.8956870611835507,
           null,
           null,
           null,
           null,
           null,
           null,
           null,
           null,
           null,
           null,
           null,
           null,
           null,
           null,
           null
          ],
          [
           null,
           null,
           null,
           null,
           null,
           null,
           null,
           null,
           null,
           null,
           null,
           null,
           null,
           null,
           null,
           null,
           null,
           null,
           null,
           null,
           null,
           0.9458375125376128,
           null,
           null,
           null,
           null,
           null,
           null,
           null,
           null,
           null,
           null,
           null,
           null,
           null,
           null,
           null,
           null,
           null,
           null,
           null,
           null,
           null,
           null,
           null,
           null,
           null,
           null,
           null,
           null,
           null,
           null,
           null,
           null,
           null,
           null,
           null,
           null,
           null
          ],
          [
           null,
           null,
           null,
           null,
           null,
           null,
           null,
           null,
           null,
           null,
           null,
           null,
           null,
           null,
           null,
           null,
           null,
           null,
           null,
           null,
           null,
           null,
           null,
           null,
           null,
           null,
           null,
           null,
           null,
           null,
           null,
           null,
           null,
           null,
           null,
           null,
           null,
           null,
           null,
           null,
           null,
           null,
           null,
           null,
           null,
           null,
           null,
           null,
           null,
           null,
           null,
           null,
           null,
           null,
           0.905717151454363,
           null,
           null,
           null,
           null
          ],
          [
           null,
           null,
           null,
           null,
           null,
           null,
           null,
           null,
           null,
           null,
           null,
           null,
           null,
           null,
           null,
           null,
           null,
           null,
           null,
           0.9428284854563691,
           null,
           null,
           null,
           null,
           null,
           null,
           null,
           null,
           null,
           null,
           null,
           null,
           null,
           null,
           null,
           null,
           null,
           null,
           null,
           null,
           null,
           null,
           null,
           null,
           null,
           null,
           null,
           null,
           null,
           null,
           null,
           null,
           null,
           null,
           null,
           null,
           null,
           null,
           null
          ],
          [
           null,
           null,
           null,
           0.9598796389167502,
           null,
           null,
           null,
           null,
           null,
           null,
           null,
           null,
           null,
           null,
           null,
           null,
           null,
           null,
           null,
           null,
           null,
           null,
           null,
           null,
           null,
           null,
           null,
           null,
           null,
           null,
           null,
           null,
           null,
           null,
           null,
           null,
           null,
           null,
           null,
           null,
           null,
           null,
           null,
           null,
           null,
           null,
           null,
           null,
           null,
           null,
           null,
           null,
           null,
           null,
           null,
           null,
           null,
           null,
           null
          ],
          [
           null,
           null,
           null,
           null,
           null,
           null,
           null,
           null,
           null,
           null,
           null,
           null,
           null,
           0.9398194583751254,
           null,
           null,
           null,
           null,
           null,
           null,
           null,
           null,
           null,
           null,
           null,
           null,
           null,
           null,
           null,
           null,
           null,
           null,
           null,
           null,
           null,
           null,
           null,
           null,
           null,
           null,
           null,
           null,
           null,
           null,
           null,
           null,
           null,
           null,
           null,
           null,
           null,
           null,
           null,
           null,
           null,
           null,
           null,
           null,
           null
          ],
          [
           null,
           null,
           null,
           null,
           null,
           null,
           null,
           null,
           null,
           null,
           null,
           null,
           null,
           null,
           null,
           null,
           null,
           null,
           null,
           null,
           null,
           null,
           null,
           null,
           null,
           null,
           null,
           null,
           null,
           null,
           null,
           null,
           null,
           null,
           null,
           null,
           null,
           0.9047141424272819,
           null,
           null,
           null,
           null,
           null,
           null,
           null,
           null,
           null,
           null,
           null,
           null,
           null,
           null,
           null,
           null,
           null,
           null,
           null,
           null,
           null
          ],
          [
           null,
           null,
           null,
           null,
           null,
           null,
           null,
           null,
           null,
           null,
           null,
           null,
           null,
           null,
           null,
           null,
           null,
           null,
           null,
           null,
           null,
           null,
           null,
           null,
           null,
           null,
           null,
           null,
           null,
           null,
           null,
           null,
           null,
           null,
           null,
           null,
           null,
           null,
           null,
           null,
           0.8876629889669007,
           null,
           null,
           null,
           null,
           null,
           null,
           null,
           null,
           null,
           null,
           null,
           null,
           null,
           null,
           null,
           null,
           null,
           null
          ],
          [
           null,
           null,
           null,
           null,
           null,
           null,
           null,
           null,
           null,
           null,
           null,
           0.9277833500501504,
           null,
           null,
           null,
           null,
           null,
           null,
           null,
           null,
           null,
           null,
           null,
           null,
           null,
           null,
           null,
           null,
           null,
           null,
           null,
           null,
           null,
           null,
           null,
           null,
           null,
           null,
           null,
           null,
           null,
           null,
           null,
           null,
           null,
           null,
           null,
           null,
           null,
           null,
           null,
           null,
           null,
           null,
           null,
           null,
           null,
           null,
           null
          ],
          [
           null,
           null,
           null,
           null,
           null,
           null,
           null,
           null,
           null,
           null,
           null,
           null,
           null,
           null,
           0.8876629889669007,
           null,
           null,
           null,
           null,
           null,
           null,
           null,
           null,
           null,
           null,
           null,
           null,
           null,
           null,
           null,
           null,
           null,
           null,
           null,
           null,
           null,
           null,
           null,
           null,
           null,
           null,
           null,
           null,
           null,
           null,
           null,
           null,
           null,
           null,
           null,
           null,
           null,
           null,
           null,
           null,
           null,
           null,
           null,
           null
          ],
          [
           null,
           null,
           null,
           null,
           null,
           null,
           null,
           null,
           null,
           null,
           null,
           null,
           null,
           null,
           null,
           null,
           null,
           null,
           null,
           null,
           null,
           null,
           null,
           null,
           null,
           null,
           null,
           null,
           null,
           null,
           null,
           null,
           null,
           null,
           null,
           null,
           null,
           null,
           null,
           null,
           null,
           null,
           null,
           null,
           null,
           null,
           null,
           null,
           null,
           null,
           null,
           null,
           null,
           null,
           null,
           null,
           null,
           0.8716148445336008,
           null
          ],
          [
           null,
           null,
           null,
           null,
           null,
           null,
           null,
           null,
           null,
           null,
           null,
           null,
           null,
           null,
           null,
           null,
           null,
           null,
           null,
           null,
           null,
           null,
           null,
           null,
           null,
           null,
           null,
           null,
           null,
           null,
           null,
           0.6208625877632898,
           null,
           null,
           null,
           null,
           null,
           null,
           null,
           null,
           null,
           null,
           null,
           null,
           null,
           null,
           null,
           null,
           null,
           null,
           null,
           null,
           null,
           null,
           null,
           null,
           null,
           null,
           null
          ],
          [
           null,
           null,
           null,
           null,
           null,
           null,
           null,
           null,
           null,
           null,
           null,
           null,
           null,
           null,
           null,
           null,
           null,
           null,
           null,
           null,
           null,
           null,
           null,
           null,
           null,
           null,
           null,
           null,
           null,
           null,
           null,
           null,
           null,
           null,
           null,
           null,
           null,
           null,
           null,
           null,
           null,
           null,
           null,
           null,
           null,
           null,
           null,
           null,
           null,
           null,
           null,
           null,
           null,
           null,
           null,
           null,
           null,
           null,
           null
          ]
         ]
        },
        {
         "marker": {
          "color": "black",
          "line": {
           "color": "Gray",
           "width": 2
          }
         },
         "mode": "markers",
         "name": "Feasible Trial",
         "showlegend": false,
         "type": "scatter",
         "x": [
          0.31590520301744557,
          0.5426775012659383,
          0.0011822001605089412,
          0.006310088536267612,
          0.0026319009010018542,
          0.005117402953991288,
          0.07773085419037588,
          0.05891840621827026,
          0.043773957520152985,
          0.027480948119442433,
          0.017822855419055206,
          0.015557374027672344,
          0.008917087588276475,
          0.00870140992382103,
          0.01627422956879721,
          0.009401391490708701,
          0.005162457498236318,
          0.0023215890570763213,
          0.008744245242652646,
          0.014057881759726323,
          0.01429971928812102,
          0.013715735630791915,
          0.010429512689711757,
          0.009427355395105285,
          0.006722483761444383,
          0.003217701754776556,
          0.0033065893683139154,
          0.003449882097480872,
          0.0016392349447077522,
          0.001240504655004294,
          0.0006687484821540599,
          0.0018682122995686528,
          0.0015725052198331143,
          0.0009682065319620246,
          0.003566239797151446,
          0.0018816541378399814,
          0.0018967089174987252,
          0.0019131191214287876,
          0.0021744842566569452,
          0.0025891007834191507,
          0.0024718740735935702,
          0.0025809044436379924,
          0.0013206609133237868,
          0.0013189934575070093,
          0.001572139644075951,
          0.0008237829644741565,
          0.000337715361177041,
          0.00012725219298679466,
          0.00015510491382421146,
          0.00015949366398607264,
          0.00015513961838545582,
          0.00015227401681962202,
          0.00010458221148896693,
          0.00015136313622506788,
          0.0001972447057113473,
          0.00022959733430083292,
          0.002076938921350812
         ],
         "y": [
          0.00008710956958575865,
          0.0008884901704341717,
          0.0007593165948858177,
          0.00001213968980076562,
          0.003383469064341586,
          0.0000253240195495629,
          0.00015253919406282198,
          0.00022580025418692106,
          0.00018680374735691781,
          0.00009151196041368825,
          0.00007371356980560535,
          0.00007150279843391331,
          0.00013203361547007368,
          0.0003366910187892329,
          0.00006955471138250411,
          0.00021540321357011225,
          0.00028257978535531635,
          0.0001801093852331116,
          0.00014472029112066751,
          0.0001330670472334793,
          0.0001444302872566509,
          0.00015786406831977016,
          0.00011201128824447833,
          0.00013955902469821164,
          0.00013714393136609964,
          0.00018994670877178662,
          0.0001874795814684679,
          0.00018551848480019288,
          0.00018442907445484887,
          0.00018248154172176555,
          0.0003576124899384091,
          0.00022454129288975542,
          0.00023659770221109327,
          0.00028171081527126387,
          0.00017784467979440957,
          0.00019706098293062636,
          0.00009206287889563547,
          0.00013681881512597906,
          0.00008598022539292328,
          0.00008347337981812994,
          0.00008902137447715534,
          0.00008563362351374905,
          0.00016601203764890997,
          0.00008393244392475406,
          0.0001655026968598142,
          0.00011274300302389007,
          0.00011050654846784925,
          0.00010825796735615959,
          0.0001860784239307491,
          0.00015197166813151535,
          0.00015915320311753046,
          0.0001608984694078916,
          0.0002054951709671868,
          0.00023802428452377619,
          0.00016990820730214398,
          0.00012561168557554317,
          0.00015297419950700215
         ]
        },
        {
         "marker": {
          "color": "#cccccc",
          "line": {
           "color": "Gray",
           "width": 2
          }
         },
         "mode": "markers",
         "name": "Infeasible Trial",
         "showlegend": false,
         "type": "scatter",
         "x": [],
         "y": []
        }
       ],
       "layout": {
        "template": {
         "data": {
          "bar": [
           {
            "error_x": {
             "color": "#2a3f5f"
            },
            "error_y": {
             "color": "#2a3f5f"
            },
            "marker": {
             "line": {
              "color": "#E5ECF6",
              "width": 0.5
             },
             "pattern": {
              "fillmode": "overlay",
              "size": 10,
              "solidity": 0.2
             }
            },
            "type": "bar"
           }
          ],
          "barpolar": [
           {
            "marker": {
             "line": {
              "color": "#E5ECF6",
              "width": 0.5
             },
             "pattern": {
              "fillmode": "overlay",
              "size": 10,
              "solidity": 0.2
             }
            },
            "type": "barpolar"
           }
          ],
          "carpet": [
           {
            "aaxis": {
             "endlinecolor": "#2a3f5f",
             "gridcolor": "white",
             "linecolor": "white",
             "minorgridcolor": "white",
             "startlinecolor": "#2a3f5f"
            },
            "baxis": {
             "endlinecolor": "#2a3f5f",
             "gridcolor": "white",
             "linecolor": "white",
             "minorgridcolor": "white",
             "startlinecolor": "#2a3f5f"
            },
            "type": "carpet"
           }
          ],
          "choropleth": [
           {
            "colorbar": {
             "outlinewidth": 0,
             "ticks": ""
            },
            "type": "choropleth"
           }
          ],
          "contour": [
           {
            "colorbar": {
             "outlinewidth": 0,
             "ticks": ""
            },
            "colorscale": [
             [
              0,
              "#0d0887"
             ],
             [
              0.1111111111111111,
              "#46039f"
             ],
             [
              0.2222222222222222,
              "#7201a8"
             ],
             [
              0.3333333333333333,
              "#9c179e"
             ],
             [
              0.4444444444444444,
              "#bd3786"
             ],
             [
              0.5555555555555556,
              "#d8576b"
             ],
             [
              0.6666666666666666,
              "#ed7953"
             ],
             [
              0.7777777777777778,
              "#fb9f3a"
             ],
             [
              0.8888888888888888,
              "#fdca26"
             ],
             [
              1,
              "#f0f921"
             ]
            ],
            "type": "contour"
           }
          ],
          "contourcarpet": [
           {
            "colorbar": {
             "outlinewidth": 0,
             "ticks": ""
            },
            "type": "contourcarpet"
           }
          ],
          "heatmap": [
           {
            "colorbar": {
             "outlinewidth": 0,
             "ticks": ""
            },
            "colorscale": [
             [
              0,
              "#0d0887"
             ],
             [
              0.1111111111111111,
              "#46039f"
             ],
             [
              0.2222222222222222,
              "#7201a8"
             ],
             [
              0.3333333333333333,
              "#9c179e"
             ],
             [
              0.4444444444444444,
              "#bd3786"
             ],
             [
              0.5555555555555556,
              "#d8576b"
             ],
             [
              0.6666666666666666,
              "#ed7953"
             ],
             [
              0.7777777777777778,
              "#fb9f3a"
             ],
             [
              0.8888888888888888,
              "#fdca26"
             ],
             [
              1,
              "#f0f921"
             ]
            ],
            "type": "heatmap"
           }
          ],
          "heatmapgl": [
           {
            "colorbar": {
             "outlinewidth": 0,
             "ticks": ""
            },
            "colorscale": [
             [
              0,
              "#0d0887"
             ],
             [
              0.1111111111111111,
              "#46039f"
             ],
             [
              0.2222222222222222,
              "#7201a8"
             ],
             [
              0.3333333333333333,
              "#9c179e"
             ],
             [
              0.4444444444444444,
              "#bd3786"
             ],
             [
              0.5555555555555556,
              "#d8576b"
             ],
             [
              0.6666666666666666,
              "#ed7953"
             ],
             [
              0.7777777777777778,
              "#fb9f3a"
             ],
             [
              0.8888888888888888,
              "#fdca26"
             ],
             [
              1,
              "#f0f921"
             ]
            ],
            "type": "heatmapgl"
           }
          ],
          "histogram": [
           {
            "marker": {
             "pattern": {
              "fillmode": "overlay",
              "size": 10,
              "solidity": 0.2
             }
            },
            "type": "histogram"
           }
          ],
          "histogram2d": [
           {
            "colorbar": {
             "outlinewidth": 0,
             "ticks": ""
            },
            "colorscale": [
             [
              0,
              "#0d0887"
             ],
             [
              0.1111111111111111,
              "#46039f"
             ],
             [
              0.2222222222222222,
              "#7201a8"
             ],
             [
              0.3333333333333333,
              "#9c179e"
             ],
             [
              0.4444444444444444,
              "#bd3786"
             ],
             [
              0.5555555555555556,
              "#d8576b"
             ],
             [
              0.6666666666666666,
              "#ed7953"
             ],
             [
              0.7777777777777778,
              "#fb9f3a"
             ],
             [
              0.8888888888888888,
              "#fdca26"
             ],
             [
              1,
              "#f0f921"
             ]
            ],
            "type": "histogram2d"
           }
          ],
          "histogram2dcontour": [
           {
            "colorbar": {
             "outlinewidth": 0,
             "ticks": ""
            },
            "colorscale": [
             [
              0,
              "#0d0887"
             ],
             [
              0.1111111111111111,
              "#46039f"
             ],
             [
              0.2222222222222222,
              "#7201a8"
             ],
             [
              0.3333333333333333,
              "#9c179e"
             ],
             [
              0.4444444444444444,
              "#bd3786"
             ],
             [
              0.5555555555555556,
              "#d8576b"
             ],
             [
              0.6666666666666666,
              "#ed7953"
             ],
             [
              0.7777777777777778,
              "#fb9f3a"
             ],
             [
              0.8888888888888888,
              "#fdca26"
             ],
             [
              1,
              "#f0f921"
             ]
            ],
            "type": "histogram2dcontour"
           }
          ],
          "mesh3d": [
           {
            "colorbar": {
             "outlinewidth": 0,
             "ticks": ""
            },
            "type": "mesh3d"
           }
          ],
          "parcoords": [
           {
            "line": {
             "colorbar": {
              "outlinewidth": 0,
              "ticks": ""
             }
            },
            "type": "parcoords"
           }
          ],
          "pie": [
           {
            "automargin": true,
            "type": "pie"
           }
          ],
          "scatter": [
           {
            "fillpattern": {
             "fillmode": "overlay",
             "size": 10,
             "solidity": 0.2
            },
            "type": "scatter"
           }
          ],
          "scatter3d": [
           {
            "line": {
             "colorbar": {
              "outlinewidth": 0,
              "ticks": ""
             }
            },
            "marker": {
             "colorbar": {
              "outlinewidth": 0,
              "ticks": ""
             }
            },
            "type": "scatter3d"
           }
          ],
          "scattercarpet": [
           {
            "marker": {
             "colorbar": {
              "outlinewidth": 0,
              "ticks": ""
             }
            },
            "type": "scattercarpet"
           }
          ],
          "scattergeo": [
           {
            "marker": {
             "colorbar": {
              "outlinewidth": 0,
              "ticks": ""
             }
            },
            "type": "scattergeo"
           }
          ],
          "scattergl": [
           {
            "marker": {
             "colorbar": {
              "outlinewidth": 0,
              "ticks": ""
             }
            },
            "type": "scattergl"
           }
          ],
          "scattermapbox": [
           {
            "marker": {
             "colorbar": {
              "outlinewidth": 0,
              "ticks": ""
             }
            },
            "type": "scattermapbox"
           }
          ],
          "scatterpolar": [
           {
            "marker": {
             "colorbar": {
              "outlinewidth": 0,
              "ticks": ""
             }
            },
            "type": "scatterpolar"
           }
          ],
          "scatterpolargl": [
           {
            "marker": {
             "colorbar": {
              "outlinewidth": 0,
              "ticks": ""
             }
            },
            "type": "scatterpolargl"
           }
          ],
          "scatterternary": [
           {
            "marker": {
             "colorbar": {
              "outlinewidth": 0,
              "ticks": ""
             }
            },
            "type": "scatterternary"
           }
          ],
          "surface": [
           {
            "colorbar": {
             "outlinewidth": 0,
             "ticks": ""
            },
            "colorscale": [
             [
              0,
              "#0d0887"
             ],
             [
              0.1111111111111111,
              "#46039f"
             ],
             [
              0.2222222222222222,
              "#7201a8"
             ],
             [
              0.3333333333333333,
              "#9c179e"
             ],
             [
              0.4444444444444444,
              "#bd3786"
             ],
             [
              0.5555555555555556,
              "#d8576b"
             ],
             [
              0.6666666666666666,
              "#ed7953"
             ],
             [
              0.7777777777777778,
              "#fb9f3a"
             ],
             [
              0.8888888888888888,
              "#fdca26"
             ],
             [
              1,
              "#f0f921"
             ]
            ],
            "type": "surface"
           }
          ],
          "table": [
           {
            "cells": {
             "fill": {
              "color": "#EBF0F8"
             },
             "line": {
              "color": "white"
             }
            },
            "header": {
             "fill": {
              "color": "#C8D4E3"
             },
             "line": {
              "color": "white"
             }
            },
            "type": "table"
           }
          ]
         },
         "layout": {
          "annotationdefaults": {
           "arrowcolor": "#2a3f5f",
           "arrowhead": 0,
           "arrowwidth": 1
          },
          "autotypenumbers": "strict",
          "coloraxis": {
           "colorbar": {
            "outlinewidth": 0,
            "ticks": ""
           }
          },
          "colorscale": {
           "diverging": [
            [
             0,
             "#8e0152"
            ],
            [
             0.1,
             "#c51b7d"
            ],
            [
             0.2,
             "#de77ae"
            ],
            [
             0.3,
             "#f1b6da"
            ],
            [
             0.4,
             "#fde0ef"
            ],
            [
             0.5,
             "#f7f7f7"
            ],
            [
             0.6,
             "#e6f5d0"
            ],
            [
             0.7,
             "#b8e186"
            ],
            [
             0.8,
             "#7fbc41"
            ],
            [
             0.9,
             "#4d9221"
            ],
            [
             1,
             "#276419"
            ]
           ],
           "sequential": [
            [
             0,
             "#0d0887"
            ],
            [
             0.1111111111111111,
             "#46039f"
            ],
            [
             0.2222222222222222,
             "#7201a8"
            ],
            [
             0.3333333333333333,
             "#9c179e"
            ],
            [
             0.4444444444444444,
             "#bd3786"
            ],
            [
             0.5555555555555556,
             "#d8576b"
            ],
            [
             0.6666666666666666,
             "#ed7953"
            ],
            [
             0.7777777777777778,
             "#fb9f3a"
            ],
            [
             0.8888888888888888,
             "#fdca26"
            ],
            [
             1,
             "#f0f921"
            ]
           ],
           "sequentialminus": [
            [
             0,
             "#0d0887"
            ],
            [
             0.1111111111111111,
             "#46039f"
            ],
            [
             0.2222222222222222,
             "#7201a8"
            ],
            [
             0.3333333333333333,
             "#9c179e"
            ],
            [
             0.4444444444444444,
             "#bd3786"
            ],
            [
             0.5555555555555556,
             "#d8576b"
            ],
            [
             0.6666666666666666,
             "#ed7953"
            ],
            [
             0.7777777777777778,
             "#fb9f3a"
            ],
            [
             0.8888888888888888,
             "#fdca26"
            ],
            [
             1,
             "#f0f921"
            ]
           ]
          },
          "colorway": [
           "#636efa",
           "#EF553B",
           "#00cc96",
           "#ab63fa",
           "#FFA15A",
           "#19d3f3",
           "#FF6692",
           "#B6E880",
           "#FF97FF",
           "#FECB52"
          ],
          "font": {
           "color": "#2a3f5f"
          },
          "geo": {
           "bgcolor": "white",
           "lakecolor": "white",
           "landcolor": "#E5ECF6",
           "showlakes": true,
           "showland": true,
           "subunitcolor": "white"
          },
          "hoverlabel": {
           "align": "left"
          },
          "hovermode": "closest",
          "mapbox": {
           "style": "light"
          },
          "paper_bgcolor": "white",
          "plot_bgcolor": "#E5ECF6",
          "polar": {
           "angularaxis": {
            "gridcolor": "white",
            "linecolor": "white",
            "ticks": ""
           },
           "bgcolor": "#E5ECF6",
           "radialaxis": {
            "gridcolor": "white",
            "linecolor": "white",
            "ticks": ""
           }
          },
          "scene": {
           "xaxis": {
            "backgroundcolor": "#E5ECF6",
            "gridcolor": "white",
            "gridwidth": 2,
            "linecolor": "white",
            "showbackground": true,
            "ticks": "",
            "zerolinecolor": "white"
           },
           "yaxis": {
            "backgroundcolor": "#E5ECF6",
            "gridcolor": "white",
            "gridwidth": 2,
            "linecolor": "white",
            "showbackground": true,
            "ticks": "",
            "zerolinecolor": "white"
           },
           "zaxis": {
            "backgroundcolor": "#E5ECF6",
            "gridcolor": "white",
            "gridwidth": 2,
            "linecolor": "white",
            "showbackground": true,
            "ticks": "",
            "zerolinecolor": "white"
           }
          },
          "shapedefaults": {
           "line": {
            "color": "#2a3f5f"
           }
          },
          "ternary": {
           "aaxis": {
            "gridcolor": "white",
            "linecolor": "white",
            "ticks": ""
           },
           "baxis": {
            "gridcolor": "white",
            "linecolor": "white",
            "ticks": ""
           },
           "bgcolor": "#E5ECF6",
           "caxis": {
            "gridcolor": "white",
            "linecolor": "white",
            "ticks": ""
           }
          },
          "title": {
           "x": 0.05
          },
          "xaxis": {
           "automargin": true,
           "gridcolor": "white",
           "linecolor": "white",
           "ticks": "",
           "title": {
            "standoff": 15
           },
           "zerolinecolor": "white",
           "zerolinewidth": 2
          },
          "yaxis": {
           "automargin": true,
           "gridcolor": "white",
           "linecolor": "white",
           "ticks": "",
           "title": {
            "standoff": 15
           },
           "zerolinecolor": "white",
           "zerolinewidth": 2
          }
         }
        },
        "title": {
         "text": "Contour Plot"
        },
        "xaxis": {
         "range": [
          -4.1662963786194895,
          -0.07970398358177094
         ],
         "title": {
          "text": "lr_fast"
         },
         "type": "log"
        },
        "yaxis": {
         "range": [
          -5.038050141443362,
          -2.3483800589725177
         ],
         "title": {
          "text": "lr_slow"
         },
         "type": "log"
        }
       }
      }
     },
     "metadata": {},
     "output_type": "display_data"
    }
   ],
   "source": [
    "optuna.visualization.plot_contour(study, params=[\"lr_slow\", \"lr_fast\"])"
   ]
  },
  {
   "cell_type": "code",
   "execution_count": 11,
   "metadata": {},
   "outputs": [
    {
     "data": {
      "application/vnd.plotly.v1+json": {
       "config": {
        "plotlyServerURL": "https://plot.ly"
       },
       "data": [
        {
         "colorbar": {
          "title": {
           "text": "Objective Value"
          }
         },
         "colorscale": [
          [
           0,
           "rgb(247,251,255)"
          ],
          [
           0.125,
           "rgb(222,235,247)"
          ],
          [
           0.25,
           "rgb(198,219,239)"
          ],
          [
           0.375,
           "rgb(158,202,225)"
          ],
          [
           0.5,
           "rgb(107,174,214)"
          ],
          [
           0.625,
           "rgb(66,146,198)"
          ],
          [
           0.75,
           "rgb(33,113,181)"
          ],
          [
           0.875,
           "rgb(8,81,156)"
          ],
          [
           1,
           "rgb(8,48,107)"
          ]
         ],
         "connectgaps": true,
         "contours": {
          "coloring": "heatmap"
         },
         "hoverinfo": "none",
         "line": {
          "smoothing": 1.3
         },
         "reversescale": false,
         "type": "contour",
         "x": [
          0.000009161147140465642,
          0.00001213968980076562,
          0.0000253240195495629,
          0.00006955471138250411,
          0.00007150279843391331,
          0.00007371356980560535,
          0.00008347337981812994,
          0.00008393244392475406,
          0.00008563362351374905,
          0.00008598022539292328,
          0.00008710956958575865,
          0.00008902137447715534,
          0.00009151196041368825,
          0.00009206287889563547,
          0.00010825796735615959,
          0.00011050654846784925,
          0.00011201128824447833,
          0.00011274300302389007,
          0.00012561168557554317,
          0.00013203361547007368,
          0.0001330670472334793,
          0.00013681881512597906,
          0.00013714393136609964,
          0.00013955902469821164,
          0.0001444302872566509,
          0.00014472029112066751,
          0.00015197166813151535,
          0.00015253919406282198,
          0.00015297419950700215,
          0.00015786406831977016,
          0.00015915320311753046,
          0.0001608984694078916,
          0.0001655026968598142,
          0.00016601203764890997,
          0.00016990820730214398,
          0.00017784467979440957,
          0.0001801093852331116,
          0.00018248154172176555,
          0.00018442907445484887,
          0.00018551848480019288,
          0.0001860784239307491,
          0.00018680374735691781,
          0.0001874795814684679,
          0.00018994670877178662,
          0.00019706098293062636,
          0.0002054951709671868,
          0.00021540321357011225,
          0.00022454129288975542,
          0.00022580025418692106,
          0.00023659770221109327,
          0.00023802428452377619,
          0.00028171081527126387,
          0.00028257978535531635,
          0.0003366910187892329,
          0.0003576124899384091,
          0.0007593165948858177,
          0.0008884901704341717,
          0.003383469064341586,
          0.0044835285649069715
         ],
         "y": [
          -0.00032957453104004984,
          0.00005250420071848297,
          0.0001259107631198591,
          0.0002624792012494922,
          0.00027956787859799686,
          0.0002840575642752578,
          0.00036594309115410063,
          0.00036940907889928306,
          0.00038687933073700204,
          0.0003930051864701078,
          0.00040786155959596313,
          0.00041173749495640845,
          0.00041415005308929155,
          0.00047360966219817113,
          0.00048344003173959296,
          0.0004932007161997418,
          0.0005035155209317202,
          0.0005364196988379736,
          0.0005538995161199818,
          0.0005570187348685695,
          0.0005575824551224897,
          0.0005594653072163393,
          0.0006033788552613864,
          0.000633213269238761,
          0.0006682221508600754,
          0.0006906323409458677,
          0.0007053482923654836,
          0.0007302962362202726,
          0.0007404978619691229,
          0.0008155309996945416,
          0.0009740819974826558,
          0.0010548508700471953,
          0.0011343113514715552,
          0.001225300046953334,
          0.001399553515838771,
          0.0014636649209304737,
          0.001497339029897948,
          0.001526585245590259,
          0.0016004524336544544,
          0.0016985040268857512,
          0.0017155870180799188,
          0.001742228650950661,
          0.0032370304082646965,
          0.00381441505452984,
          0.004378597830663055,
          0.004813004245101346,
          0.00553689518340325,
          0.006093860921140011,
          0.006264136670757186,
          0.00649490107023957,
          0.006502154668718485,
          0.006758441036192864,
          0.006881841772441482,
          0.007331254145910555,
          0.007379064578962659,
          0.007439965801592887,
          0.007483296713192136,
          0.0076940788358891374,
          0.00807615756764767
         ],
         "z": [
          [
           null,
           null,
           null,
           null,
           null,
           null,
           null,
           null,
           null,
           null,
           null,
           null,
           null,
           null,
           null,
           null,
           null,
           null,
           null,
           null,
           null,
           null,
           null,
           null,
           null,
           null,
           null,
           null,
           null,
           null,
           null,
           null,
           null,
           null,
           null,
           null,
           null,
           null,
           null,
           null,
           null,
           null,
           null,
           null,
           null,
           null,
           null,
           null,
           null,
           null,
           null,
           null,
           null,
           null,
           null,
           null,
           null,
           null,
           null
          ],
          [
           null,
           null,
           null,
           null,
           null,
           null,
           null,
           null,
           null,
           null,
           null,
           null,
           null,
           null,
           null,
           null,
           null,
           null,
           null,
           null,
           null,
           null,
           null,
           null,
           null,
           null,
           null,
           null,
           null,
           null,
           null,
           null,
           null,
           null,
           null,
           0.9528585757271816,
           null,
           null,
           null,
           null,
           null,
           null,
           null,
           null,
           null,
           null,
           null,
           null,
           null,
           null,
           null,
           null,
           null,
           null,
           null,
           null,
           null,
           null,
           null
          ],
          [
           null,
           null,
           null,
           null,
           null,
           null,
           null,
           null,
           null,
           null,
           null,
           null,
           null,
           null,
           null,
           null,
           null,
           null,
           null,
           null,
           null,
           null,
           null,
           null,
           null,
           null,
           null,
           null,
           null,
           null,
           null,
           null,
           null,
           null,
           null,
           null,
           null,
           null,
           null,
           null,
           null,
           null,
           null,
           null,
           null,
           0.9658976930792377,
           null,
           null,
           null,
           null,
           null,
           null,
           null,
           null,
           null,
           null,
           null,
           null,
           null
          ],
          [
           null,
           null,
           null,
           null,
           null,
           null,
           null,
           null,
           null,
           null,
           null,
           null,
           null,
           null,
           null,
           null,
           null,
           null,
           0.9628886659979939,
           null,
           null,
           null,
           null,
           null,
           null,
           null,
           null,
           null,
           null,
           null,
           null,
           null,
           null,
           null,
           null,
           null,
           null,
           null,
           null,
           null,
           null,
           null,
           null,
           null,
           null,
           null,
           null,
           null,
           null,
           null,
           null,
           null,
           null,
           null,
           null,
           null,
           null,
           null,
           null
          ],
          [
           null,
           null,
           null,
           null,
           null,
           null,
           null,
           null,
           null,
           null,
           null,
           null,
           null,
           null,
           null,
           null,
           null,
           null,
           null,
           null,
           null,
           null,
           null,
           null,
           null,
           null,
           null,
           null,
           null,
           null,
           null,
           null,
           null,
           null,
           0.9578736208625878,
           null,
           null,
           null,
           null,
           null,
           null,
           null,
           null,
           null,
           null,
           null,
           null,
           null,
           null,
           null,
           null,
           null,
           null,
           null,
           null,
           null,
           null,
           null,
           null
          ],
          [
           null,
           null,
           null,
           null,
           null,
           null,
           null,
           null,
           null,
           null,
           null,
           null,
           null,
           null,
           null,
           null,
           null,
           null,
           null,
           null,
           null,
           null,
           null,
           null,
           null,
           null,
           null,
           null,
           null,
           null,
           null,
           null,
           null,
           null,
           null,
           null,
           null,
           null,
           null,
           null,
           null,
           null,
           null,
           null,
           null,
           null,
           null,
           0.9458375125376128,
           null,
           null,
           null,
           null,
           null,
           null,
           null,
           null,
           null,
           null,
           null
          ],
          [
           null,
           null,
           null,
           null,
           null,
           null,
           null,
           null,
           null,
           null,
           null,
           null,
           null,
           null,
           null,
           null,
           null,
           null,
           null,
           null,
           null,
           null,
           null,
           null,
           null,
           null,
           null,
           null,
           null,
           null,
           null,
           null,
           null,
           null,
           null,
           null,
           null,
           null,
           null,
           null,
           null,
           null,
           null,
           null,
           null,
           null,
           null,
           null,
           null,
           null,
           null,
           0.9398194583751254,
           null,
           null,
           null,
           null,
           null,
           null,
           null
          ],
          [
           null,
           null,
           null,
           null,
           null,
           null,
           null,
           null,
           null,
           null,
           null,
           null,
           null,
           null,
           null,
           null,
           null,
           null,
           null,
           null,
           null,
           null,
           null,
           null,
           null,
           null,
           null,
           null,
           0.9578736208625878,
           null,
           null,
           null,
           null,
           null,
           null,
           null,
           null,
           null,
           null,
           null,
           null,
           null,
           null,
           null,
           null,
           null,
           null,
           null,
           null,
           null,
           null,
           null,
           null,
           null,
           null,
           null,
           null,
           null,
           null
          ],
          [
           null,
           null,
           null,
           null,
           null,
           null,
           null,
           null,
           null,
           null,
           null,
           null,
           null,
           null,
           null,
           null,
           null,
           null,
           null,
           null,
           null,
           null,
           null,
           null,
           null,
           null,
           null,
           null,
           null,
           null,
           null,
           null,
           null,
           null,
           null,
           null,
           null,
           null,
           null,
           null,
           null,
           null,
           null,
           null,
           null,
           null,
           null,
           null,
           null,
           0.9428284854563691,
           null,
           null,
           null,
           null,
           null,
           null,
           null,
           null,
           null
          ],
          [
           null,
           null,
           null,
           null,
           null,
           null,
           null,
           null,
           null,
           null,
           null,
           null,
           null,
           null,
           null,
           null,
           null,
           null,
           null,
           null,
           null,
           null,
           null,
           null,
           null,
           null,
           0.9648946840521565,
           null,
           null,
           null,
           null,
           null,
           null,
           null,
           null,
           null,
           null,
           null,
           null,
           null,
           null,
           null,
           null,
           null,
           null,
           null,
           null,
           null,
           null,
           null,
           null,
           null,
           null,
           null,
           null,
           null,
           null,
           null,
           null
          ],
          [
           null,
           null,
           null,
           null,
           null,
           null,
           null,
           null,
           null,
           null,
           null,
           null,
           null,
           null,
           null,
           null,
           null,
           null,
           null,
           null,
           null,
           null,
           null,
           null,
           null,
           null,
           null,
           null,
           null,
           null,
           0.9638916750250752,
           null,
           null,
           null,
           null,
           null,
           null,
           null,
           null,
           null,
           null,
           null,
           null,
           null,
           null,
           null,
           null,
           null,
           null,
           null,
           null,
           null,
           null,
           null,
           null,
           null,
           null,
           null,
           null
          ],
          [
           null,
           null,
           null,
           null,
           null,
           null,
           null,
           null,
           null,
           null,
           null,
           null,
           null,
           null,
           null,
           null,
           null,
           null,
           null,
           null,
           null,
           null,
           null,
           null,
           null,
           null,
           null,
           null,
           null,
           null,
           null,
           0.9518555667001003,
           null,
           null,
           null,
           null,
           null,
           null,
           null,
           null,
           null,
           null,
           null,
           null,
           null,
           null,
           null,
           null,
           null,
           null,
           null,
           null,
           null,
           null,
           null,
           null,
           null,
           null,
           null
          ],
          [
           null,
           null,
           null,
           null,
           null,
           null,
           null,
           null,
           null,
           null,
           null,
           null,
           null,
           null,
           null,
           0.958876629889669,
           null,
           null,
           null,
           null,
           null,
           null,
           null,
           null,
           null,
           null,
           null,
           null,
           null,
           null,
           null,
           null,
           null,
           null,
           null,
           null,
           null,
           null,
           null,
           null,
           null,
           null,
           null,
           null,
           null,
           null,
           null,
           null,
           null,
           null,
           null,
           null,
           null,
           null,
           null,
           null,
           null,
           null,
           null
          ],
          [
           null,
           0.8756268806419257,
           null,
           null,
           null,
           null,
           null,
           null,
           null,
           null,
           null,
           null,
           null,
           null,
           null,
           null,
           null,
           null,
           null,
           null,
           null,
           null,
           null,
           null,
           null,
           null,
           null,
           null,
           null,
           null,
           null,
           null,
           null,
           null,
           null,
           null,
           null,
           null,
           null,
           null,
           null,
           null,
           null,
           null,
           null,
           null,
           null,
           null,
           null,
           null,
           null,
           null,
           null,
           null,
           null,
           null,
           null,
           null,
           null
          ],
          [
           null,
           null,
           null,
           null,
           null,
           null,
           null,
           null,
           null,
           null,
           null,
           null,
           null,
           null,
           null,
           null,
           null,
           null,
           null,
           null,
           null,
           null,
           null,
           null,
           null,
           null,
           null,
           null,
           null,
           null,
           null,
           null,
           null,
           null,
           null,
           null,
           null,
           null,
           null,
           null,
           null,
           null,
           null,
           null,
           null,
           null,
           null,
           null,
           null,
           null,
           0.9598796389167502,
           null,
           null,
           null,
           null,
           null,
           null,
           null,
           null
          ],
          [
           null,
           null,
           null,
           null,
           null,
           null,
           null,
           null,
           null,
           null,
           null,
           null,
           null,
           null,
           null,
           null,
           null,
           null,
           null,
           null,
           null,
           null,
           null,
           null,
           null,
           null,
           null,
           null,
           null,
           null,
           null,
           null,
           0.954864593781344,
           null,
           null,
           null,
           null,
           null,
           null,
           null,
           null,
           null,
           null,
           null,
           null,
           null,
           null,
           null,
           null,
           null,
           null,
           null,
           null,
           null,
           null,
           null,
           null,
           null,
           null
          ],
          [
           null,
           null,
           null,
           null,
           null,
           null,
           null,
           null,
           null,
           null,
           null,
           null,
           null,
           null,
           null,
           null,
           null,
           0.9568706118355065,
           null,
           null,
           null,
           null,
           null,
           null,
           null,
           null,
           null,
           null,
           null,
           null,
           null,
           null,
           null,
           null,
           null,
           null,
           null,
           null,
           null,
           null,
           null,
           null,
           null,
           null,
           null,
           null,
           null,
           null,
           null,
           null,
           null,
           null,
           null,
           null,
           null,
           null,
           null,
           null,
           null
          ],
          [
           null,
           null,
           null,
           null,
           null,
           null,
           null,
           null,
           null,
           null,
           null,
           null,
           null,
           null,
           null,
           null,
           null,
           null,
           null,
           null,
           null,
           null,
           null,
           null,
           null,
           null,
           null,
           null,
           null,
           null,
           null,
           null,
           null,
           null,
           null,
           null,
           null,
           null,
           null,
           null,
           0.9418254764292878,
           null,
           null,
           null,
           null,
           null,
           null,
           null,
           null,
           null,
           null,
           null,
           null,
           null,
           null,
           null,
           null,
           null,
           null
          ],
          [
           null,
           null,
           null,
           null,
           null,
           null,
           null,
           null,
           null,
           null,
           null,
           0.9618856569709128,
           null,
           null,
           null,
           null,
           null,
           null,
           null,
           null,
           null,
           null,
           null,
           null,
           null,
           null,
           null,
           null,
           null,
           null,
           null,
           null,
           null,
           null,
           null,
           null,
           null,
           null,
           null,
           null,
           null,
           null,
           null,
           null,
           null,
           null,
           null,
           null,
           null,
           null,
           null,
           null,
           null,
           null,
           null,
           null,
           null,
           null,
           null
          ],
          [
           null,
           null,
           null,
           null,
           null,
           null,
           null,
           null,
           null,
           null,
           null,
           null,
           null,
           null,
           null,
           null,
           null,
           null,
           null,
           null,
           null,
           null,
           null,
           null,
           null,
           null,
           null,
           null,
           null,
           null,
           null,
           null,
           null,
           null,
           null,
           null,
           null,
           null,
           null,
           0.9608826479438315,
           null,
           null,
           null,
           null,
           null,
           null,
           null,
           null,
           null,
           null,
           null,
           null,
           null,
           null,
           null,
           null,
           null,
           null,
           null
          ],
          [
           null,
           null,
           null,
           null,
           null,
           null,
           null,
           null,
           null,
           null,
           null,
           null,
           null,
           null,
           null,
           null,
           null,
           null,
           null,
           null,
           null,
           null,
           null,
           null,
           null,
           null,
           null,
           null,
           null,
           null,
           null,
           null,
           null,
           null,
           null,
           null,
           null,
           null,
           null,
           null,
           null,
           null,
           0.9568706118355065,
           null,
           null,
           null,
           null,
           null,
           null,
           null,
           null,
           null,
           null,
           null,
           null,
           null,
           null,
           null,
           null
          ],
          [
           null,
           null,
           null,
           null,
           null,
           null,
           null,
           null,
           null,
           null,
           null,
           null,
           null,
           null,
           null,
           null,
           null,
           null,
           null,
           null,
           null,
           null,
           0.9679037111334002,
           null,
           null,
           null,
           null,
           null,
           null,
           null,
           null,
           null,
           null,
           null,
           null,
           null,
           null,
           null,
           null,
           null,
           null,
           null,
           null,
           null,
           null,
           null,
           null,
           null,
           null,
           null,
           null,
           null,
           null,
           null,
           null,
           null,
           null,
           null,
           null
          ],
          [
           null,
           null,
           null,
           null,
           null,
           null,
           null,
           null,
           null,
           null,
           null,
           null,
           null,
           null,
           null,
           null,
           null,
           null,
           null,
           null,
           null,
           null,
           null,
           null,
           null,
           null,
           null,
           null,
           null,
           null,
           null,
           null,
           null,
           null,
           null,
           null,
           null,
           null,
           null,
           null,
           null,
           null,
           null,
           null,
           null,
           null,
           null,
           null,
           null,
           null,
           null,
           null,
           null,
           null,
           0.9277833500501504,
           null,
           null,
           null,
           null
          ],
          [
           null,
           null,
           null,
           null,
           null,
           null,
           null,
           null,
           null,
           null,
           null,
           null,
           null,
           null,
           null,
           null,
           null,
           null,
           null,
           null,
           null,
           null,
           null,
           null,
           null,
           null,
           null,
           null,
           null,
           null,
           null,
           null,
           null,
           null,
           null,
           null,
           null,
           0.9578736208625878,
           null,
           null,
           null,
           null,
           null,
           null,
           null,
           null,
           null,
           null,
           null,
           null,
           null,
           null,
           null,
           null,
           null,
           null,
           null,
           null,
           null
          ],
          [
           null,
           null,
           null,
           null,
           null,
           null,
           null,
           null,
           null,
           null,
           null,
           null,
           null,
           0.9488465396188566,
           null,
           null,
           null,
           null,
           null,
           null,
           null,
           null,
           null,
           null,
           null,
           null,
           null,
           null,
           null,
           null,
           null,
           null,
           null,
           null,
           null,
           null,
           null,
           null,
           null,
           null,
           null,
           null,
           null,
           null,
           null,
           null,
           null,
           null,
           null,
           null,
           null,
           null,
           null,
           null,
           null,
           null,
           null,
           null,
           null
          ],
          [
           null,
           null,
           null,
           null,
           null,
           null,
           null,
           null,
           null,
           null,
           null,
           null,
           null,
           null,
           null,
           null,
           null,
           null,
           null,
           null,
           null,
           null,
           null,
           null,
           null,
           null,
           null,
           null,
           null,
           null,
           null,
           null,
           null,
           null,
           null,
           null,
           null,
           null,
           0.9608826479438315,
           null,
           null,
           null,
           null,
           null,
           null,
           null,
           null,
           null,
           null,
           null,
           null,
           null,
           null,
           null,
           null,
           null,
           null,
           null,
           null
          ],
          [
           null,
           null,
           null,
           null,
           null,
           null,
           null,
           null,
           null,
           null,
           null,
           null,
           null,
           null,
           null,
           null,
           null,
           null,
           null,
           null,
           null,
           null,
           null,
           null,
           null,
           null,
           null,
           null,
           null,
           null,
           null,
           null,
           null,
           null,
           null,
           null,
           null,
           null,
           null,
           null,
           null,
           null,
           null,
           0.9428284854563691,
           null,
           null,
           null,
           null,
           null,
           null,
           null,
           null,
           null,
           null,
           null,
           null,
           null,
           null,
           null
          ],
          [
           null,
           null,
           null,
           null,
           null,
           null,
           null,
           null,
           null,
           null,
           null,
           null,
           null,
           null,
           null,
           null,
           null,
           null,
           null,
           null,
           null,
           null,
           null,
           null,
           null,
           null,
           null,
           null,
           null,
           null,
           null,
           null,
           null,
           null,
           null,
           null,
           null,
           null,
           null,
           null,
           null,
           null,
           null,
           null,
           0.9568706118355065,
           null,
           null,
           null,
           null,
           null,
           null,
           null,
           null,
           null,
           null,
           null,
           null,
           null,
           null
          ],
          [
           null,
           null,
           null,
           null,
           null,
           null,
           null,
           0.9498495486459378,
           null,
           null,
           null,
           null,
           null,
           null,
           null,
           null,
           null,
           null,
           null,
           null,
           null,
           null,
           null,
           null,
           null,
           null,
           null,
           null,
           null,
           null,
           null,
           null,
           null,
           null,
           null,
           null,
           null,
           null,
           null,
           null,
           null,
           null,
           null,
           null,
           null,
           null,
           null,
           null,
           null,
           null,
           null,
           null,
           null,
           null,
           null,
           null,
           null,
           null,
           null
          ],
          [
           null,
           null,
           null,
           null,
           null,
           null,
           0.9689067201604814,
           null,
           null,
           null,
           null,
           null,
           null,
           null,
           null,
           null,
           null,
           null,
           null,
           null,
           null,
           null,
           null,
           null,
           null,
           null,
           null,
           null,
           null,
           null,
           null,
           null,
           null,
           null,
           null,
           null,
           null,
           null,
           null,
           null,
           null,
           null,
           null,
           null,
           null,
           null,
           null,
           null,
           null,
           null,
           null,
           null,
           null,
           null,
           null,
           null,
           null,
           null,
           null
          ],
          [
           null,
           null,
           null,
           null,
           null,
           null,
           null,
           null,
           null,
           null,
           null,
           null,
           null,
           null,
           null,
           null,
           null,
           null,
           null,
           null,
           null,
           0.9448345035105316,
           null,
           null,
           null,
           null,
           null,
           null,
           null,
           null,
           null,
           null,
           null,
           null,
           null,
           null,
           null,
           null,
           null,
           null,
           null,
           null,
           null,
           null,
           null,
           null,
           null,
           null,
           null,
           null,
           null,
           null,
           null,
           null,
           null,
           null,
           null,
           null,
           null
          ],
          [
           null,
           null,
           null,
           null,
           null,
           null,
           null,
           null,
           null,
           null,
           null,
           null,
           null,
           null,
           0.9608826479438315,
           null,
           null,
           null,
           null,
           null,
           null,
           null,
           null,
           null,
           null,
           null,
           null,
           null,
           null,
           null,
           null,
           null,
           null,
           null,
           null,
           null,
           null,
           null,
           null,
           null,
           null,
           null,
           null,
           null,
           null,
           null,
           null,
           null,
           null,
           null,
           null,
           null,
           null,
           null,
           null,
           null,
           null,
           null,
           null
          ],
          [
           null,
           null,
           null,
           null,
           null,
           null,
           null,
           null,
           null,
           null,
           null,
           null,
           null,
           null,
           null,
           null,
           null,
           null,
           null,
           null,
           null,
           null,
           null,
           0.970912738214644,
           null,
           null,
           null,
           null,
           null,
           null,
           null,
           null,
           null,
           null,
           null,
           null,
           null,
           null,
           null,
           null,
           null,
           null,
           null,
           null,
           null,
           null,
           null,
           null,
           null,
           null,
           null,
           null,
           null,
           null,
           null,
           null,
           null,
           null,
           null
          ],
          [
           null,
           null,
           null,
           null,
           null,
           null,
           null,
           null,
           null,
           null,
           null,
           null,
           null,
           null,
           null,
           null,
           0.966900702106319,
           null,
           null,
           null,
           null,
           null,
           null,
           null,
           null,
           null,
           null,
           null,
           null,
           null,
           null,
           null,
           null,
           null,
           null,
           null,
           null,
           null,
           null,
           null,
           null,
           null,
           null,
           null,
           null,
           null,
           null,
           null,
           null,
           null,
           null,
           null,
           null,
           null,
           null,
           null,
           null,
           null,
           null
          ],
          [
           null,
           null,
           null,
           null,
           null,
           null,
           null,
           null,
           0.9528585757271816,
           null,
           null,
           null,
           null,
           null,
           null,
           null,
           null,
           null,
           null,
           null,
           null,
           null,
           null,
           null,
           null,
           null,
           null,
           null,
           null,
           null,
           null,
           null,
           null,
           null,
           null,
           null,
           null,
           null,
           null,
           null,
           null,
           null,
           null,
           null,
           null,
           null,
           null,
           null,
           null,
           null,
           null,
           null,
           null,
           null,
           null,
           null,
           null,
           null,
           null
          ],
          [
           null,
           null,
           null,
           null,
           null,
           null,
           null,
           null,
           null,
           0.9658976930792377,
           null,
           null,
           null,
           null,
           null,
           null,
           null,
           null,
           null,
           null,
           null,
           null,
           null,
           null,
           null,
           null,
           null,
           null,
           null,
           null,
           null,
           null,
           null,
           null,
           null,
           null,
           null,
           null,
           null,
           null,
           null,
           null,
           null,
           null,
           null,
           null,
           null,
           null,
           null,
           null,
           null,
           null,
           null,
           null,
           null,
           null,
           null,
           null,
           null
          ],
          [
           null,
           null,
           0.9297893681043129,
           null,
           null,
           null,
           null,
           null,
           null,
           null,
           null,
           null,
           null,
           null,
           null,
           null,
           null,
           null,
           null,
           null,
           null,
           null,
           null,
           null,
           null,
           null,
           null,
           null,
           null,
           null,
           null,
           null,
           null,
           null,
           null,
           null,
           null,
           null,
           null,
           null,
           null,
           null,
           null,
           null,
           null,
           null,
           null,
           null,
           null,
           null,
           null,
           null,
           null,
           null,
           null,
           null,
           null,
           null,
           null
          ],
          [
           null,
           null,
           null,
           null,
           null,
           null,
           null,
           null,
           null,
           null,
           null,
           null,
           null,
           null,
           null,
           null,
           null,
           null,
           null,
           null,
           null,
           null,
           null,
           null,
           null,
           null,
           null,
           null,
           null,
           null,
           null,
           null,
           null,
           0.9528585757271816,
           null,
           null,
           null,
           null,
           null,
           null,
           null,
           null,
           null,
           null,
           null,
           null,
           null,
           null,
           null,
           null,
           null,
           null,
           null,
           null,
           null,
           null,
           null,
           null,
           null
          ],
          [
           null,
           null,
           null,
           null,
           null,
           null,
           null,
           null,
           null,
           null,
           null,
           null,
           null,
           null,
           null,
           null,
           null,
           null,
           null,
           null,
           null,
           null,
           null,
           null,
           null,
           null,
           null,
           null,
           null,
           0.9518555667001003,
           null,
           null,
           null,
           null,
           null,
           null,
           null,
           null,
           null,
           null,
           null,
           null,
           null,
           null,
           null,
           null,
           null,
           null,
           null,
           null,
           null,
           null,
           null,
           null,
           null,
           null,
           null,
           null,
           null
          ],
          [
           null,
           null,
           null,
           null,
           null,
           null,
           null,
           null,
           null,
           null,
           null,
           null,
           null,
           null,
           null,
           null,
           null,
           null,
           null,
           null,
           null,
           null,
           null,
           null,
           0.9348044132397192,
           null,
           null,
           null,
           null,
           null,
           null,
           null,
           null,
           null,
           null,
           null,
           null,
           null,
           null,
           null,
           null,
           null,
           null,
           null,
           null,
           null,
           null,
           null,
           null,
           null,
           null,
           null,
           null,
           null,
           null,
           null,
           null,
           null,
           null
          ],
          [
           null,
           null,
           null,
           null,
           null,
           null,
           null,
           null,
           null,
           null,
           null,
           null,
           null,
           null,
           null,
           null,
           null,
           null,
           null,
           null,
           0.9498495486459378,
           null,
           null,
           null,
           null,
           null,
           null,
           null,
           null,
           null,
           null,
           null,
           null,
           null,
           null,
           null,
           null,
           null,
           null,
           null,
           null,
           null,
           null,
           null,
           null,
           null,
           null,
           null,
           null,
           null,
           null,
           null,
           null,
           null,
           null,
           null,
           null,
           null,
           null
          ],
          [
           null,
           null,
           null,
           null,
           null,
           null,
           null,
           null,
           null,
           null,
           null,
           null,
           null,
           null,
           null,
           null,
           null,
           null,
           null,
           null,
           null,
           null,
           null,
           null,
           null,
           null,
           null,
           null,
           null,
           null,
           null,
           null,
           null,
           null,
           null,
           null,
           null,
           null,
           null,
           null,
           null,
           null,
           null,
           null,
           null,
           null,
           null,
           null,
           null,
           null,
           null,
           null,
           null,
           null,
           null,
           null,
           null,
           0.6208625877632898,
           null
          ],
          [
           null,
           null,
           null,
           null,
           null,
           null,
           null,
           null,
           null,
           null,
           null,
           null,
           null,
           null,
           null,
           null,
           null,
           null,
           null,
           null,
           null,
           null,
           null,
           null,
           null,
           null,
           null,
           null,
           null,
           null,
           null,
           null,
           null,
           null,
           null,
           null,
           null,
           null,
           null,
           null,
           null,
           null,
           null,
           null,
           null,
           null,
           null,
           null,
           null,
           null,
           null,
           null,
           null,
           null,
           null,
           0.8876629889669007,
           null,
           null,
           null
          ],
          [
           null,
           null,
           null,
           null,
           null,
           null,
           null,
           null,
           null,
           null,
           0.8345035105315948,
           null,
           null,
           null,
           null,
           null,
           null,
           null,
           null,
           null,
           null,
           null,
           null,
           null,
           null,
           null,
           null,
           null,
           null,
           null,
           null,
           null,
           null,
           null,
           null,
           null,
           null,
           null,
           null,
           null,
           null,
           null,
           null,
           null,
           null,
           null,
           null,
           null,
           null,
           null,
           null,
           null,
           null,
           null,
           null,
           null,
           null,
           null,
           null
          ],
          [
           null,
           null,
           null,
           null,
           null,
           null,
           null,
           null,
           null,
           null,
           null,
           null,
           null,
           null,
           null,
           null,
           null,
           null,
           null,
           null,
           null,
           null,
           null,
           null,
           null,
           0.9378134403209629,
           null,
           null,
           null,
           null,
           null,
           null,
           null,
           null,
           null,
           null,
           null,
           null,
           null,
           null,
           null,
           null,
           null,
           null,
           null,
           null,
           null,
           null,
           null,
           null,
           null,
           null,
           null,
           null,
           null,
           null,
           null,
           null,
           null
          ],
          [
           null,
           null,
           null,
           null,
           null,
           null,
           null,
           null,
           null,
           null,
           null,
           null,
           null,
           null,
           null,
           null,
           null,
           null,
           null,
           null,
           null,
           null,
           null,
           null,
           null,
           null,
           null,
           null,
           null,
           null,
           null,
           null,
           null,
           null,
           null,
           null,
           null,
           null,
           null,
           null,
           null,
           null,
           null,
           null,
           null,
           null,
           null,
           null,
           null,
           null,
           null,
           null,
           null,
           null,
           null,
           null,
           0.8716148445336008,
           null,
           null
          ],
          [
           null,
           null,
           null,
           null,
           null,
           null,
           null,
           null,
           null,
           null,
           null,
           null,
           null,
           null,
           null,
           null,
           null,
           null,
           null,
           null,
           null,
           null,
           null,
           null,
           null,
           null,
           null,
           null,
           null,
           null,
           null,
           null,
           null,
           null,
           null,
           null,
           null,
           null,
           null,
           null,
           null,
           null,
           null,
           null,
           null,
           null,
           null,
           null,
           null,
           null,
           null,
           null,
           0.9047141424272819,
           null,
           null,
           null,
           null,
           null,
           null
          ],
          [
           null,
           null,
           null,
           0.9287863590772317,
           null,
           null,
           null,
           null,
           null,
           null,
           null,
           null,
           null,
           null,
           null,
           null,
           null,
           null,
           null,
           null,
           null,
           null,
           null,
           null,
           null,
           null,
           null,
           null,
           null,
           null,
           null,
           null,
           null,
           null,
           null,
           null,
           null,
           null,
           null,
           null,
           null,
           null,
           null,
           null,
           null,
           null,
           null,
           null,
           null,
           null,
           null,
           null,
           null,
           null,
           null,
           null,
           null,
           null,
           null
          ],
          [
           null,
           null,
           null,
           null,
           null,
           null,
           null,
           null,
           null,
           null,
           null,
           null,
           null,
           null,
           null,
           null,
           null,
           null,
           null,
           null,
           null,
           null,
           null,
           null,
           null,
           null,
           null,
           null,
           null,
           null,
           null,
           null,
           null,
           null,
           null,
           null,
           null,
           null,
           null,
           null,
           null,
           null,
           null,
           null,
           null,
           null,
           0.8956870611835507,
           null,
           null,
           null,
           null,
           null,
           null,
           null,
           null,
           null,
           null,
           null,
           null
          ],
          [
           null,
           null,
           null,
           null,
           null,
           null,
           null,
           null,
           null,
           null,
           null,
           null,
           null,
           null,
           null,
           null,
           null,
           null,
           null,
           null,
           null,
           null,
           null,
           null,
           null,
           null,
           null,
           0.9307923771313942,
           null,
           null,
           null,
           null,
           null,
           null,
           null,
           null,
           null,
           null,
           null,
           null,
           null,
           null,
           null,
           null,
           null,
           null,
           null,
           null,
           null,
           null,
           null,
           null,
           null,
           null,
           null,
           null,
           null,
           null,
           null
          ],
          [
           null,
           null,
           null,
           null,
           null,
           null,
           null,
           null,
           null,
           null,
           null,
           null,
           null,
           null,
           null,
           null,
           null,
           null,
           null,
           null,
           null,
           null,
           null,
           null,
           null,
           null,
           null,
           null,
           null,
           null,
           null,
           null,
           null,
           null,
           null,
           null,
           0.892678034102307,
           null,
           null,
           null,
           null,
           null,
           null,
           null,
           null,
           null,
           null,
           null,
           null,
           null,
           null,
           null,
           null,
           null,
           null,
           null,
           null,
           null,
           null
          ],
          [
           null,
           null,
           null,
           null,
           null,
           0.917753259779338,
           null,
           null,
           null,
           null,
           null,
           null,
           null,
           null,
           null,
           null,
           null,
           null,
           null,
           null,
           null,
           null,
           null,
           null,
           null,
           null,
           null,
           null,
           null,
           null,
           null,
           null,
           null,
           null,
           null,
           null,
           null,
           null,
           null,
           null,
           null,
           null,
           null,
           null,
           null,
           null,
           null,
           null,
           null,
           null,
           null,
           null,
           null,
           null,
           null,
           null,
           null,
           null,
           null
          ],
          [
           null,
           null,
           null,
           null,
           0.9287863590772317,
           null,
           null,
           null,
           null,
           null,
           null,
           null,
           null,
           null,
           null,
           null,
           null,
           null,
           null,
           null,
           null,
           null,
           null,
           null,
           null,
           null,
           null,
           null,
           null,
           null,
           null,
           null,
           null,
           null,
           null,
           null,
           null,
           null,
           null,
           null,
           null,
           null,
           null,
           null,
           null,
           null,
           null,
           null,
           null,
           null,
           null,
           null,
           null,
           null,
           null,
           null,
           null,
           null,
           null
          ],
          [
           null,
           null,
           null,
           null,
           null,
           null,
           null,
           null,
           null,
           null,
           null,
           null,
           null,
           null,
           null,
           null,
           null,
           null,
           null,
           0.9368104312938816,
           null,
           null,
           null,
           null,
           null,
           null,
           null,
           null,
           null,
           null,
           null,
           null,
           null,
           null,
           null,
           null,
           null,
           null,
           null,
           null,
           null,
           null,
           null,
           null,
           null,
           null,
           null,
           null,
           null,
           null,
           null,
           null,
           null,
           null,
           null,
           null,
           null,
           null,
           null
          ],
          [
           null,
           null,
           null,
           null,
           null,
           null,
           null,
           null,
           null,
           null,
           null,
           null,
           null,
           null,
           null,
           null,
           null,
           null,
           null,
           null,
           null,
           null,
           null,
           null,
           null,
           null,
           null,
           null,
           null,
           null,
           null,
           null,
           null,
           null,
           null,
           null,
           null,
           null,
           null,
           null,
           null,
           null,
           null,
           null,
           null,
           null,
           null,
           null,
           null,
           null,
           null,
           null,
           null,
           0.8876629889669007,
           null,
           null,
           null,
           null,
           null
          ],
          [
           null,
           null,
           null,
           null,
           null,
           null,
           null,
           null,
           null,
           null,
           null,
           null,
           0.9207622868605817,
           null,
           null,
           null,
           null,
           null,
           null,
           null,
           null,
           null,
           null,
           null,
           null,
           null,
           null,
           null,
           null,
           null,
           null,
           null,
           null,
           null,
           null,
           null,
           null,
           null,
           null,
           null,
           null,
           null,
           null,
           null,
           null,
           null,
           null,
           null,
           null,
           null,
           null,
           null,
           null,
           null,
           null,
           null,
           null,
           null,
           null
          ],
          [
           null,
           null,
           null,
           null,
           null,
           null,
           null,
           null,
           null,
           null,
           null,
           null,
           null,
           null,
           null,
           null,
           null,
           null,
           null,
           null,
           null,
           null,
           null,
           null,
           null,
           null,
           null,
           null,
           null,
           null,
           null,
           null,
           null,
           null,
           null,
           null,
           null,
           null,
           null,
           null,
           null,
           0.917753259779338,
           null,
           null,
           null,
           null,
           null,
           null,
           null,
           null,
           null,
           null,
           null,
           null,
           null,
           null,
           null,
           null,
           null
          ],
          [
           null,
           null,
           null,
           null,
           null,
           null,
           null,
           null,
           null,
           null,
           null,
           null,
           null,
           null,
           null,
           null,
           null,
           null,
           null,
           null,
           null,
           null,
           null,
           null,
           null,
           null,
           null,
           null,
           null,
           null,
           null,
           null,
           null,
           null,
           null,
           null,
           null,
           null,
           null,
           null,
           null,
           null,
           null,
           null,
           null,
           null,
           null,
           null,
           0.905717151454363,
           null,
           null,
           null,
           null,
           null,
           null,
           null,
           null,
           null,
           null
          ],
          [
           null,
           null,
           null,
           null,
           null,
           null,
           null,
           null,
           null,
           null,
           null,
           null,
           null,
           null,
           null,
           null,
           null,
           null,
           null,
           null,
           null,
           null,
           null,
           null,
           null,
           null,
           null,
           null,
           null,
           null,
           null,
           null,
           null,
           null,
           null,
           null,
           null,
           null,
           null,
           null,
           null,
           null,
           null,
           null,
           null,
           null,
           null,
           null,
           null,
           null,
           null,
           null,
           null,
           null,
           null,
           null,
           null,
           null,
           null
          ]
         ]
        },
        {
         "marker": {
          "color": "black",
          "line": {
           "color": "Gray",
           "width": 2
          }
         },
         "mode": "markers",
         "name": "Feasible Trial",
         "showlegend": false,
         "type": "scatter",
         "x": [
          0.00008710956958575865,
          0.0008884901704341717,
          0.0007593165948858177,
          0.00001213968980076562,
          0.003383469064341586,
          0.0000253240195495629,
          0.00015253919406282198,
          0.00022580025418692106,
          0.00018680374735691781,
          0.00009151196041368825,
          0.00007371356980560535,
          0.00007150279843391331,
          0.00013203361547007368,
          0.0003366910187892329,
          0.00006955471138250411,
          0.00021540321357011225,
          0.00028257978535531635,
          0.0001801093852331116,
          0.00014472029112066751,
          0.0001330670472334793,
          0.0001444302872566509,
          0.00015786406831977016,
          0.00011201128824447833,
          0.00013955902469821164,
          0.00013714393136609964,
          0.00018994670877178662,
          0.0001874795814684679,
          0.00018551848480019288,
          0.00018442907445484887,
          0.00018248154172176555,
          0.0003576124899384091,
          0.00022454129288975542,
          0.00023659770221109327,
          0.00028171081527126387,
          0.00017784467979440957,
          0.00019706098293062636,
          0.00009206287889563547,
          0.00013681881512597906,
          0.00008598022539292328,
          0.00008347337981812994,
          0.00008902137447715534,
          0.00008563362351374905,
          0.00016601203764890997,
          0.00008393244392475406,
          0.0001655026968598142,
          0.00011274300302389007,
          0.00011050654846784925,
          0.00010825796735615959,
          0.0001860784239307491,
          0.00015197166813151535,
          0.00015915320311753046,
          0.0001608984694078916,
          0.0002054951709671868,
          0.00023802428452377619,
          0.00016990820730214398,
          0.00012561168557554317,
          0.00015297419950700215
         ],
         "y": [
          0.00381441505452984,
          0.004813004245101346,
          0.0032370304082646965,
          0.00047360966219817113,
          0.001742228650950661,
          0.001497339029897948,
          0.00649490107023957,
          0.0076940788358891374,
          0.007483296713192136,
          0.007439965801592887,
          0.006758441036192864,
          0.006881841772441482,
          0.007331254145910555,
          0.007379064578962659,
          0.006093860921140011,
          0.006264136670757186,
          0.00553689518340325,
          0.006502154668718485,
          0.004378597830663055,
          0.0017155870180799188,
          0.0016985040268857512,
          0.0016004524336544544,
          0.001225300046953334,
          0.0011343113514715552,
          0.0005594653072163393,
          0.0007053482923654836,
          0.0005575824551224897,
          0.0005570187348685695,
          0.0006906323409458677,
          0.000633213269238761,
          0.0006033788552613864,
          0.0002840575642752578,
          0.00038687933073700204,
          0.00036594309115410063,
          0.00005250420071848297,
          0.0007302962362202726,
          0.0006682221508600754,
          0.0009740819974826558,
          0.0014636649209304737,
          0.0008155309996945416,
          0.0005538995161199818,
          0.001399553515838771,
          0.001526585245590259,
          0.0007404978619691229,
          0.0004932007161997418,
          0.0005035155209317202,
          0.00041415005308929155,
          0.0010548508700471953,
          0.0005364196988379736,
          0.0003930051864701078,
          0.00040786155959596313,
          0.00041173749495640845,
          0.0001259107631198591,
          0.00048344003173959296,
          0.00027956787859799686,
          0.0002624792012494922,
          0.00036940907889928306
         ]
        },
        {
         "marker": {
          "color": "#cccccc",
          "line": {
           "color": "Gray",
           "width": 2
          }
         },
         "mode": "markers",
         "name": "Infeasible Trial",
         "showlegend": false,
         "type": "scatter",
         "x": [],
         "y": []
        }
       ],
       "layout": {
        "template": {
         "data": {
          "bar": [
           {
            "error_x": {
             "color": "#2a3f5f"
            },
            "error_y": {
             "color": "#2a3f5f"
            },
            "marker": {
             "line": {
              "color": "#E5ECF6",
              "width": 0.5
             },
             "pattern": {
              "fillmode": "overlay",
              "size": 10,
              "solidity": 0.2
             }
            },
            "type": "bar"
           }
          ],
          "barpolar": [
           {
            "marker": {
             "line": {
              "color": "#E5ECF6",
              "width": 0.5
             },
             "pattern": {
              "fillmode": "overlay",
              "size": 10,
              "solidity": 0.2
             }
            },
            "type": "barpolar"
           }
          ],
          "carpet": [
           {
            "aaxis": {
             "endlinecolor": "#2a3f5f",
             "gridcolor": "white",
             "linecolor": "white",
             "minorgridcolor": "white",
             "startlinecolor": "#2a3f5f"
            },
            "baxis": {
             "endlinecolor": "#2a3f5f",
             "gridcolor": "white",
             "linecolor": "white",
             "minorgridcolor": "white",
             "startlinecolor": "#2a3f5f"
            },
            "type": "carpet"
           }
          ],
          "choropleth": [
           {
            "colorbar": {
             "outlinewidth": 0,
             "ticks": ""
            },
            "type": "choropleth"
           }
          ],
          "contour": [
           {
            "colorbar": {
             "outlinewidth": 0,
             "ticks": ""
            },
            "colorscale": [
             [
              0,
              "#0d0887"
             ],
             [
              0.1111111111111111,
              "#46039f"
             ],
             [
              0.2222222222222222,
              "#7201a8"
             ],
             [
              0.3333333333333333,
              "#9c179e"
             ],
             [
              0.4444444444444444,
              "#bd3786"
             ],
             [
              0.5555555555555556,
              "#d8576b"
             ],
             [
              0.6666666666666666,
              "#ed7953"
             ],
             [
              0.7777777777777778,
              "#fb9f3a"
             ],
             [
              0.8888888888888888,
              "#fdca26"
             ],
             [
              1,
              "#f0f921"
             ]
            ],
            "type": "contour"
           }
          ],
          "contourcarpet": [
           {
            "colorbar": {
             "outlinewidth": 0,
             "ticks": ""
            },
            "type": "contourcarpet"
           }
          ],
          "heatmap": [
           {
            "colorbar": {
             "outlinewidth": 0,
             "ticks": ""
            },
            "colorscale": [
             [
              0,
              "#0d0887"
             ],
             [
              0.1111111111111111,
              "#46039f"
             ],
             [
              0.2222222222222222,
              "#7201a8"
             ],
             [
              0.3333333333333333,
              "#9c179e"
             ],
             [
              0.4444444444444444,
              "#bd3786"
             ],
             [
              0.5555555555555556,
              "#d8576b"
             ],
             [
              0.6666666666666666,
              "#ed7953"
             ],
             [
              0.7777777777777778,
              "#fb9f3a"
             ],
             [
              0.8888888888888888,
              "#fdca26"
             ],
             [
              1,
              "#f0f921"
             ]
            ],
            "type": "heatmap"
           }
          ],
          "heatmapgl": [
           {
            "colorbar": {
             "outlinewidth": 0,
             "ticks": ""
            },
            "colorscale": [
             [
              0,
              "#0d0887"
             ],
             [
              0.1111111111111111,
              "#46039f"
             ],
             [
              0.2222222222222222,
              "#7201a8"
             ],
             [
              0.3333333333333333,
              "#9c179e"
             ],
             [
              0.4444444444444444,
              "#bd3786"
             ],
             [
              0.5555555555555556,
              "#d8576b"
             ],
             [
              0.6666666666666666,
              "#ed7953"
             ],
             [
              0.7777777777777778,
              "#fb9f3a"
             ],
             [
              0.8888888888888888,
              "#fdca26"
             ],
             [
              1,
              "#f0f921"
             ]
            ],
            "type": "heatmapgl"
           }
          ],
          "histogram": [
           {
            "marker": {
             "pattern": {
              "fillmode": "overlay",
              "size": 10,
              "solidity": 0.2
             }
            },
            "type": "histogram"
           }
          ],
          "histogram2d": [
           {
            "colorbar": {
             "outlinewidth": 0,
             "ticks": ""
            },
            "colorscale": [
             [
              0,
              "#0d0887"
             ],
             [
              0.1111111111111111,
              "#46039f"
             ],
             [
              0.2222222222222222,
              "#7201a8"
             ],
             [
              0.3333333333333333,
              "#9c179e"
             ],
             [
              0.4444444444444444,
              "#bd3786"
             ],
             [
              0.5555555555555556,
              "#d8576b"
             ],
             [
              0.6666666666666666,
              "#ed7953"
             ],
             [
              0.7777777777777778,
              "#fb9f3a"
             ],
             [
              0.8888888888888888,
              "#fdca26"
             ],
             [
              1,
              "#f0f921"
             ]
            ],
            "type": "histogram2d"
           }
          ],
          "histogram2dcontour": [
           {
            "colorbar": {
             "outlinewidth": 0,
             "ticks": ""
            },
            "colorscale": [
             [
              0,
              "#0d0887"
             ],
             [
              0.1111111111111111,
              "#46039f"
             ],
             [
              0.2222222222222222,
              "#7201a8"
             ],
             [
              0.3333333333333333,
              "#9c179e"
             ],
             [
              0.4444444444444444,
              "#bd3786"
             ],
             [
              0.5555555555555556,
              "#d8576b"
             ],
             [
              0.6666666666666666,
              "#ed7953"
             ],
             [
              0.7777777777777778,
              "#fb9f3a"
             ],
             [
              0.8888888888888888,
              "#fdca26"
             ],
             [
              1,
              "#f0f921"
             ]
            ],
            "type": "histogram2dcontour"
           }
          ],
          "mesh3d": [
           {
            "colorbar": {
             "outlinewidth": 0,
             "ticks": ""
            },
            "type": "mesh3d"
           }
          ],
          "parcoords": [
           {
            "line": {
             "colorbar": {
              "outlinewidth": 0,
              "ticks": ""
             }
            },
            "type": "parcoords"
           }
          ],
          "pie": [
           {
            "automargin": true,
            "type": "pie"
           }
          ],
          "scatter": [
           {
            "fillpattern": {
             "fillmode": "overlay",
             "size": 10,
             "solidity": 0.2
            },
            "type": "scatter"
           }
          ],
          "scatter3d": [
           {
            "line": {
             "colorbar": {
              "outlinewidth": 0,
              "ticks": ""
             }
            },
            "marker": {
             "colorbar": {
              "outlinewidth": 0,
              "ticks": ""
             }
            },
            "type": "scatter3d"
           }
          ],
          "scattercarpet": [
           {
            "marker": {
             "colorbar": {
              "outlinewidth": 0,
              "ticks": ""
             }
            },
            "type": "scattercarpet"
           }
          ],
          "scattergeo": [
           {
            "marker": {
             "colorbar": {
              "outlinewidth": 0,
              "ticks": ""
             }
            },
            "type": "scattergeo"
           }
          ],
          "scattergl": [
           {
            "marker": {
             "colorbar": {
              "outlinewidth": 0,
              "ticks": ""
             }
            },
            "type": "scattergl"
           }
          ],
          "scattermapbox": [
           {
            "marker": {
             "colorbar": {
              "outlinewidth": 0,
              "ticks": ""
             }
            },
            "type": "scattermapbox"
           }
          ],
          "scatterpolar": [
           {
            "marker": {
             "colorbar": {
              "outlinewidth": 0,
              "ticks": ""
             }
            },
            "type": "scatterpolar"
           }
          ],
          "scatterpolargl": [
           {
            "marker": {
             "colorbar": {
              "outlinewidth": 0,
              "ticks": ""
             }
            },
            "type": "scatterpolargl"
           }
          ],
          "scatterternary": [
           {
            "marker": {
             "colorbar": {
              "outlinewidth": 0,
              "ticks": ""
             }
            },
            "type": "scatterternary"
           }
          ],
          "surface": [
           {
            "colorbar": {
             "outlinewidth": 0,
             "ticks": ""
            },
            "colorscale": [
             [
              0,
              "#0d0887"
             ],
             [
              0.1111111111111111,
              "#46039f"
             ],
             [
              0.2222222222222222,
              "#7201a8"
             ],
             [
              0.3333333333333333,
              "#9c179e"
             ],
             [
              0.4444444444444444,
              "#bd3786"
             ],
             [
              0.5555555555555556,
              "#d8576b"
             ],
             [
              0.6666666666666666,
              "#ed7953"
             ],
             [
              0.7777777777777778,
              "#fb9f3a"
             ],
             [
              0.8888888888888888,
              "#fdca26"
             ],
             [
              1,
              "#f0f921"
             ]
            ],
            "type": "surface"
           }
          ],
          "table": [
           {
            "cells": {
             "fill": {
              "color": "#EBF0F8"
             },
             "line": {
              "color": "white"
             }
            },
            "header": {
             "fill": {
              "color": "#C8D4E3"
             },
             "line": {
              "color": "white"
             }
            },
            "type": "table"
           }
          ]
         },
         "layout": {
          "annotationdefaults": {
           "arrowcolor": "#2a3f5f",
           "arrowhead": 0,
           "arrowwidth": 1
          },
          "autotypenumbers": "strict",
          "coloraxis": {
           "colorbar": {
            "outlinewidth": 0,
            "ticks": ""
           }
          },
          "colorscale": {
           "diverging": [
            [
             0,
             "#8e0152"
            ],
            [
             0.1,
             "#c51b7d"
            ],
            [
             0.2,
             "#de77ae"
            ],
            [
             0.3,
             "#f1b6da"
            ],
            [
             0.4,
             "#fde0ef"
            ],
            [
             0.5,
             "#f7f7f7"
            ],
            [
             0.6,
             "#e6f5d0"
            ],
            [
             0.7,
             "#b8e186"
            ],
            [
             0.8,
             "#7fbc41"
            ],
            [
             0.9,
             "#4d9221"
            ],
            [
             1,
             "#276419"
            ]
           ],
           "sequential": [
            [
             0,
             "#0d0887"
            ],
            [
             0.1111111111111111,
             "#46039f"
            ],
            [
             0.2222222222222222,
             "#7201a8"
            ],
            [
             0.3333333333333333,
             "#9c179e"
            ],
            [
             0.4444444444444444,
             "#bd3786"
            ],
            [
             0.5555555555555556,
             "#d8576b"
            ],
            [
             0.6666666666666666,
             "#ed7953"
            ],
            [
             0.7777777777777778,
             "#fb9f3a"
            ],
            [
             0.8888888888888888,
             "#fdca26"
            ],
            [
             1,
             "#f0f921"
            ]
           ],
           "sequentialminus": [
            [
             0,
             "#0d0887"
            ],
            [
             0.1111111111111111,
             "#46039f"
            ],
            [
             0.2222222222222222,
             "#7201a8"
            ],
            [
             0.3333333333333333,
             "#9c179e"
            ],
            [
             0.4444444444444444,
             "#bd3786"
            ],
            [
             0.5555555555555556,
             "#d8576b"
            ],
            [
             0.6666666666666666,
             "#ed7953"
            ],
            [
             0.7777777777777778,
             "#fb9f3a"
            ],
            [
             0.8888888888888888,
             "#fdca26"
            ],
            [
             1,
             "#f0f921"
            ]
           ]
          },
          "colorway": [
           "#636efa",
           "#EF553B",
           "#00cc96",
           "#ab63fa",
           "#FFA15A",
           "#19d3f3",
           "#FF6692",
           "#B6E880",
           "#FF97FF",
           "#FECB52"
          ],
          "font": {
           "color": "#2a3f5f"
          },
          "geo": {
           "bgcolor": "white",
           "lakecolor": "white",
           "landcolor": "#E5ECF6",
           "showlakes": true,
           "showland": true,
           "subunitcolor": "white"
          },
          "hoverlabel": {
           "align": "left"
          },
          "hovermode": "closest",
          "mapbox": {
           "style": "light"
          },
          "paper_bgcolor": "white",
          "plot_bgcolor": "#E5ECF6",
          "polar": {
           "angularaxis": {
            "gridcolor": "white",
            "linecolor": "white",
            "ticks": ""
           },
           "bgcolor": "#E5ECF6",
           "radialaxis": {
            "gridcolor": "white",
            "linecolor": "white",
            "ticks": ""
           }
          },
          "scene": {
           "xaxis": {
            "backgroundcolor": "#E5ECF6",
            "gridcolor": "white",
            "gridwidth": 2,
            "linecolor": "white",
            "showbackground": true,
            "ticks": "",
            "zerolinecolor": "white"
           },
           "yaxis": {
            "backgroundcolor": "#E5ECF6",
            "gridcolor": "white",
            "gridwidth": 2,
            "linecolor": "white",
            "showbackground": true,
            "ticks": "",
            "zerolinecolor": "white"
           },
           "zaxis": {
            "backgroundcolor": "#E5ECF6",
            "gridcolor": "white",
            "gridwidth": 2,
            "linecolor": "white",
            "showbackground": true,
            "ticks": "",
            "zerolinecolor": "white"
           }
          },
          "shapedefaults": {
           "line": {
            "color": "#2a3f5f"
           }
          },
          "ternary": {
           "aaxis": {
            "gridcolor": "white",
            "linecolor": "white",
            "ticks": ""
           },
           "baxis": {
            "gridcolor": "white",
            "linecolor": "white",
            "ticks": ""
           },
           "bgcolor": "#E5ECF6",
           "caxis": {
            "gridcolor": "white",
            "linecolor": "white",
            "ticks": ""
           }
          },
          "title": {
           "x": 0.05
          },
          "xaxis": {
           "automargin": true,
           "gridcolor": "white",
           "linecolor": "white",
           "ticks": "",
           "title": {
            "standoff": 15
           },
           "zerolinecolor": "white",
           "zerolinewidth": 2
          },
          "yaxis": {
           "automargin": true,
           "gridcolor": "white",
           "linecolor": "white",
           "ticks": "",
           "title": {
            "standoff": 15
           },
           "zerolinecolor": "white",
           "zerolinewidth": 2
          }
         }
        },
        "title": {
         "text": "Contour Plot"
        },
        "xaxis": {
         "range": [
          -5.038050141443362,
          -2.3483800589725177
         ],
         "title": {
          "text": "lr_slow"
         },
         "type": "log"
        },
        "yaxis": {
         "range": [
          -0.00032957453104004984,
          0.00807615756764767
         ],
         "title": {
          "text": "weight_decay_slow"
         }
        }
       }
      }
     },
     "metadata": {},
     "output_type": "display_data"
    }
   ],
   "source": [
    "optuna.visualization.plot_contour(study, params=[\"lr_slow\", \"weight_decay_slow\"])"
   ]
  },
  {
   "cell_type": "code",
   "execution_count": 12,
   "metadata": {},
   "outputs": [
    {
     "data": {
      "application/vnd.plotly.v1+json": {
       "config": {
        "plotlyServerURL": "https://plot.ly"
       },
       "data": [
        {
         "colorbar": {
          "title": {
           "text": "Objective Value"
          }
         },
         "colorscale": [
          [
           0,
           "rgb(247,251,255)"
          ],
          [
           0.125,
           "rgb(222,235,247)"
          ],
          [
           0.25,
           "rgb(198,219,239)"
          ],
          [
           0.375,
           "rgb(158,202,225)"
          ],
          [
           0.5,
           "rgb(107,174,214)"
          ],
          [
           0.625,
           "rgb(66,146,198)"
          ],
          [
           0.75,
           "rgb(33,113,181)"
          ],
          [
           0.875,
           "rgb(8,81,156)"
          ],
          [
           1,
           "rgb(8,48,107)"
          ]
         ],
         "connectgaps": true,
         "contours": {
          "coloring": "heatmap"
         },
         "hoverinfo": "none",
         "line": {
          "smoothing": 1.3
         },
         "reversescale": false,
         "type": "contour",
         "x": [
          0.00006818731998296504,
          0.00010458221148896693,
          0.00012725219298679466,
          0.00015136313622506788,
          0.00015227401681962202,
          0.00015510491382421146,
          0.00015513961838545582,
          0.00015949366398607264,
          0.0001972447057113473,
          0.00022959733430083292,
          0.000337715361177041,
          0.0006687484821540599,
          0.0008237829644741565,
          0.0009682065319620246,
          0.0011822001605089412,
          0.001240504655004294,
          0.0013189934575070093,
          0.0013206609133237868,
          0.001572139644075951,
          0.0015725052198331143,
          0.0016392349447077522,
          0.0018682122995686528,
          0.0018816541378399814,
          0.0018967089174987252,
          0.0019131191214287876,
          0.002076938921350812,
          0.0021744842566569452,
          0.0023215890570763213,
          0.0024718740735935702,
          0.0025809044436379924,
          0.0025891007834191507,
          0.0026319009010018542,
          0.003217701754776556,
          0.0033065893683139154,
          0.003449882097480872,
          0.003566239797151446,
          0.005117402953991288,
          0.005162457498236318,
          0.006310088536267612,
          0.006722483761444383,
          0.00870140992382103,
          0.008744245242652646,
          0.008917087588276475,
          0.009401391490708701,
          0.009427355395105285,
          0.010429512689711757,
          0.013715735630791915,
          0.014057881759726323,
          0.01429971928812102,
          0.015557374027672344,
          0.01627422956879721,
          0.017822855419055206,
          0.027480948119442433,
          0.043773957520152985,
          0.05891840621827026,
          0.07773085419037588,
          0.31590520301744557,
          0.5426775012659383,
          0.8323308970330141
         ],
         "y": [
          -0.000332544581909553,
          0.00003429106176887196,
          0.00007395433016540838,
          0.0000770013913333817,
          0.00028285700548103985,
          0.0008623496111178086,
          0.0009415974025752754,
          0.000996139553757456,
          0.0011135747632361373,
          0.001186101216559254,
          0.001281958536238,
          0.0013935066500821562,
          0.0014413640203793797,
          0.0014531782976816541,
          0.001469115402660357,
          0.0014778666256050758,
          0.001506811172020978,
          0.0015654556048191575,
          0.001592862100173497,
          0.0016482899135747894,
          0.0016526179987556926,
          0.0016840912913991004,
          0.0017495763414024101,
          0.001827833478313847,
          0.0018321522888294461,
          0.0018447116895615138,
          0.0018708833981317275,
          0.0019183520956191442,
          0.001922001860996799,
          0.001972553462029245,
          0.0020030574394337233,
          0.0020280799241795856,
          0.0020432398682155876,
          0.0020762935573331244,
          0.0020766126331887604,
          0.0020879177792719698,
          0.0021196195460604027,
          0.0021198384793279837,
          0.002135055577336028,
          0.002137004664477517,
          0.002162830731378416,
          0.0022158999973886963,
          0.002228949140655319,
          0.0022481502479022664,
          0.0022923439319180857,
          0.0022945948508403843,
          0.0023205599118373272,
          0.002351245852492691,
          0.0024107554914811163,
          0.002416782923201809,
          0.0024935955608917535,
          0.002505436098447166,
          0.002533576586905862,
          0.002760967148238513,
          0.002929003673735735,
          0.003203628138699816,
          0.005794049655765155,
          0.00737100393533737,
          0.007737839579015795
         ],
         "z": [
          [
           null,
           null,
           null,
           null,
           null,
           null,
           null,
           null,
           null,
           null,
           null,
           null,
           null,
           null,
           null,
           null,
           null,
           null,
           null,
           null,
           null,
           null,
           null,
           null,
           null,
           null,
           null,
           null,
           null,
           null,
           null,
           null,
           null,
           null,
           null,
           null,
           null,
           null,
           null,
           null,
           null,
           null,
           null,
           null,
           null,
           null,
           null,
           null,
           null,
           null,
           null,
           null,
           null,
           null,
           null,
           null,
           null,
           null,
           null
          ],
          [
           null,
           null,
           null,
           null,
           null,
           null,
           null,
           null,
           null,
           null,
           null,
           null,
           null,
           null,
           null,
           null,
           null,
           null,
           null,
           null,
           null,
           null,
           null,
           null,
           null,
           null,
           null,
           null,
           null,
           null,
           null,
           null,
           null,
           null,
           null,
           null,
           null,
           null,
           null,
           null,
           null,
           null,
           null,
           null,
           null,
           null,
           null,
           0.9498495486459378,
           null,
           null,
           null,
           null,
           null,
           null,
           null,
           null,
           null,
           null,
           null
          ],
          [
           null,
           null,
           null,
           null,
           null,
           null,
           null,
           null,
           null,
           null,
           null,
           null,
           null,
           null,
           null,
           null,
           null,
           null,
           null,
           null,
           null,
           null,
           null,
           null,
           null,
           null,
           null,
           null,
           null,
           null,
           null,
           null,
           null,
           null,
           null,
           null,
           null,
           null,
           null,
           null,
           null,
           null,
           null,
           null,
           null,
           null,
           null,
           null,
           null,
           null,
           null,
           null,
           null,
           null,
           null,
           0.9307923771313942,
           null,
           null,
           null
          ],
          [
           null,
           null,
           null,
           null,
           null,
           null,
           null,
           null,
           null,
           null,
           null,
           null,
           null,
           null,
           null,
           null,
           null,
           null,
           null,
           null,
           null,
           null,
           null,
           null,
           null,
           null,
           null,
           null,
           null,
           null,
           null,
           null,
           null,
           null,
           null,
           null,
           null,
           null,
           null,
           null,
           null,
           null,
           null,
           null,
           null,
           null,
           null,
           null,
           null,
           null,
           null,
           null,
           null,
           null,
           0.905717151454363,
           null,
           null,
           null,
           null
          ],
          [
           null,
           null,
           null,
           null,
           null,
           null,
           null,
           null,
           null,
           null,
           null,
           null,
           null,
           null,
           null,
           null,
           null,
           null,
           null,
           null,
           null,
           null,
           null,
           null,
           null,
           null,
           null,
           null,
           null,
           null,
           null,
           null,
           null,
           null,
           null,
           null,
           null,
           null,
           null,
           null,
           null,
           null,
           null,
           null,
           null,
           null,
           null,
           null,
           null,
           null,
           null,
           null,
           null,
           0.917753259779338,
           null,
           null,
           null,
           null,
           null
          ],
          [
           null,
           null,
           null,
           null,
           null,
           null,
           null,
           null,
           null,
           null,
           null,
           null,
           null,
           null,
           null,
           null,
           null,
           null,
           null,
           null,
           null,
           null,
           null,
           null,
           null,
           null,
           null,
           null,
           null,
           null,
           null,
           null,
           null,
           null,
           null,
           null,
           null,
           null,
           null,
           null,
           null,
           0.9378134403209629,
           null,
           null,
           null,
           null,
           null,
           null,
           null,
           null,
           null,
           null,
           null,
           null,
           null,
           null,
           null,
           null,
           null
          ],
          [
           null,
           null,
           null,
           null,
           null,
           null,
           null,
           null,
           null,
           null,
           null,
           null,
           null,
           null,
           null,
           null,
           null,
           null,
           null,
           null,
           null,
           null,
           null,
           null,
           null,
           null,
           null,
           null,
           null,
           null,
           null,
           null,
           null,
           null,
           null,
           null,
           null,
           null,
           null,
           null,
           null,
           null,
           0.9368104312938816,
           null,
           null,
           null,
           null,
           null,
           null,
           null,
           null,
           null,
           null,
           null,
           null,
           null,
           null,
           null,
           null
          ],
          [
           null,
           null,
           null,
           null,
           null,
           null,
           null,
           null,
           null,
           null,
           null,
           null,
           null,
           null,
           null,
           null,
           null,
           null,
           null,
           null,
           null,
           null,
           null,
           null,
           null,
           null,
           null,
           null,
           null,
           null,
           null,
           null,
           null,
           null,
           null,
           null,
           null,
           null,
           null,
           null,
           0.8876629889669007,
           null,
           null,
           null,
           null,
           null,
           null,
           null,
           null,
           null,
           null,
           null,
           null,
           null,
           null,
           null,
           null,
           null,
           null
          ],
          [
           null,
           null,
           null,
           null,
           null,
           null,
           null,
           null,
           null,
           null,
           null,
           null,
           null,
           null,
           null,
           null,
           null,
           null,
           null,
           null,
           null,
           null,
           null,
           null,
           null,
           null,
           null,
           null,
           null,
           null,
           null,
           null,
           null,
           null,
           null,
           null,
           null,
           null,
           null,
           null,
           null,
           null,
           null,
           null,
           null,
           null,
           0.9518555667001003,
           null,
           null,
           null,
           null,
           null,
           null,
           null,
           null,
           null,
           null,
           null,
           null
          ],
          [
           null,
           null,
           null,
           null,
           null,
           null,
           null,
           null,
           null,
           null,
           null,
           null,
           null,
           null,
           null,
           null,
           null,
           null,
           null,
           null,
           null,
           null,
           null,
           null,
           null,
           null,
           null,
           null,
           null,
           null,
           null,
           null,
           null,
           null,
           null,
           null,
           null,
           null,
           null,
           null,
           null,
           null,
           null,
           null,
           null,
           null,
           null,
           null,
           0.9348044132397192,
           null,
           null,
           null,
           null,
           null,
           null,
           null,
           null,
           null,
           null
          ],
          [
           null,
           null,
           null,
           null,
           null,
           null,
           null,
           null,
           null,
           null,
           null,
           null,
           null,
           null,
           null,
           null,
           null,
           null,
           null,
           null,
           null,
           null,
           null,
           null,
           null,
           null,
           null,
           null,
           null,
           null,
           null,
           null,
           null,
           null,
           null,
           null,
           null,
           null,
           null,
           null,
           null,
           null,
           null,
           null,
           null,
           null,
           null,
           null,
           null,
           null,
           null,
           null,
           0.9207622868605817,
           null,
           null,
           null,
           null,
           null,
           null
          ],
          [
           null,
           null,
           null,
           null,
           null,
           null,
           null,
           null,
           null,
           null,
           null,
           null,
           null,
           null,
           null,
           null,
           null,
           null,
           null,
           null,
           null,
           null,
           null,
           null,
           null,
           null,
           null,
           0.892678034102307,
           null,
           null,
           null,
           null,
           null,
           null,
           null,
           null,
           null,
           null,
           null,
           null,
           null,
           null,
           null,
           null,
           null,
           null,
           null,
           null,
           null,
           null,
           null,
           null,
           null,
           null,
           null,
           null,
           null,
           null,
           null
          ],
          [
           null,
           null,
           null,
           null,
           null,
           null,
           null,
           null,
           null,
           null,
           null,
           null,
           null,
           null,
           null,
           null,
           null,
           null,
           null,
           null,
           null,
           null,
           null,
           null,
           null,
           null,
           null,
           null,
           null,
           null,
           null,
           null,
           null,
           null,
           null,
           null,
           null,
           null,
           null,
           null,
           null,
           null,
           null,
           null,
           null,
           null,
           null,
           null,
           null,
           null,
           null,
           0.917753259779338,
           null,
           null,
           null,
           null,
           null,
           null,
           null
          ],
          [
           null,
           null,
           null,
           null,
           null,
           null,
           null,
           null,
           null,
           null,
           null,
           null,
           null,
           null,
           null,
           null,
           null,
           null,
           null,
           null,
           null,
           null,
           null,
           null,
           null,
           null,
           null,
           null,
           null,
           null,
           null,
           null,
           null,
           null,
           null,
           null,
           null,
           null,
           null,
           null,
           null,
           null,
           null,
           null,
           null,
           null,
           null,
           null,
           null,
           0.9287863590772317,
           null,
           null,
           null,
           null,
           null,
           null,
           null,
           null,
           null
          ],
          [
           null,
           null,
           null,
           null,
           null,
           null,
           null,
           null,
           null,
           null,
           null,
           null,
           null,
           null,
           null,
           null,
           null,
           null,
           null,
           null,
           null,
           null,
           null,
           null,
           null,
           null,
           null,
           null,
           null,
           null,
           null,
           null,
           null,
           null,
           null,
           null,
           null,
           null,
           null,
           null,
           null,
           null,
           null,
           null,
           null,
           null,
           null,
           null,
           null,
           null,
           0.9287863590772317,
           null,
           null,
           null,
           null,
           null,
           null,
           null,
           null
          ],
          [
           null,
           null,
           null,
           null,
           null,
           null,
           null,
           null,
           null,
           null,
           null,
           null,
           null,
           null,
           null,
           null,
           null,
           null,
           null,
           null,
           null,
           null,
           null,
           null,
           null,
           0.9578736208625878,
           null,
           null,
           null,
           null,
           null,
           null,
           null,
           null,
           null,
           null,
           null,
           null,
           null,
           null,
           null,
           null,
           null,
           null,
           null,
           null,
           null,
           null,
           null,
           null,
           null,
           null,
           null,
           null,
           null,
           null,
           null,
           null,
           null
          ],
          [
           null,
           null,
           null,
           null,
           null,
           null,
           null,
           null,
           null,
           null,
           null,
           null,
           null,
           null,
           null,
           null,
           null,
           null,
           null,
           null,
           null,
           null,
           null,
           null,
           null,
           null,
           null,
           null,
           null,
           null,
           null,
           null,
           null,
           null,
           null,
           null,
           null,
           null,
           null,
           null,
           null,
           null,
           null,
           0.8956870611835507,
           null,
           null,
           null,
           null,
           null,
           null,
           null,
           null,
           null,
           null,
           null,
           null,
           null,
           null,
           null
          ],
          [
           null,
           null,
           null,
           null,
           null,
           null,
           null,
           null,
           null,
           null,
           null,
           null,
           null,
           null,
           null,
           null,
           null,
           null,
           null,
           null,
           null,
           null,
           null,
           null,
           null,
           null,
           null,
           null,
           null,
           null,
           null,
           null,
           null,
           null,
           null,
           null,
           null,
           null,
           null,
           null,
           null,
           null,
           null,
           null,
           null,
           null,
           null,
           null,
           null,
           null,
           null,
           null,
           null,
           null,
           null,
           null,
           null,
           0.8716148445336008,
           null
          ],
          [
           null,
           null,
           0.9608826479438315,
           null,
           null,
           null,
           null,
           null,
           null,
           null,
           null,
           null,
           null,
           null,
           null,
           null,
           null,
           null,
           null,
           null,
           null,
           null,
           null,
           null,
           null,
           null,
           null,
           null,
           null,
           null,
           null,
           null,
           null,
           null,
           null,
           null,
           null,
           null,
           null,
           null,
           null,
           null,
           null,
           null,
           null,
           null,
           null,
           null,
           null,
           null,
           null,
           null,
           null,
           null,
           null,
           null,
           null,
           null,
           null
          ],
          [
           null,
           null,
           null,
           null,
           null,
           null,
           null,
           null,
           null,
           null,
           null,
           null,
           null,
           null,
           null,
           null,
           null,
           null,
           null,
           null,
           null,
           null,
           null,
           null,
           null,
           null,
           null,
           null,
           null,
           null,
           null,
           null,
           null,
           null,
           null,
           null,
           null,
           null,
           null,
           null,
           null,
           null,
           null,
           null,
           null,
           0.966900702106319,
           null,
           null,
           null,
           null,
           null,
           null,
           null,
           null,
           null,
           null,
           null,
           null,
           null
          ],
          [
           null,
           null,
           null,
           null,
           null,
           null,
           null,
           null,
           null,
           null,
           null,
           null,
           null,
           null,
           null,
           null,
           null,
           null,
           null,
           null,
           null,
           null,
           null,
           null,
           null,
           null,
           null,
           null,
           null,
           0.9528585757271816,
           null,
           null,
           null,
           null,
           null,
           null,
           null,
           null,
           null,
           null,
           null,
           null,
           null,
           null,
           null,
           null,
           null,
           null,
           null,
           null,
           null,
           null,
           null,
           null,
           null,
           null,
           null,
           null,
           null
          ],
          [
           null,
           null,
           null,
           null,
           null,
           null,
           null,
           null,
           null,
           null,
           null,
           null,
           null,
           null,
           null,
           null,
           null,
           null,
           null,
           null,
           null,
           null,
           null,
           null,
           null,
           null,
           0.9658976930792377,
           null,
           null,
           null,
           null,
           null,
           null,
           null,
           null,
           null,
           null,
           null,
           null,
           null,
           null,
           null,
           null,
           null,
           null,
           null,
           null,
           null,
           null,
           null,
           null,
           null,
           null,
           null,
           null,
           null,
           null,
           null,
           null
          ],
          [
           null,
           null,
           null,
           null,
           null,
           null,
           null,
           null,
           null,
           null,
           null,
           null,
           null,
           null,
           null,
           null,
           null,
           null,
           null,
           null,
           null,
           null,
           null,
           null,
           null,
           null,
           null,
           null,
           null,
           null,
           0.9689067201604814,
           null,
           null,
           null,
           null,
           null,
           null,
           null,
           null,
           null,
           null,
           null,
           null,
           null,
           null,
           null,
           null,
           null,
           null,
           null,
           null,
           null,
           null,
           null,
           null,
           null,
           null,
           null,
           null
          ],
          [
           null,
           null,
           null,
           null,
           null,
           null,
           null,
           null,
           null,
           null,
           null,
           null,
           null,
           null,
           null,
           null,
           null,
           null,
           null,
           null,
           null,
           null,
           null,
           null,
           null,
           null,
           null,
           null,
           null,
           null,
           null,
           null,
           null,
           null,
           null,
           null,
           null,
           null,
           null,
           null,
           null,
           null,
           null,
           null,
           0.970912738214644,
           null,
           null,
           null,
           null,
           null,
           null,
           null,
           null,
           null,
           null,
           null,
           null,
           null,
           null
          ],
          [
           null,
           null,
           null,
           0.9598796389167502,
           null,
           null,
           null,
           null,
           null,
           null,
           null,
           null,
           null,
           null,
           null,
           null,
           null,
           null,
           null,
           null,
           null,
           null,
           null,
           null,
           null,
           null,
           null,
           null,
           null,
           null,
           null,
           null,
           null,
           null,
           null,
           null,
           null,
           null,
           null,
           null,
           null,
           null,
           null,
           null,
           null,
           null,
           null,
           null,
           null,
           null,
           null,
           null,
           null,
           null,
           null,
           null,
           null,
           null,
           null
          ],
          [
           null,
           null,
           null,
           null,
           null,
           null,
           null,
           null,
           null,
           null,
           null,
           null,
           null,
           null,
           null,
           null,
           null,
           null,
           null,
           null,
           null,
           null,
           null,
           null,
           null,
           null,
           null,
           null,
           null,
           null,
           null,
           null,
           null,
           null,
           null,
           null,
           null,
           null,
           null,
           0.9679037111334002,
           null,
           null,
           null,
           null,
           null,
           null,
           null,
           null,
           null,
           null,
           null,
           null,
           null,
           null,
           null,
           null,
           null,
           null,
           null
          ],
          [
           null,
           0.9658976930792377,
           null,
           null,
           null,
           null,
           null,
           null,
           null,
           null,
           null,
           null,
           null,
           null,
           null,
           null,
           null,
           null,
           null,
           null,
           null,
           null,
           null,
           null,
           null,
           null,
           null,
           null,
           null,
           null,
           null,
           null,
           null,
           null,
           null,
           null,
           null,
           null,
           null,
           null,
           null,
           null,
           null,
           null,
           null,
           null,
           null,
           null,
           null,
           null,
           null,
           null,
           null,
           null,
           null,
           null,
           null,
           null,
           null
          ],
          [
           null,
           null,
           null,
           null,
           null,
           null,
           null,
           null,
           null,
           null,
           null,
           null,
           null,
           null,
           null,
           null,
           null,
           null,
           null,
           0.9428284854563691,
           null,
           null,
           null,
           null,
           null,
           null,
           null,
           null,
           null,
           null,
           null,
           null,
           null,
           null,
           null,
           null,
           null,
           null,
           null,
           null,
           null,
           null,
           null,
           null,
           null,
           null,
           null,
           null,
           null,
           null,
           null,
           null,
           null,
           null,
           null,
           null,
           null,
           null,
           null
          ],
          [
           null,
           null,
           null,
           null,
           null,
           null,
           null,
           null,
           null,
           0.9628886659979939,
           null,
           null,
           null,
           null,
           null,
           null,
           null,
           null,
           null,
           null,
           null,
           null,
           null,
           null,
           null,
           null,
           null,
           null,
           null,
           null,
           null,
           null,
           null,
           null,
           null,
           null,
           null,
           null,
           null,
           null,
           null,
           null,
           null,
           null,
           null,
           null,
           null,
           null,
           null,
           null,
           null,
           null,
           null,
           null,
           null,
           null,
           null,
           null,
           null
          ],
          [
           null,
           null,
           null,
           null,
           null,
           null,
           null,
           null,
           null,
           null,
           null,
           null,
           null,
           null,
           null,
           null,
           null,
           null,
           null,
           null,
           null,
           0.9458375125376128,
           null,
           null,
           null,
           null,
           null,
           null,
           null,
           null,
           null,
           null,
           null,
           null,
           null,
           null,
           null,
           null,
           null,
           null,
           null,
           null,
           null,
           null,
           null,
           null,
           null,
           null,
           null,
           null,
           null,
           null,
           null,
           null,
           null,
           null,
           null,
           null,
           null
          ],
          [
           null,
           null,
           null,
           null,
           null,
           null,
           null,
           null,
           null,
           null,
           null,
           null,
           null,
           null,
           null,
           null,
           null,
           null,
           null,
           null,
           null,
           null,
           null,
           null,
           null,
           null,
           null,
           null,
           null,
           null,
           null,
           null,
           null,
           0.9568706118355065,
           null,
           null,
           null,
           null,
           null,
           null,
           null,
           null,
           null,
           null,
           null,
           null,
           null,
           null,
           null,
           null,
           null,
           null,
           null,
           null,
           null,
           null,
           null,
           null,
           null
          ],
          [
           null,
           null,
           null,
           null,
           null,
           null,
           null,
           0.9648946840521565,
           null,
           null,
           null,
           null,
           null,
           null,
           null,
           null,
           null,
           null,
           null,
           null,
           null,
           null,
           null,
           null,
           null,
           null,
           null,
           null,
           null,
           null,
           null,
           null,
           null,
           null,
           null,
           null,
           null,
           null,
           null,
           null,
           null,
           null,
           null,
           null,
           null,
           null,
           null,
           null,
           null,
           null,
           null,
           null,
           null,
           null,
           null,
           null,
           null,
           null,
           null
          ],
          [
           null,
           null,
           null,
           null,
           0.9518555667001003,
           null,
           null,
           null,
           null,
           null,
           null,
           null,
           null,
           null,
           null,
           null,
           null,
           null,
           null,
           null,
           null,
           null,
           null,
           null,
           null,
           null,
           null,
           null,
           null,
           null,
           null,
           null,
           null,
           null,
           null,
           null,
           null,
           null,
           null,
           null,
           null,
           null,
           null,
           null,
           null,
           null,
           null,
           null,
           null,
           null,
           null,
           null,
           null,
           null,
           null,
           null,
           null,
           null,
           null
          ],
          [
           null,
           null,
           null,
           null,
           null,
           null,
           null,
           null,
           0.9578736208625878,
           null,
           null,
           null,
           null,
           null,
           null,
           null,
           null,
           null,
           null,
           null,
           null,
           null,
           null,
           null,
           null,
           null,
           null,
           null,
           null,
           null,
           null,
           null,
           null,
           null,
           null,
           null,
           null,
           null,
           null,
           null,
           null,
           null,
           null,
           null,
           null,
           null,
           null,
           null,
           null,
           null,
           null,
           null,
           null,
           null,
           null,
           null,
           null,
           null,
           null
          ],
          [
           null,
           null,
           null,
           null,
           null,
           null,
           0.9638916750250752,
           null,
           null,
           null,
           null,
           null,
           null,
           null,
           null,
           null,
           null,
           null,
           null,
           null,
           null,
           null,
           null,
           null,
           null,
           null,
           null,
           null,
           null,
           null,
           null,
           null,
           null,
           null,
           null,
           null,
           null,
           null,
           null,
           null,
           null,
           null,
           null,
           null,
           null,
           null,
           null,
           null,
           null,
           null,
           null,
           null,
           null,
           null,
           null,
           null,
           null,
           null,
           null
          ],
          [
           null,
           null,
           null,
           null,
           null,
           null,
           null,
           null,
           null,
           null,
           null,
           null,
           0.9568706118355065,
           null,
           null,
           null,
           null,
           null,
           null,
           null,
           null,
           null,
           null,
           null,
           null,
           null,
           null,
           null,
           null,
           null,
           null,
           null,
           null,
           null,
           null,
           null,
           null,
           null,
           null,
           null,
           null,
           null,
           null,
           null,
           null,
           null,
           null,
           null,
           null,
           null,
           null,
           null,
           null,
           null,
           null,
           null,
           null,
           null,
           null
          ],
          [
           null,
           null,
           null,
           null,
           null,
           null,
           null,
           null,
           null,
           null,
           null,
           null,
           null,
           null,
           null,
           null,
           null,
           null,
           null,
           null,
           null,
           null,
           null,
           null,
           null,
           null,
           null,
           null,
           null,
           null,
           null,
           null,
           0.9428284854563691,
           null,
           null,
           null,
           null,
           null,
           null,
           null,
           null,
           null,
           null,
           null,
           null,
           null,
           null,
           null,
           null,
           null,
           null,
           null,
           null,
           null,
           null,
           null,
           null,
           null,
           null
          ],
          [
           null,
           null,
           null,
           null,
           null,
           null,
           null,
           null,
           null,
           null,
           0.958876629889669,
           null,
           null,
           null,
           null,
           null,
           null,
           null,
           null,
           null,
           null,
           null,
           null,
           null,
           null,
           null,
           null,
           null,
           null,
           null,
           null,
           null,
           null,
           null,
           null,
           null,
           null,
           null,
           null,
           null,
           null,
           null,
           null,
           null,
           null,
           null,
           null,
           null,
           null,
           null,
           null,
           null,
           null,
           null,
           null,
           null,
           null,
           null,
           null
          ],
          [
           null,
           null,
           null,
           null,
           null,
           null,
           null,
           null,
           null,
           null,
           null,
           null,
           null,
           null,
           null,
           null,
           null,
           null,
           0.954864593781344,
           null,
           null,
           null,
           null,
           null,
           null,
           null,
           null,
           null,
           null,
           null,
           null,
           null,
           null,
           null,
           null,
           null,
           null,
           null,
           null,
           null,
           null,
           null,
           null,
           null,
           null,
           null,
           null,
           null,
           null,
           null,
           null,
           null,
           null,
           null,
           null,
           null,
           null,
           null,
           null
          ],
          [
           null,
           null,
           null,
           null,
           null,
           null,
           null,
           null,
           null,
           null,
           null,
           null,
           null,
           null,
           null,
           null,
           null,
           null,
           null,
           null,
           null,
           null,
           null,
           null,
           null,
           null,
           null,
           null,
           null,
           null,
           null,
           null,
           null,
           null,
           null,
           0.9528585757271816,
           null,
           null,
           null,
           null,
           null,
           null,
           null,
           null,
           null,
           null,
           null,
           null,
           null,
           null,
           null,
           null,
           null,
           null,
           null,
           null,
           null,
           null,
           null
          ],
          [
           null,
           null,
           null,
           null,
           null,
           0.9418254764292878,
           null,
           null,
           null,
           null,
           null,
           null,
           null,
           null,
           null,
           null,
           null,
           null,
           null,
           null,
           null,
           null,
           null,
           null,
           null,
           null,
           null,
           null,
           null,
           null,
           null,
           null,
           null,
           null,
           null,
           null,
           null,
           null,
           null,
           null,
           null,
           null,
           null,
           null,
           null,
           null,
           null,
           null,
           null,
           null,
           null,
           null,
           null,
           null,
           null,
           null,
           null,
           null,
           null
          ],
          [
           null,
           null,
           null,
           null,
           null,
           null,
           null,
           null,
           null,
           null,
           null,
           null,
           null,
           null,
           null,
           null,
           null,
           null,
           null,
           null,
           null,
           null,
           null,
           null,
           null,
           null,
           null,
           null,
           0.9618856569709128,
           null,
           null,
           null,
           null,
           null,
           null,
           null,
           null,
           null,
           null,
           null,
           null,
           null,
           null,
           null,
           null,
           null,
           null,
           null,
           null,
           null,
           null,
           null,
           null,
           null,
           null,
           null,
           null,
           null,
           null
          ],
          [
           null,
           null,
           null,
           null,
           null,
           null,
           null,
           null,
           null,
           null,
           null,
           0.9277833500501504,
           null,
           null,
           null,
           null,
           null,
           null,
           null,
           null,
           null,
           null,
           null,
           null,
           null,
           null,
           null,
           null,
           null,
           null,
           null,
           null,
           null,
           null,
           null,
           null,
           null,
           null,
           null,
           null,
           null,
           null,
           null,
           null,
           null,
           null,
           null,
           null,
           null,
           null,
           null,
           null,
           null,
           null,
           null,
           null,
           null,
           null,
           null
          ],
          [
           null,
           null,
           null,
           null,
           null,
           null,
           null,
           null,
           null,
           null,
           null,
           null,
           null,
           null,
           null,
           null,
           null,
           0.9528585757271816,
           null,
           null,
           null,
           null,
           null,
           null,
           null,
           null,
           null,
           null,
           null,
           null,
           null,
           null,
           null,
           null,
           null,
           null,
           null,
           null,
           null,
           null,
           null,
           null,
           null,
           null,
           null,
           null,
           null,
           null,
           null,
           null,
           null,
           null,
           null,
           null,
           null,
           null,
           null,
           null,
           null
          ],
          [
           null,
           null,
           null,
           null,
           null,
           null,
           null,
           null,
           null,
           null,
           null,
           null,
           null,
           null,
           null,
           0.9578736208625878,
           null,
           null,
           null,
           null,
           null,
           null,
           null,
           null,
           null,
           null,
           null,
           null,
           null,
           null,
           null,
           null,
           null,
           null,
           null,
           null,
           null,
           null,
           null,
           null,
           null,
           null,
           null,
           null,
           null,
           null,
           null,
           null,
           null,
           null,
           null,
           null,
           null,
           null,
           null,
           null,
           null,
           null,
           null
          ],
          [
           null,
           null,
           null,
           null,
           null,
           null,
           null,
           null,
           null,
           null,
           null,
           null,
           null,
           null,
           null,
           null,
           0.9498495486459378,
           null,
           null,
           null,
           null,
           null,
           null,
           null,
           null,
           null,
           null,
           null,
           null,
           null,
           null,
           null,
           null,
           null,
           null,
           null,
           null,
           null,
           null,
           null,
           null,
           null,
           null,
           null,
           null,
           null,
           null,
           null,
           null,
           null,
           null,
           null,
           null,
           null,
           null,
           null,
           null,
           null,
           null
          ],
          [
           null,
           null,
           null,
           null,
           null,
           null,
           null,
           null,
           null,
           null,
           null,
           null,
           null,
           null,
           null,
           null,
           null,
           null,
           null,
           null,
           null,
           null,
           null,
           null,
           null,
           null,
           null,
           null,
           null,
           null,
           null,
           null,
           null,
           null,
           0.9608826479438315,
           null,
           null,
           null,
           null,
           null,
           null,
           null,
           null,
           null,
           null,
           null,
           null,
           null,
           null,
           null,
           null,
           null,
           null,
           null,
           null,
           null,
           null,
           null,
           null
          ],
          [
           null,
           null,
           null,
           null,
           null,
           null,
           null,
           null,
           null,
           null,
           null,
           null,
           null,
           null,
           null,
           null,
           null,
           null,
           null,
           null,
           0.9608826479438315,
           null,
           null,
           null,
           null,
           null,
           null,
           null,
           null,
           null,
           null,
           null,
           null,
           null,
           null,
           null,
           null,
           null,
           null,
           null,
           null,
           null,
           null,
           null,
           null,
           null,
           null,
           null,
           null,
           null,
           null,
           null,
           null,
           null,
           null,
           null,
           null,
           null,
           null
          ],
          [
           null,
           null,
           null,
           null,
           null,
           null,
           null,
           null,
           null,
           null,
           null,
           null,
           null,
           null,
           null,
           null,
           null,
           null,
           null,
           null,
           null,
           null,
           null,
           null,
           null,
           null,
           null,
           null,
           null,
           null,
           null,
           0.6208625877632898,
           null,
           null,
           null,
           null,
           null,
           null,
           null,
           null,
           null,
           null,
           null,
           null,
           null,
           null,
           null,
           null,
           null,
           null,
           null,
           null,
           null,
           null,
           null,
           null,
           null,
           null,
           null
          ],
          [
           null,
           null,
           null,
           null,
           null,
           null,
           null,
           null,
           null,
           null,
           null,
           null,
           null,
           null,
           null,
           null,
           null,
           null,
           null,
           null,
           null,
           null,
           null,
           null,
           0.9448345035105316,
           null,
           null,
           null,
           null,
           null,
           null,
           null,
           null,
           null,
           null,
           null,
           null,
           null,
           null,
           null,
           null,
           null,
           null,
           null,
           null,
           null,
           null,
           null,
           null,
           null,
           null,
           null,
           null,
           null,
           null,
           null,
           null,
           null,
           null
          ],
          [
           null,
           null,
           null,
           null,
           null,
           null,
           null,
           null,
           null,
           null,
           null,
           null,
           null,
           null,
           null,
           null,
           null,
           null,
           null,
           null,
           null,
           null,
           null,
           0.9488465396188566,
           null,
           null,
           null,
           null,
           null,
           null,
           null,
           null,
           null,
           null,
           null,
           null,
           null,
           null,
           null,
           null,
           null,
           null,
           null,
           null,
           null,
           null,
           null,
           null,
           null,
           null,
           null,
           null,
           null,
           null,
           null,
           null,
           null,
           null,
           null
          ],
          [
           null,
           null,
           null,
           null,
           null,
           null,
           null,
           null,
           null,
           null,
           null,
           null,
           null,
           null,
           null,
           null,
           null,
           null,
           null,
           null,
           null,
           null,
           0.9568706118355065,
           null,
           null,
           null,
           null,
           null,
           null,
           null,
           null,
           null,
           null,
           null,
           null,
           null,
           null,
           null,
           null,
           null,
           null,
           null,
           null,
           null,
           null,
           null,
           null,
           null,
           null,
           null,
           null,
           null,
           null,
           null,
           null,
           null,
           null,
           null,
           null
          ],
          [
           null,
           null,
           null,
           null,
           null,
           null,
           null,
           null,
           null,
           null,
           null,
           null,
           null,
           null,
           null,
           null,
           null,
           null,
           null,
           null,
           null,
           null,
           null,
           null,
           null,
           null,
           null,
           null,
           null,
           null,
           null,
           null,
           null,
           null,
           null,
           null,
           null,
           null,
           null,
           null,
           null,
           null,
           null,
           null,
           null,
           null,
           null,
           null,
           null,
           null,
           null,
           null,
           null,
           null,
           null,
           null,
           0.8345035105315948,
           null,
           null
          ],
          [
           null,
           null,
           null,
           null,
           null,
           null,
           null,
           null,
           null,
           null,
           null,
           null,
           null,
           0.9398194583751254,
           null,
           null,
           null,
           null,
           null,
           null,
           null,
           null,
           null,
           null,
           null,
           null,
           null,
           null,
           null,
           null,
           null,
           null,
           null,
           null,
           null,
           null,
           null,
           null,
           null,
           null,
           null,
           null,
           null,
           null,
           null,
           null,
           null,
           null,
           null,
           null,
           null,
           null,
           null,
           null,
           null,
           null,
           null,
           null,
           null
          ],
          [
           null,
           null,
           null,
           null,
           null,
           null,
           null,
           null,
           null,
           null,
           null,
           null,
           null,
           null,
           0.8876629889669007,
           null,
           null,
           null,
           null,
           null,
           null,
           null,
           null,
           null,
           null,
           null,
           null,
           null,
           null,
           null,
           null,
           null,
           null,
           null,
           null,
           null,
           null,
           null,
           null,
           null,
           null,
           null,
           null,
           null,
           null,
           null,
           null,
           null,
           null,
           null,
           null,
           null,
           null,
           null,
           null,
           null,
           null,
           null,
           null
          ],
          [
           null,
           null,
           null,
           null,
           null,
           null,
           null,
           null,
           null,
           null,
           null,
           null,
           null,
           null,
           null,
           null,
           null,
           null,
           null,
           null,
           null,
           null,
           null,
           null,
           null,
           null,
           null,
           null,
           null,
           null,
           null,
           null,
           null,
           null,
           null,
           null,
           null,
           0.9047141424272819,
           null,
           null,
           null,
           null,
           null,
           null,
           null,
           null,
           null,
           null,
           null,
           null,
           null,
           null,
           null,
           null,
           null,
           null,
           null,
           null,
           null
          ],
          [
           null,
           null,
           null,
           null,
           null,
           null,
           null,
           null,
           null,
           null,
           null,
           null,
           null,
           null,
           null,
           null,
           null,
           null,
           null,
           null,
           null,
           null,
           null,
           null,
           null,
           null,
           null,
           null,
           null,
           null,
           null,
           null,
           null,
           null,
           null,
           null,
           null,
           null,
           0.8756268806419257,
           null,
           null,
           null,
           null,
           null,
           null,
           null,
           null,
           null,
           null,
           null,
           null,
           null,
           null,
           null,
           null,
           null,
           null,
           null,
           null
          ],
          [
           null,
           null,
           null,
           null,
           null,
           null,
           null,
           null,
           null,
           null,
           null,
           null,
           null,
           null,
           null,
           null,
           null,
           null,
           null,
           null,
           null,
           null,
           null,
           null,
           null,
           null,
           null,
           null,
           null,
           null,
           null,
           null,
           null,
           null,
           null,
           null,
           0.9297893681043129,
           null,
           null,
           null,
           null,
           null,
           null,
           null,
           null,
           null,
           null,
           null,
           null,
           null,
           null,
           null,
           null,
           null,
           null,
           null,
           null,
           null,
           null
          ],
          [
           null,
           null,
           null,
           null,
           null,
           null,
           null,
           null,
           null,
           null,
           null,
           null,
           null,
           null,
           null,
           null,
           null,
           null,
           null,
           null,
           null,
           null,
           null,
           null,
           null,
           null,
           null,
           null,
           null,
           null,
           null,
           null,
           null,
           null,
           null,
           null,
           null,
           null,
           null,
           null,
           null,
           null,
           null,
           null,
           null,
           null,
           null,
           null,
           null,
           null,
           null,
           null,
           null,
           null,
           null,
           null,
           null,
           null,
           null
          ]
         ]
        },
        {
         "marker": {
          "color": "black",
          "line": {
           "color": "Gray",
           "width": 2
          }
         },
         "mode": "markers",
         "name": "Feasible Trial",
         "showlegend": false,
         "type": "scatter",
         "x": [
          0.31590520301744557,
          0.5426775012659383,
          0.0011822001605089412,
          0.006310088536267612,
          0.0026319009010018542,
          0.005117402953991288,
          0.07773085419037588,
          0.05891840621827026,
          0.043773957520152985,
          0.027480948119442433,
          0.017822855419055206,
          0.015557374027672344,
          0.008917087588276475,
          0.00870140992382103,
          0.01627422956879721,
          0.009401391490708701,
          0.005162457498236318,
          0.0023215890570763213,
          0.008744245242652646,
          0.014057881759726323,
          0.01429971928812102,
          0.013715735630791915,
          0.010429512689711757,
          0.009427355395105285,
          0.006722483761444383,
          0.003217701754776556,
          0.0033065893683139154,
          0.003449882097480872,
          0.0016392349447077522,
          0.001240504655004294,
          0.0006687484821540599,
          0.0018682122995686528,
          0.0015725052198331143,
          0.0009682065319620246,
          0.003566239797151446,
          0.0018816541378399814,
          0.0018967089174987252,
          0.0019131191214287876,
          0.0021744842566569452,
          0.0025891007834191507,
          0.0024718740735935702,
          0.0025809044436379924,
          0.0013206609133237868,
          0.0013189934575070093,
          0.001572139644075951,
          0.0008237829644741565,
          0.000337715361177041,
          0.00012725219298679466,
          0.00015510491382421146,
          0.00015949366398607264,
          0.00015513961838545582,
          0.00015227401681962202,
          0.00010458221148896693,
          0.00015136313622506788,
          0.0001972447057113473,
          0.00022959733430083292,
          0.002076938921350812
         ],
         "y": [
          0.002533576586905862,
          0.0015654556048191575,
          0.002929003673735735,
          0.005794049655765155,
          0.0024107554914811163,
          0.00737100393533737,
          0.00007395433016540838,
          0.0000770013913333817,
          0.00028285700548103985,
          0.001281958536238,
          0.0014413640203793797,
          0.0014531782976816541,
          0.0009415974025752754,
          0.000996139553757456,
          0.001469115402660357,
          0.001506811172020978,
          0.003203628138699816,
          0.0013935066500821562,
          0.0008623496111178086,
          0.00003429106176887196,
          0.001186101216559254,
          0.0011135747632361373,
          0.0016482899135747894,
          0.001827833478313847,
          0.0018447116895615138,
          0.0021196195460604027,
          0.0020030574394337233,
          0.0023205599118373272,
          0.002351245852492691,
          0.0022923439319180857,
          0.002228949140655319,
          0.001972553462029245,
          0.0019183520956191442,
          0.002760967148238513,
          0.002137004664477517,
          0.002505436098447166,
          0.0024935955608917535,
          0.002416782923201809,
          0.0016840912913991004,
          0.0017495763414024101,
          0.0022158999973886963,
          0.0016526179987556926,
          0.0022481502479022664,
          0.0022945948508403843,
          0.002135055577336028,
          0.0020879177792719698,
          0.0021198384793279837,
          0.001592862100173497,
          0.002162830731378416,
          0.0020280799241795856,
          0.0020766126331887604,
          0.0020432398682155876,
          0.0018708833981317275,
          0.0018321522888294461,
          0.0020762935573331244,
          0.001922001860996799,
          0.0014778666256050758
         ]
        },
        {
         "marker": {
          "color": "#cccccc",
          "line": {
           "color": "Gray",
           "width": 2
          }
         },
         "mode": "markers",
         "name": "Infeasible Trial",
         "showlegend": false,
         "type": "scatter",
         "x": [],
         "y": []
        }
       ],
       "layout": {
        "template": {
         "data": {
          "bar": [
           {
            "error_x": {
             "color": "#2a3f5f"
            },
            "error_y": {
             "color": "#2a3f5f"
            },
            "marker": {
             "line": {
              "color": "#E5ECF6",
              "width": 0.5
             },
             "pattern": {
              "fillmode": "overlay",
              "size": 10,
              "solidity": 0.2
             }
            },
            "type": "bar"
           }
          ],
          "barpolar": [
           {
            "marker": {
             "line": {
              "color": "#E5ECF6",
              "width": 0.5
             },
             "pattern": {
              "fillmode": "overlay",
              "size": 10,
              "solidity": 0.2
             }
            },
            "type": "barpolar"
           }
          ],
          "carpet": [
           {
            "aaxis": {
             "endlinecolor": "#2a3f5f",
             "gridcolor": "white",
             "linecolor": "white",
             "minorgridcolor": "white",
             "startlinecolor": "#2a3f5f"
            },
            "baxis": {
             "endlinecolor": "#2a3f5f",
             "gridcolor": "white",
             "linecolor": "white",
             "minorgridcolor": "white",
             "startlinecolor": "#2a3f5f"
            },
            "type": "carpet"
           }
          ],
          "choropleth": [
           {
            "colorbar": {
             "outlinewidth": 0,
             "ticks": ""
            },
            "type": "choropleth"
           }
          ],
          "contour": [
           {
            "colorbar": {
             "outlinewidth": 0,
             "ticks": ""
            },
            "colorscale": [
             [
              0,
              "#0d0887"
             ],
             [
              0.1111111111111111,
              "#46039f"
             ],
             [
              0.2222222222222222,
              "#7201a8"
             ],
             [
              0.3333333333333333,
              "#9c179e"
             ],
             [
              0.4444444444444444,
              "#bd3786"
             ],
             [
              0.5555555555555556,
              "#d8576b"
             ],
             [
              0.6666666666666666,
              "#ed7953"
             ],
             [
              0.7777777777777778,
              "#fb9f3a"
             ],
             [
              0.8888888888888888,
              "#fdca26"
             ],
             [
              1,
              "#f0f921"
             ]
            ],
            "type": "contour"
           }
          ],
          "contourcarpet": [
           {
            "colorbar": {
             "outlinewidth": 0,
             "ticks": ""
            },
            "type": "contourcarpet"
           }
          ],
          "heatmap": [
           {
            "colorbar": {
             "outlinewidth": 0,
             "ticks": ""
            },
            "colorscale": [
             [
              0,
              "#0d0887"
             ],
             [
              0.1111111111111111,
              "#46039f"
             ],
             [
              0.2222222222222222,
              "#7201a8"
             ],
             [
              0.3333333333333333,
              "#9c179e"
             ],
             [
              0.4444444444444444,
              "#bd3786"
             ],
             [
              0.5555555555555556,
              "#d8576b"
             ],
             [
              0.6666666666666666,
              "#ed7953"
             ],
             [
              0.7777777777777778,
              "#fb9f3a"
             ],
             [
              0.8888888888888888,
              "#fdca26"
             ],
             [
              1,
              "#f0f921"
             ]
            ],
            "type": "heatmap"
           }
          ],
          "heatmapgl": [
           {
            "colorbar": {
             "outlinewidth": 0,
             "ticks": ""
            },
            "colorscale": [
             [
              0,
              "#0d0887"
             ],
             [
              0.1111111111111111,
              "#46039f"
             ],
             [
              0.2222222222222222,
              "#7201a8"
             ],
             [
              0.3333333333333333,
              "#9c179e"
             ],
             [
              0.4444444444444444,
              "#bd3786"
             ],
             [
              0.5555555555555556,
              "#d8576b"
             ],
             [
              0.6666666666666666,
              "#ed7953"
             ],
             [
              0.7777777777777778,
              "#fb9f3a"
             ],
             [
              0.8888888888888888,
              "#fdca26"
             ],
             [
              1,
              "#f0f921"
             ]
            ],
            "type": "heatmapgl"
           }
          ],
          "histogram": [
           {
            "marker": {
             "pattern": {
              "fillmode": "overlay",
              "size": 10,
              "solidity": 0.2
             }
            },
            "type": "histogram"
           }
          ],
          "histogram2d": [
           {
            "colorbar": {
             "outlinewidth": 0,
             "ticks": ""
            },
            "colorscale": [
             [
              0,
              "#0d0887"
             ],
             [
              0.1111111111111111,
              "#46039f"
             ],
             [
              0.2222222222222222,
              "#7201a8"
             ],
             [
              0.3333333333333333,
              "#9c179e"
             ],
             [
              0.4444444444444444,
              "#bd3786"
             ],
             [
              0.5555555555555556,
              "#d8576b"
             ],
             [
              0.6666666666666666,
              "#ed7953"
             ],
             [
              0.7777777777777778,
              "#fb9f3a"
             ],
             [
              0.8888888888888888,
              "#fdca26"
             ],
             [
              1,
              "#f0f921"
             ]
            ],
            "type": "histogram2d"
           }
          ],
          "histogram2dcontour": [
           {
            "colorbar": {
             "outlinewidth": 0,
             "ticks": ""
            },
            "colorscale": [
             [
              0,
              "#0d0887"
             ],
             [
              0.1111111111111111,
              "#46039f"
             ],
             [
              0.2222222222222222,
              "#7201a8"
             ],
             [
              0.3333333333333333,
              "#9c179e"
             ],
             [
              0.4444444444444444,
              "#bd3786"
             ],
             [
              0.5555555555555556,
              "#d8576b"
             ],
             [
              0.6666666666666666,
              "#ed7953"
             ],
             [
              0.7777777777777778,
              "#fb9f3a"
             ],
             [
              0.8888888888888888,
              "#fdca26"
             ],
             [
              1,
              "#f0f921"
             ]
            ],
            "type": "histogram2dcontour"
           }
          ],
          "mesh3d": [
           {
            "colorbar": {
             "outlinewidth": 0,
             "ticks": ""
            },
            "type": "mesh3d"
           }
          ],
          "parcoords": [
           {
            "line": {
             "colorbar": {
              "outlinewidth": 0,
              "ticks": ""
             }
            },
            "type": "parcoords"
           }
          ],
          "pie": [
           {
            "automargin": true,
            "type": "pie"
           }
          ],
          "scatter": [
           {
            "fillpattern": {
             "fillmode": "overlay",
             "size": 10,
             "solidity": 0.2
            },
            "type": "scatter"
           }
          ],
          "scatter3d": [
           {
            "line": {
             "colorbar": {
              "outlinewidth": 0,
              "ticks": ""
             }
            },
            "marker": {
             "colorbar": {
              "outlinewidth": 0,
              "ticks": ""
             }
            },
            "type": "scatter3d"
           }
          ],
          "scattercarpet": [
           {
            "marker": {
             "colorbar": {
              "outlinewidth": 0,
              "ticks": ""
             }
            },
            "type": "scattercarpet"
           }
          ],
          "scattergeo": [
           {
            "marker": {
             "colorbar": {
              "outlinewidth": 0,
              "ticks": ""
             }
            },
            "type": "scattergeo"
           }
          ],
          "scattergl": [
           {
            "marker": {
             "colorbar": {
              "outlinewidth": 0,
              "ticks": ""
             }
            },
            "type": "scattergl"
           }
          ],
          "scattermapbox": [
           {
            "marker": {
             "colorbar": {
              "outlinewidth": 0,
              "ticks": ""
             }
            },
            "type": "scattermapbox"
           }
          ],
          "scatterpolar": [
           {
            "marker": {
             "colorbar": {
              "outlinewidth": 0,
              "ticks": ""
             }
            },
            "type": "scatterpolar"
           }
          ],
          "scatterpolargl": [
           {
            "marker": {
             "colorbar": {
              "outlinewidth": 0,
              "ticks": ""
             }
            },
            "type": "scatterpolargl"
           }
          ],
          "scatterternary": [
           {
            "marker": {
             "colorbar": {
              "outlinewidth": 0,
              "ticks": ""
             }
            },
            "type": "scatterternary"
           }
          ],
          "surface": [
           {
            "colorbar": {
             "outlinewidth": 0,
             "ticks": ""
            },
            "colorscale": [
             [
              0,
              "#0d0887"
             ],
             [
              0.1111111111111111,
              "#46039f"
             ],
             [
              0.2222222222222222,
              "#7201a8"
             ],
             [
              0.3333333333333333,
              "#9c179e"
             ],
             [
              0.4444444444444444,
              "#bd3786"
             ],
             [
              0.5555555555555556,
              "#d8576b"
             ],
             [
              0.6666666666666666,
              "#ed7953"
             ],
             [
              0.7777777777777778,
              "#fb9f3a"
             ],
             [
              0.8888888888888888,
              "#fdca26"
             ],
             [
              1,
              "#f0f921"
             ]
            ],
            "type": "surface"
           }
          ],
          "table": [
           {
            "cells": {
             "fill": {
              "color": "#EBF0F8"
             },
             "line": {
              "color": "white"
             }
            },
            "header": {
             "fill": {
              "color": "#C8D4E3"
             },
             "line": {
              "color": "white"
             }
            },
            "type": "table"
           }
          ]
         },
         "layout": {
          "annotationdefaults": {
           "arrowcolor": "#2a3f5f",
           "arrowhead": 0,
           "arrowwidth": 1
          },
          "autotypenumbers": "strict",
          "coloraxis": {
           "colorbar": {
            "outlinewidth": 0,
            "ticks": ""
           }
          },
          "colorscale": {
           "diverging": [
            [
             0,
             "#8e0152"
            ],
            [
             0.1,
             "#c51b7d"
            ],
            [
             0.2,
             "#de77ae"
            ],
            [
             0.3,
             "#f1b6da"
            ],
            [
             0.4,
             "#fde0ef"
            ],
            [
             0.5,
             "#f7f7f7"
            ],
            [
             0.6,
             "#e6f5d0"
            ],
            [
             0.7,
             "#b8e186"
            ],
            [
             0.8,
             "#7fbc41"
            ],
            [
             0.9,
             "#4d9221"
            ],
            [
             1,
             "#276419"
            ]
           ],
           "sequential": [
            [
             0,
             "#0d0887"
            ],
            [
             0.1111111111111111,
             "#46039f"
            ],
            [
             0.2222222222222222,
             "#7201a8"
            ],
            [
             0.3333333333333333,
             "#9c179e"
            ],
            [
             0.4444444444444444,
             "#bd3786"
            ],
            [
             0.5555555555555556,
             "#d8576b"
            ],
            [
             0.6666666666666666,
             "#ed7953"
            ],
            [
             0.7777777777777778,
             "#fb9f3a"
            ],
            [
             0.8888888888888888,
             "#fdca26"
            ],
            [
             1,
             "#f0f921"
            ]
           ],
           "sequentialminus": [
            [
             0,
             "#0d0887"
            ],
            [
             0.1111111111111111,
             "#46039f"
            ],
            [
             0.2222222222222222,
             "#7201a8"
            ],
            [
             0.3333333333333333,
             "#9c179e"
            ],
            [
             0.4444444444444444,
             "#bd3786"
            ],
            [
             0.5555555555555556,
             "#d8576b"
            ],
            [
             0.6666666666666666,
             "#ed7953"
            ],
            [
             0.7777777777777778,
             "#fb9f3a"
            ],
            [
             0.8888888888888888,
             "#fdca26"
            ],
            [
             1,
             "#f0f921"
            ]
           ]
          },
          "colorway": [
           "#636efa",
           "#EF553B",
           "#00cc96",
           "#ab63fa",
           "#FFA15A",
           "#19d3f3",
           "#FF6692",
           "#B6E880",
           "#FF97FF",
           "#FECB52"
          ],
          "font": {
           "color": "#2a3f5f"
          },
          "geo": {
           "bgcolor": "white",
           "lakecolor": "white",
           "landcolor": "#E5ECF6",
           "showlakes": true,
           "showland": true,
           "subunitcolor": "white"
          },
          "hoverlabel": {
           "align": "left"
          },
          "hovermode": "closest",
          "mapbox": {
           "style": "light"
          },
          "paper_bgcolor": "white",
          "plot_bgcolor": "#E5ECF6",
          "polar": {
           "angularaxis": {
            "gridcolor": "white",
            "linecolor": "white",
            "ticks": ""
           },
           "bgcolor": "#E5ECF6",
           "radialaxis": {
            "gridcolor": "white",
            "linecolor": "white",
            "ticks": ""
           }
          },
          "scene": {
           "xaxis": {
            "backgroundcolor": "#E5ECF6",
            "gridcolor": "white",
            "gridwidth": 2,
            "linecolor": "white",
            "showbackground": true,
            "ticks": "",
            "zerolinecolor": "white"
           },
           "yaxis": {
            "backgroundcolor": "#E5ECF6",
            "gridcolor": "white",
            "gridwidth": 2,
            "linecolor": "white",
            "showbackground": true,
            "ticks": "",
            "zerolinecolor": "white"
           },
           "zaxis": {
            "backgroundcolor": "#E5ECF6",
            "gridcolor": "white",
            "gridwidth": 2,
            "linecolor": "white",
            "showbackground": true,
            "ticks": "",
            "zerolinecolor": "white"
           }
          },
          "shapedefaults": {
           "line": {
            "color": "#2a3f5f"
           }
          },
          "ternary": {
           "aaxis": {
            "gridcolor": "white",
            "linecolor": "white",
            "ticks": ""
           },
           "baxis": {
            "gridcolor": "white",
            "linecolor": "white",
            "ticks": ""
           },
           "bgcolor": "#E5ECF6",
           "caxis": {
            "gridcolor": "white",
            "linecolor": "white",
            "ticks": ""
           }
          },
          "title": {
           "x": 0.05
          },
          "xaxis": {
           "automargin": true,
           "gridcolor": "white",
           "linecolor": "white",
           "ticks": "",
           "title": {
            "standoff": 15
           },
           "zerolinecolor": "white",
           "zerolinewidth": 2
          },
          "yaxis": {
           "automargin": true,
           "gridcolor": "white",
           "linecolor": "white",
           "ticks": "",
           "title": {
            "standoff": 15
           },
           "zerolinecolor": "white",
           "zerolinewidth": 2
          }
         }
        },
        "title": {
         "text": "Contour Plot"
        },
        "xaxis": {
         "range": [
          -4.1662963786194895,
          -0.07970398358177094
         ],
         "title": {
          "text": "lr_fast"
         },
         "type": "log"
        },
        "yaxis": {
         "range": [
          -0.000332544581909553,
          0.007737839579015795
         ],
         "title": {
          "text": "weight_decay_fast"
         }
        }
       }
      }
     },
     "metadata": {},
     "output_type": "display_data"
    }
   ],
   "source": [
    "optuna.visualization.plot_contour(study, params=[\"lr_fast\", \"weight_decay_fast\"])"
   ]
  },
  {
   "cell_type": "code",
   "execution_count": 13,
   "metadata": {},
   "outputs": [
    {
     "data": {
      "application/vnd.plotly.v1+json": {
       "config": {
        "plotlyServerURL": "https://plot.ly"
       },
       "data": [
        {
         "colorbar": {
          "title": {
           "text": "Objective Value"
          }
         },
         "colorscale": [
          [
           0,
           "rgb(247,251,255)"
          ],
          [
           0.125,
           "rgb(222,235,247)"
          ],
          [
           0.25,
           "rgb(198,219,239)"
          ],
          [
           0.375,
           "rgb(158,202,225)"
          ],
          [
           0.5,
           "rgb(107,174,214)"
          ],
          [
           0.625,
           "rgb(66,146,198)"
          ],
          [
           0.75,
           "rgb(33,113,181)"
          ],
          [
           0.875,
           "rgb(8,81,156)"
          ],
          [
           1,
           "rgb(8,48,107)"
          ]
         ],
         "connectgaps": true,
         "contours": {
          "coloring": "heatmap"
         },
         "hoverinfo": "none",
         "line": {
          "smoothing": 1.3
         },
         "reversescale": false,
         "type": "contour",
         "x": [
          13.6,
          16,
          32,
          64,
          66.4
         ],
         "y": [
          "Adam",
          "RMSprop",
          "SGD"
         ],
         "z": [
          [
           null,
           0.9297893681043129,
           0.970912738214644,
           0.8876629889669007,
           null
          ],
          [
           null,
           null,
           0.9689067201604814,
           0.892678034102307,
           null
          ],
          [
           null,
           null,
           0.8345035105315948,
           0.8716148445336008,
           null
          ]
         ]
        },
        {
         "marker": {
          "color": "black",
          "line": {
           "color": "Gray",
           "width": 2
          }
         },
         "mode": "markers",
         "name": "Feasible Trial",
         "showlegend": false,
         "type": "scatter",
         "x": [
          32,
          64,
          64,
          32,
          64,
          16,
          32,
          16,
          16,
          16,
          16,
          16,
          32,
          32,
          16,
          16,
          32,
          64,
          32,
          32,
          32,
          32,
          32,
          32,
          32,
          32,
          32,
          32,
          32,
          32,
          32,
          32,
          32,
          32,
          32,
          32,
          32,
          32,
          32,
          32,
          32,
          32,
          32,
          32,
          32,
          32,
          32,
          32,
          32,
          32,
          32,
          32,
          32,
          32,
          32,
          32,
          32
         ],
         "y": [
          "SGD",
          "SGD",
          "Adam",
          "RMSprop",
          "RMSprop",
          "Adam",
          "Adam",
          "Adam",
          "Adam",
          "Adam",
          "Adam",
          "Adam",
          "Adam",
          "Adam",
          "Adam",
          "Adam",
          "Adam",
          "RMSprop",
          "Adam",
          "Adam",
          "Adam",
          "Adam",
          "Adam",
          "Adam",
          "Adam",
          "Adam",
          "Adam",
          "Adam",
          "Adam",
          "Adam",
          "Adam",
          "Adam",
          "Adam",
          "Adam",
          "RMSprop",
          "RMSprop",
          "RMSprop",
          "RMSprop",
          "RMSprop",
          "RMSprop",
          "RMSprop",
          "RMSprop",
          "RMSprop",
          "RMSprop",
          "RMSprop",
          "RMSprop",
          "RMSprop",
          "RMSprop",
          "RMSprop",
          "RMSprop",
          "RMSprop",
          "RMSprop",
          "RMSprop",
          "RMSprop",
          "RMSprop",
          "RMSprop",
          "RMSprop"
         ]
        },
        {
         "marker": {
          "color": "#cccccc",
          "line": {
           "color": "Gray",
           "width": 2
          }
         },
         "mode": "markers",
         "name": "Infeasible Trial",
         "showlegend": false,
         "type": "scatter",
         "x": [],
         "y": []
        }
       ],
       "layout": {
        "template": {
         "data": {
          "bar": [
           {
            "error_x": {
             "color": "#2a3f5f"
            },
            "error_y": {
             "color": "#2a3f5f"
            },
            "marker": {
             "line": {
              "color": "#E5ECF6",
              "width": 0.5
             },
             "pattern": {
              "fillmode": "overlay",
              "size": 10,
              "solidity": 0.2
             }
            },
            "type": "bar"
           }
          ],
          "barpolar": [
           {
            "marker": {
             "line": {
              "color": "#E5ECF6",
              "width": 0.5
             },
             "pattern": {
              "fillmode": "overlay",
              "size": 10,
              "solidity": 0.2
             }
            },
            "type": "barpolar"
           }
          ],
          "carpet": [
           {
            "aaxis": {
             "endlinecolor": "#2a3f5f",
             "gridcolor": "white",
             "linecolor": "white",
             "minorgridcolor": "white",
             "startlinecolor": "#2a3f5f"
            },
            "baxis": {
             "endlinecolor": "#2a3f5f",
             "gridcolor": "white",
             "linecolor": "white",
             "minorgridcolor": "white",
             "startlinecolor": "#2a3f5f"
            },
            "type": "carpet"
           }
          ],
          "choropleth": [
           {
            "colorbar": {
             "outlinewidth": 0,
             "ticks": ""
            },
            "type": "choropleth"
           }
          ],
          "contour": [
           {
            "colorbar": {
             "outlinewidth": 0,
             "ticks": ""
            },
            "colorscale": [
             [
              0,
              "#0d0887"
             ],
             [
              0.1111111111111111,
              "#46039f"
             ],
             [
              0.2222222222222222,
              "#7201a8"
             ],
             [
              0.3333333333333333,
              "#9c179e"
             ],
             [
              0.4444444444444444,
              "#bd3786"
             ],
             [
              0.5555555555555556,
              "#d8576b"
             ],
             [
              0.6666666666666666,
              "#ed7953"
             ],
             [
              0.7777777777777778,
              "#fb9f3a"
             ],
             [
              0.8888888888888888,
              "#fdca26"
             ],
             [
              1,
              "#f0f921"
             ]
            ],
            "type": "contour"
           }
          ],
          "contourcarpet": [
           {
            "colorbar": {
             "outlinewidth": 0,
             "ticks": ""
            },
            "type": "contourcarpet"
           }
          ],
          "heatmap": [
           {
            "colorbar": {
             "outlinewidth": 0,
             "ticks": ""
            },
            "colorscale": [
             [
              0,
              "#0d0887"
             ],
             [
              0.1111111111111111,
              "#46039f"
             ],
             [
              0.2222222222222222,
              "#7201a8"
             ],
             [
              0.3333333333333333,
              "#9c179e"
             ],
             [
              0.4444444444444444,
              "#bd3786"
             ],
             [
              0.5555555555555556,
              "#d8576b"
             ],
             [
              0.6666666666666666,
              "#ed7953"
             ],
             [
              0.7777777777777778,
              "#fb9f3a"
             ],
             [
              0.8888888888888888,
              "#fdca26"
             ],
             [
              1,
              "#f0f921"
             ]
            ],
            "type": "heatmap"
           }
          ],
          "heatmapgl": [
           {
            "colorbar": {
             "outlinewidth": 0,
             "ticks": ""
            },
            "colorscale": [
             [
              0,
              "#0d0887"
             ],
             [
              0.1111111111111111,
              "#46039f"
             ],
             [
              0.2222222222222222,
              "#7201a8"
             ],
             [
              0.3333333333333333,
              "#9c179e"
             ],
             [
              0.4444444444444444,
              "#bd3786"
             ],
             [
              0.5555555555555556,
              "#d8576b"
             ],
             [
              0.6666666666666666,
              "#ed7953"
             ],
             [
              0.7777777777777778,
              "#fb9f3a"
             ],
             [
              0.8888888888888888,
              "#fdca26"
             ],
             [
              1,
              "#f0f921"
             ]
            ],
            "type": "heatmapgl"
           }
          ],
          "histogram": [
           {
            "marker": {
             "pattern": {
              "fillmode": "overlay",
              "size": 10,
              "solidity": 0.2
             }
            },
            "type": "histogram"
           }
          ],
          "histogram2d": [
           {
            "colorbar": {
             "outlinewidth": 0,
             "ticks": ""
            },
            "colorscale": [
             [
              0,
              "#0d0887"
             ],
             [
              0.1111111111111111,
              "#46039f"
             ],
             [
              0.2222222222222222,
              "#7201a8"
             ],
             [
              0.3333333333333333,
              "#9c179e"
             ],
             [
              0.4444444444444444,
              "#bd3786"
             ],
             [
              0.5555555555555556,
              "#d8576b"
             ],
             [
              0.6666666666666666,
              "#ed7953"
             ],
             [
              0.7777777777777778,
              "#fb9f3a"
             ],
             [
              0.8888888888888888,
              "#fdca26"
             ],
             [
              1,
              "#f0f921"
             ]
            ],
            "type": "histogram2d"
           }
          ],
          "histogram2dcontour": [
           {
            "colorbar": {
             "outlinewidth": 0,
             "ticks": ""
            },
            "colorscale": [
             [
              0,
              "#0d0887"
             ],
             [
              0.1111111111111111,
              "#46039f"
             ],
             [
              0.2222222222222222,
              "#7201a8"
             ],
             [
              0.3333333333333333,
              "#9c179e"
             ],
             [
              0.4444444444444444,
              "#bd3786"
             ],
             [
              0.5555555555555556,
              "#d8576b"
             ],
             [
              0.6666666666666666,
              "#ed7953"
             ],
             [
              0.7777777777777778,
              "#fb9f3a"
             ],
             [
              0.8888888888888888,
              "#fdca26"
             ],
             [
              1,
              "#f0f921"
             ]
            ],
            "type": "histogram2dcontour"
           }
          ],
          "mesh3d": [
           {
            "colorbar": {
             "outlinewidth": 0,
             "ticks": ""
            },
            "type": "mesh3d"
           }
          ],
          "parcoords": [
           {
            "line": {
             "colorbar": {
              "outlinewidth": 0,
              "ticks": ""
             }
            },
            "type": "parcoords"
           }
          ],
          "pie": [
           {
            "automargin": true,
            "type": "pie"
           }
          ],
          "scatter": [
           {
            "fillpattern": {
             "fillmode": "overlay",
             "size": 10,
             "solidity": 0.2
            },
            "type": "scatter"
           }
          ],
          "scatter3d": [
           {
            "line": {
             "colorbar": {
              "outlinewidth": 0,
              "ticks": ""
             }
            },
            "marker": {
             "colorbar": {
              "outlinewidth": 0,
              "ticks": ""
             }
            },
            "type": "scatter3d"
           }
          ],
          "scattercarpet": [
           {
            "marker": {
             "colorbar": {
              "outlinewidth": 0,
              "ticks": ""
             }
            },
            "type": "scattercarpet"
           }
          ],
          "scattergeo": [
           {
            "marker": {
             "colorbar": {
              "outlinewidth": 0,
              "ticks": ""
             }
            },
            "type": "scattergeo"
           }
          ],
          "scattergl": [
           {
            "marker": {
             "colorbar": {
              "outlinewidth": 0,
              "ticks": ""
             }
            },
            "type": "scattergl"
           }
          ],
          "scattermapbox": [
           {
            "marker": {
             "colorbar": {
              "outlinewidth": 0,
              "ticks": ""
             }
            },
            "type": "scattermapbox"
           }
          ],
          "scatterpolar": [
           {
            "marker": {
             "colorbar": {
              "outlinewidth": 0,
              "ticks": ""
             }
            },
            "type": "scatterpolar"
           }
          ],
          "scatterpolargl": [
           {
            "marker": {
             "colorbar": {
              "outlinewidth": 0,
              "ticks": ""
             }
            },
            "type": "scatterpolargl"
           }
          ],
          "scatterternary": [
           {
            "marker": {
             "colorbar": {
              "outlinewidth": 0,
              "ticks": ""
             }
            },
            "type": "scatterternary"
           }
          ],
          "surface": [
           {
            "colorbar": {
             "outlinewidth": 0,
             "ticks": ""
            },
            "colorscale": [
             [
              0,
              "#0d0887"
             ],
             [
              0.1111111111111111,
              "#46039f"
             ],
             [
              0.2222222222222222,
              "#7201a8"
             ],
             [
              0.3333333333333333,
              "#9c179e"
             ],
             [
              0.4444444444444444,
              "#bd3786"
             ],
             [
              0.5555555555555556,
              "#d8576b"
             ],
             [
              0.6666666666666666,
              "#ed7953"
             ],
             [
              0.7777777777777778,
              "#fb9f3a"
             ],
             [
              0.8888888888888888,
              "#fdca26"
             ],
             [
              1,
              "#f0f921"
             ]
            ],
            "type": "surface"
           }
          ],
          "table": [
           {
            "cells": {
             "fill": {
              "color": "#EBF0F8"
             },
             "line": {
              "color": "white"
             }
            },
            "header": {
             "fill": {
              "color": "#C8D4E3"
             },
             "line": {
              "color": "white"
             }
            },
            "type": "table"
           }
          ]
         },
         "layout": {
          "annotationdefaults": {
           "arrowcolor": "#2a3f5f",
           "arrowhead": 0,
           "arrowwidth": 1
          },
          "autotypenumbers": "strict",
          "coloraxis": {
           "colorbar": {
            "outlinewidth": 0,
            "ticks": ""
           }
          },
          "colorscale": {
           "diverging": [
            [
             0,
             "#8e0152"
            ],
            [
             0.1,
             "#c51b7d"
            ],
            [
             0.2,
             "#de77ae"
            ],
            [
             0.3,
             "#f1b6da"
            ],
            [
             0.4,
             "#fde0ef"
            ],
            [
             0.5,
             "#f7f7f7"
            ],
            [
             0.6,
             "#e6f5d0"
            ],
            [
             0.7,
             "#b8e186"
            ],
            [
             0.8,
             "#7fbc41"
            ],
            [
             0.9,
             "#4d9221"
            ],
            [
             1,
             "#276419"
            ]
           ],
           "sequential": [
            [
             0,
             "#0d0887"
            ],
            [
             0.1111111111111111,
             "#46039f"
            ],
            [
             0.2222222222222222,
             "#7201a8"
            ],
            [
             0.3333333333333333,
             "#9c179e"
            ],
            [
             0.4444444444444444,
             "#bd3786"
            ],
            [
             0.5555555555555556,
             "#d8576b"
            ],
            [
             0.6666666666666666,
             "#ed7953"
            ],
            [
             0.7777777777777778,
             "#fb9f3a"
            ],
            [
             0.8888888888888888,
             "#fdca26"
            ],
            [
             1,
             "#f0f921"
            ]
           ],
           "sequentialminus": [
            [
             0,
             "#0d0887"
            ],
            [
             0.1111111111111111,
             "#46039f"
            ],
            [
             0.2222222222222222,
             "#7201a8"
            ],
            [
             0.3333333333333333,
             "#9c179e"
            ],
            [
             0.4444444444444444,
             "#bd3786"
            ],
            [
             0.5555555555555556,
             "#d8576b"
            ],
            [
             0.6666666666666666,
             "#ed7953"
            ],
            [
             0.7777777777777778,
             "#fb9f3a"
            ],
            [
             0.8888888888888888,
             "#fdca26"
            ],
            [
             1,
             "#f0f921"
            ]
           ]
          },
          "colorway": [
           "#636efa",
           "#EF553B",
           "#00cc96",
           "#ab63fa",
           "#FFA15A",
           "#19d3f3",
           "#FF6692",
           "#B6E880",
           "#FF97FF",
           "#FECB52"
          ],
          "font": {
           "color": "#2a3f5f"
          },
          "geo": {
           "bgcolor": "white",
           "lakecolor": "white",
           "landcolor": "#E5ECF6",
           "showlakes": true,
           "showland": true,
           "subunitcolor": "white"
          },
          "hoverlabel": {
           "align": "left"
          },
          "hovermode": "closest",
          "mapbox": {
           "style": "light"
          },
          "paper_bgcolor": "white",
          "plot_bgcolor": "#E5ECF6",
          "polar": {
           "angularaxis": {
            "gridcolor": "white",
            "linecolor": "white",
            "ticks": ""
           },
           "bgcolor": "#E5ECF6",
           "radialaxis": {
            "gridcolor": "white",
            "linecolor": "white",
            "ticks": ""
           }
          },
          "scene": {
           "xaxis": {
            "backgroundcolor": "#E5ECF6",
            "gridcolor": "white",
            "gridwidth": 2,
            "linecolor": "white",
            "showbackground": true,
            "ticks": "",
            "zerolinecolor": "white"
           },
           "yaxis": {
            "backgroundcolor": "#E5ECF6",
            "gridcolor": "white",
            "gridwidth": 2,
            "linecolor": "white",
            "showbackground": true,
            "ticks": "",
            "zerolinecolor": "white"
           },
           "zaxis": {
            "backgroundcolor": "#E5ECF6",
            "gridcolor": "white",
            "gridwidth": 2,
            "linecolor": "white",
            "showbackground": true,
            "ticks": "",
            "zerolinecolor": "white"
           }
          },
          "shapedefaults": {
           "line": {
            "color": "#2a3f5f"
           }
          },
          "ternary": {
           "aaxis": {
            "gridcolor": "white",
            "linecolor": "white",
            "ticks": ""
           },
           "baxis": {
            "gridcolor": "white",
            "linecolor": "white",
            "ticks": ""
           },
           "bgcolor": "#E5ECF6",
           "caxis": {
            "gridcolor": "white",
            "linecolor": "white",
            "ticks": ""
           }
          },
          "title": {
           "x": 0.05
          },
          "xaxis": {
           "automargin": true,
           "gridcolor": "white",
           "linecolor": "white",
           "ticks": "",
           "title": {
            "standoff": 15
           },
           "zerolinecolor": "white",
           "zerolinewidth": 2
          },
          "yaxis": {
           "automargin": true,
           "gridcolor": "white",
           "linecolor": "white",
           "ticks": "",
           "title": {
            "standoff": 15
           },
           "zerolinecolor": "white",
           "zerolinewidth": 2
          }
         }
        },
        "title": {
         "text": "Contour Plot"
        },
        "xaxis": {
         "range": [
          13.6,
          66.4
         ],
         "title": {
          "text": "batch_size"
         }
        },
        "yaxis": {
         "range": [
          -0.1,
          2.1
         ],
         "title": {
          "text": "optimizer"
         },
         "type": "category"
        }
       }
      }
     },
     "metadata": {},
     "output_type": "display_data"
    }
   ],
   "source": [
    "optuna.visualization.plot_contour(study, params=[\"batch_size\", \"optimizer\"])\n"
   ]
  }
 ],
 "metadata": {
  "kernelspec": {
   "display_name": "venv",
   "language": "python",
   "name": "python3"
  },
  "language_info": {
   "codemirror_mode": {
    "name": "ipython",
    "version": 3
   },
   "file_extension": ".py",
   "mimetype": "text/x-python",
   "name": "python",
   "nbconvert_exporter": "python",
   "pygments_lexer": "ipython3",
   "version": "3.11.4"
  }
 },
 "nbformat": 4,
 "nbformat_minor": 2
}
