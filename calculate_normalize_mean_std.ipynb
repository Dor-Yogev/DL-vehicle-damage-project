{
 "cells": [
  {
   "cell_type": "code",
   "execution_count": 7,
   "metadata": {},
   "outputs": [],
   "source": [
    "from dataset import get_datasets\n",
    "import torch\n",
    "from torchvision import transforms\n",
    "from torch.utils.data import DataLoader\n",
    "from tqdm import tqdm\n",
    "\n",
    "device = torch.device(\"cuda:0\" if torch.cuda.is_available() else \"cpu\") "
   ]
  },
  {
   "cell_type": "code",
   "execution_count": 8,
   "metadata": {},
   "outputs": [],
   "source": [
    "def get_mean_and_std(dataloader, count):\n",
    "    mean = torch.zeros(3, device=device)\n",
    "    std = torch.zeros(3, device=device)\n",
    "    \n",
    "    for images, _ in tqdm(dataloader):\n",
    "        images = images.to(device)\n",
    "        mean += images.sum(axis=[0, 2, 3])\n",
    "        std += (images**2).sum(axis=[0, 2, 3])\n",
    "\n",
    "    mean /= count\n",
    "    std /= count\n",
    "\n",
    "    return mean, std"
   ]
  },
  {
   "cell_type": "code",
   "execution_count": 11,
   "metadata": {},
   "outputs": [
    {
     "name": "stderr",
     "output_type": "stream",
     "text": [
      "100%|██████████| 41/41 [00:51<00:00,  1.26s/it]\n"
     ]
    }
   ],
   "source": [
    "image_dim = 224\n",
    "\n",
    "transform = transforms.Compose([\n",
    "    transforms.Resize((image_dim, image_dim)),\n",
    "    transforms.ToTensor()\n",
    "])\n",
    "\n",
    "train_dataset, _, _ = get_datasets(transform)\n",
    "train_dataloader = DataLoader(train_dataset, batch_size=128, shuffle=False, num_workers=0)\n",
    "\n",
    "mean, std = get_mean_and_std(train_dataloader, len(train_dataset)*image_dim*image_dim)"
   ]
  },
  {
   "cell_type": "code",
   "execution_count": 12,
   "metadata": {},
   "outputs": [
    {
     "name": "stdout",
     "output_type": "stream",
     "text": [
      "The mean is: tensor([0.4772, 0.4597, 0.4612], device='cuda:0')\n",
      "The std is: tensor([0.2997, 0.2808, 0.2837], device='cuda:0')\n"
     ]
    }
   ],
   "source": [
    "print(f\"The mean is: {mean}\")\n",
    "print(f\"The std is: {std}\")"
   ]
  }
 ],
 "metadata": {
  "kernelspec": {
   "display_name": "venv",
   "language": "python",
   "name": "python3"
  },
  "language_info": {
   "codemirror_mode": {
    "name": "ipython",
    "version": 3
   },
   "file_extension": ".py",
   "mimetype": "text/x-python",
   "name": "python",
   "nbconvert_exporter": "python",
   "pygments_lexer": "ipython3",
   "version": "3.11.4"
  }
 },
 "nbformat": 4,
 "nbformat_minor": 2
}
